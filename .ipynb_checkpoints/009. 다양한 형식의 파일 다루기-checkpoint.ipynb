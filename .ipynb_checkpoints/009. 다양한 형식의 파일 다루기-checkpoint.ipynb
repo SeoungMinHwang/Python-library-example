{
 "cells": [
  {
   "cell_type": "markdown",
   "id": "aae27f81",
   "metadata": {},
   "source": [
    "# CSV 파일을 읽고 쓰려면?\n",
    "## csv\n",
    "### CSV파일을 읽고 쓸 때 사용하는 모듈"
   ]
  },
  {
   "cell_type": "code",
   "execution_count": 1,
   "id": "45df4e48",
   "metadata": {
    "scrolled": true
   },
   "outputs": [],
   "source": [
    "import csv\n",
    "\n",
    "result = []\n",
    "with open('009score.csv', encoding = 'cp949') as f:\n",
    "    reader = csv.reader(f)\n",
    "    for line in reader:\n",
    "        average = sum(map(int, line[1].split(','))) / 2\n",
    "        line.append(average)\n",
    "        result.append(line)\n",
    "\n",
    "    \n",
    "with open('009score_result.csv', 'w', newline='') as f:\n",
    "    writer = csv.writer(f)\n",
    "    writer.writerows(result)"
   ]
  },
  {
   "cell_type": "markdown",
   "id": "2f058e27",
   "metadata": {},
   "source": [
    "# 설정 파일에서 정보를 읽으려면?\n",
    "## configparser\n",
    "### ini파일은 프로그램 정보를 저장하는 텍스트 문서로, [섹션]과 그 섹션에 해당하는 키 = 값 으로 구성, configparser는 이러한 형식의 ini파일을 처리할 때 사용하는 모듈"
   ]
  },
  {
   "cell_type": "markdown",
   "id": "9fa52864",
   "metadata": {},
   "source": [
    "### 009 ftp.ini\n",
    "\n",
    "\n",
    "[FTP1]  \n",
    "SERVER_IP = 111.23.56.78  \n",
    "PORT = 21  \n",
    "USERNAME = foo  \n",
    "PASSWORD = bar  \n",
    "\n",
    "[FTP2]  \n",
    "SERVER_IP = 111.23.56.79  \n",
    "PORT = 22221  \n",
    "USERNAME = admin  \n",
    "PASSWORD = hello  "
   ]
  },
  {
   "cell_type": "code",
   "execution_count": 2,
   "id": "cf024380",
   "metadata": {},
   "outputs": [
    {
     "name": "stdout",
     "output_type": "stream",
     "text": [
      "22221\n"
     ]
    }
   ],
   "source": [
    "#FTP2 섹션의 포트를 알려면?\n",
    "import configparser\n",
    "\n",
    "config = configparser.ConfigParser()\n",
    "config.read('009 ftp.ini')\n",
    "ftp2_port = config['FTP2']['PORT']\n",
    "\n",
    "print(ftp2_port)"
   ]
  },
  {
   "cell_type": "code",
   "execution_count": null,
   "id": "7963ace5",
   "metadata": {},
   "outputs": [],
   "source": []
  }
 ],
 "metadata": {
  "kernelspec": {
   "display_name": "Python 3",
   "language": "python",
   "name": "python3"
  },
  "language_info": {
   "codemirror_mode": {
    "name": "ipython",
    "version": 3
   },
   "file_extension": ".py",
   "mimetype": "text/x-python",
   "name": "python",
   "nbconvert_exporter": "python",
   "pygments_lexer": "ipython3",
   "version": "3.8.8"
  }
 },
 "nbformat": 4,
 "nbformat_minor": 5
}
