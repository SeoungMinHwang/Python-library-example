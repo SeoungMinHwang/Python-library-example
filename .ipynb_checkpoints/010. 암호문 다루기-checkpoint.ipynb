{
 "cells": [
  {
   "cell_type": "markdown",
   "id": "4fec7358",
   "metadata": {},
   "source": [
    "# 비밀번호를 암호화하여 저장하려면?\n",
    "## hashlib\n",
    "### MD5, SHA256 등의 알고리즘으로 문자열을 해싱(hashing)할 때 사용하는 모듈"
   ]
  },
  {
   "cell_type": "code",
   "execution_count": 1,
   "id": "ed034a2e",
   "metadata": {},
   "outputs": [],
   "source": [
    "import hashlib\n",
    "\n",
    "# hashlib.sha256()로 객체생성\n",
    "m = hashlib.sha256()\n",
    "#객체 m에 해싱할 문자열을 인수로 update()를 호출하여 문자열 해싱\n",
    "m.update(\"인생은 너무 짧아\".encode('utf-8'))\n",
    "\n",
    "#해싱할 문자열 추가\n",
    "m.update(', 넌 파이썬이 필요해'.encode('utf-8'))"
   ]
  },
  {
   "cell_type": "code",
   "execution_count": 2,
   "id": "b296ce6d",
   "metadata": {},
   "outputs": [
    {
     "name": "stdout",
     "output_type": "stream",
     "text": [
      "b'/s\\xaa\\xe4\\x1fZ\\xc5\\x98 \\xd1\\x02#\\xf6\\xa9\\x11\\x0f\\xd1\\xe9~\\xba#\\x18Gf)\\x8b\\xd7\\xb4\\xc7\\x9a\\x84\\x1d'\n",
      "2f73aae41f5ac59820d10223f6a9110fd1e97eba23184766298bd7b4c79a841d\n"
     ]
    }
   ],
   "source": [
    "# digest() 또는 hexdigest()함수로 해싱한 문자열 획득 \n",
    "print(m.digest())  #바이트 문자열 \n",
    "print(m.hexdigest())  # 바이트 문자열을 16진수로 반환한 문자열 "
   ]
  },
  {
   "cell_type": "code",
   "execution_count": 3,
   "id": "7fe4ec65",
   "metadata": {},
   "outputs": [
    {
     "name": "stdout",
     "output_type": "stream",
     "text": [
      "기존 비번을 입력하세요: my_pw_2252\n",
      "새로운 비번을 입력하세요: 파이썬 라이브러리 재미따^^\n"
     ]
    }
   ],
   "source": [
    "#위 내용을 적용 \n",
    "\n",
    "import hashlib\n",
    "import os\n",
    "\n",
    "def check_passwd():\n",
    "    if os.path.exists('010. pw.txt'):\n",
    "        before_passwd = input('기존 비번을 입력하세요: ')\n",
    "        m = hashlib.sha256()\n",
    "        m.update(before_passwd.encode('utf-8'))\n",
    "        with open('010. pw.txt', 'r') as f:\n",
    "            return m.hexdigest() == f.read()\n",
    "    else:\n",
    "        return True\n",
    "    \n",
    "if check_passwd():\n",
    "    passwd = input(\"새로운 비번을 입력하세요: \")\n",
    "    with open('010. pw.txt', 'w') as f:\n",
    "        m = hashlib.sha256()\n",
    "        m.update(passwd.encode('utf-8'))\n",
    "        f.write(m.hexdigest())\n",
    "else:\n",
    "    print('비번 불일치')\n",
    "        \n",
    "    "
   ]
  },
  {
   "cell_type": "markdown",
   "id": "1eb0a60a",
   "metadata": {},
   "source": [
    "# 메시지 변조를 확인하려면?\n",
    "## hmac\n",
    "### 비밀 키와 해싱 기술을 사용하여 송수신자 간 메시지 변조를 확인 할수 있도록 하는 모듈"
   ]
  },
  {
   "cell_type": "code",
   "execution_count": 4,
   "id": "418adf1b",
   "metadata": {},
   "outputs": [],
   "source": [
    "# hmac_send_sample.py\n",
    "import hmac\n",
    "import hashlib\n",
    "\n",
    "#송신자와 수신자만 아는 비밀키 \n",
    "SECRET_KEY = 'PYTHON'\n",
    "\n",
    "important_message = '이건 누구나 볼 수 있는 원본 파일의 내용이야~'\n",
    "\n",
    "with open('010. message.txt', 'w') as f:\n",
    "    f.write(important_message)\n",
    "    \n",
    "with open('010. message_digest.txt', 'w') as f:\n",
    "        #hmac.new(비밀 키, 메시지, 암호화 방식)\n",
    "    m = hmac.new(SECRET_KEY.encode('utf-8'), important_message.encode('utf-8'), hashlib.sha256)\n",
    "    f.write(m.hexdigest())"
   ]
  },
  {
   "cell_type": "code",
   "execution_count": 5,
   "id": "3e7f0579",
   "metadata": {},
   "outputs": [
    {
     "name": "stdout",
     "output_type": "stream",
     "text": [
      "메시지가 변조되지 않았습니다. 안전합니다\n"
     ]
    }
   ],
   "source": [
    "# hmac_recv_sample.py\n",
    "# 010. message.txt파일과 010. message_digest.txt파일을 받고 변조되었는지 검증 \n",
    "import hmac\n",
    "import hashlib\n",
    "\n",
    "#송신자와 수신자만 아는 비밀키 \n",
    "SECRET_KEY = 'PYTHON'\n",
    "\n",
    "with open('010. message_digest.txt') as f:\n",
    "    message_digest = f.read()\n",
    "    \n",
    "with open('010. message.txt') as f:\n",
    "    message = f.read()\n",
    "    m = hmac.new(SECRET_KEY.encode('utf-8'), message.encode('utf-8'), hashlib.sha256)\n",
    "    \n",
    "if m.hexdigest() == message_digest:\n",
    "    print(\"메시지가 변조되지 않았습니다. 안전합니다\")\n",
    "else:\n",
    "    print('메시지가 변조되었습니다. 비상비상')"
   ]
  },
  {
   "cell_type": "markdown",
   "id": "e476e4af",
   "metadata": {},
   "source": [
    "# 안전한 난수를 생성하려면?\n",
    "## secrets\n",
    "### 비밀 관리에 필요한 안전한 난수를 생성하고자 할때 사용하는 모듈"
   ]
  },
  {
   "cell_type": "code",
   "execution_count": 6,
   "id": "e9c2fc6b",
   "metadata": {},
   "outputs": [
    {
     "name": "stdout",
     "output_type": "stream",
     "text": [
      "f63ee1f567813622300b807bffaf04ec\n"
     ]
    }
   ],
   "source": [
    "import secrets\n",
    "\n",
    "#secrets.token_hex(n)은 n바이트의 16진수 문자 난수 생성\n",
    "key = secrets.token_hex(16)\n",
    "print(key)"
   ]
  }
 ],
 "metadata": {
  "kernelspec": {
   "display_name": "Python 3",
   "language": "python",
   "name": "python3"
  },
  "language_info": {
   "codemirror_mode": {
    "name": "ipython",
    "version": 3
   },
   "file_extension": ".py",
   "mimetype": "text/x-python",
   "name": "python",
   "nbconvert_exporter": "python",
   "pygments_lexer": "ipython3",
   "version": "3.8.8"
  }
 },
 "nbformat": 4,
 "nbformat_minor": 5
}
