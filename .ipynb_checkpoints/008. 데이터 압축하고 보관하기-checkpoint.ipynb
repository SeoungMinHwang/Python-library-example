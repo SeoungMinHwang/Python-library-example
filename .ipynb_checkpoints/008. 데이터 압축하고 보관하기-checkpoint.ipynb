{
 "cells": [
  {
   "cell_type": "markdown",
   "id": "4add82de",
   "metadata": {},
   "source": [
    "# 데이터 크기를 줄여 전송하려면?\n",
    "## zlib \n",
    "### 데이터를 압축하거나 해제할 때 사용하는 모듈"
   ]
  },
  {
   "cell_type": "code",
   "execution_count": 1,
   "id": "dc635b4e",
   "metadata": {},
   "outputs": [
    {
     "name": "stdout",
     "output_type": "stream",
     "text": [
      "220000\n"
     ]
    }
   ],
   "source": [
    "import zlib\n",
    "\n",
    "data = \"인생은 너무 짧고, 넌 파이썬이 필요해!\" * 10000\n",
    "print(len(data))"
   ]
  },
  {
   "cell_type": "code",
   "execution_count": 2,
   "id": "dc24c1f6",
   "metadata": {},
   "outputs": [
    {
     "name": "stdout",
     "output_type": "stream",
     "text": [
      "1592\n"
     ]
    }
   ],
   "source": [
    "compress_data = zlib.compress(data.encode(encoding = 'utf-8'))\n",
    "print(len(compress_data))"
   ]
  },
  {
   "cell_type": "code",
   "execution_count": 3,
   "id": "c19bf469",
   "metadata": {},
   "outputs": [
    {
     "name": "stdout",
     "output_type": "stream",
     "text": [
      "220000\n"
     ]
    }
   ],
   "source": [
    "org_data = zlib.decompress(compress_data).decode('utf-8')\n",
    "print(len(org_data))"
   ]
  },
  {
   "cell_type": "markdown",
   "id": "6ce611ef",
   "metadata": {},
   "source": [
    "# bzip2 알고리즘으로 압축하려면?\n",
    "## bz2\n",
    "### bzip2 압축 알고리즘으로 데이터를 압축하거나 해제할 때 사용하는 모듈"
   ]
  },
  {
   "cell_type": "code",
   "execution_count": 4,
   "id": "51b02c26",
   "metadata": {},
   "outputs": [
    {
     "name": "stdout",
     "output_type": "stream",
     "text": [
      "220000\n"
     ]
    }
   ],
   "source": [
    "import bz2\n",
    "data = \"인생은 너무 짧고, 넌 파이썬이 필요해!\" * 10000\n",
    "print(len(data))"
   ]
  },
  {
   "cell_type": "code",
   "execution_count": 5,
   "id": "0284a222",
   "metadata": {},
   "outputs": [
    {
     "name": "stdout",
     "output_type": "stream",
     "text": [
      "185\n"
     ]
    }
   ],
   "source": [
    "\n",
    "compress_data = bz2.compress(data.encode(encoding = 'utf-8'))\n",
    "print(len(compress_data))"
   ]
  },
  {
   "cell_type": "code",
   "execution_count": 6,
   "id": "dbc0ce72",
   "metadata": {},
   "outputs": [
    {
     "name": "stdout",
     "output_type": "stream",
     "text": [
      "220000\n"
     ]
    }
   ],
   "source": [
    "org_data = bz2.decompress(compress_data).decode('utf-8')\n",
    "print(len(org_data))\n",
    "\n",
    "# 같은 데이터라 assert 예외로 안빠짐 \n",
    "assert data == org_data"
   ]
  },
  {
   "cell_type": "markdown",
   "id": "3b22e278",
   "metadata": {},
   "source": [
    "# LZMA 알고리즘으로 압축하려면?\n",
    "## lzma\n",
    "### LZMA압축 알고리즘으로 데이터를 압축하거나 해제할 때 사용하는 모듈"
   ]
  },
  {
   "cell_type": "code",
   "execution_count": 7,
   "id": "7dbc1cbe",
   "metadata": {},
   "outputs": [
    {
     "name": "stdout",
     "output_type": "stream",
     "text": [
      "220000\n"
     ]
    }
   ],
   "source": [
    "import lzma\n",
    "data = \"인생은 너무 짧고, 넌 파이썬이 필요해!\" * 10000\n",
    "print(len(data))"
   ]
  },
  {
   "cell_type": "code",
   "execution_count": 8,
   "id": "09bd4c24",
   "metadata": {},
   "outputs": [
    {
     "name": "stdout",
     "output_type": "stream",
     "text": [
      "260\n"
     ]
    }
   ],
   "source": [
    "data = \"인생은 너무 짧고, 넌 파이썬이 필요해!\" * 10000\n",
    "compress_data = lzma.compress(data.encode(encoding = 'utf-8'))\n",
    "print(len(compress_data))"
   ]
  },
  {
   "cell_type": "code",
   "execution_count": 9,
   "id": "01be5a6d",
   "metadata": {},
   "outputs": [
    {
     "name": "stdout",
     "output_type": "stream",
     "text": [
      "220000\n"
     ]
    }
   ],
   "source": [
    "org_data = lzma.decompress(compress_data).decode('utf-8')\n",
    "print(len(org_data))\n",
    "\n",
    "# 같은 데이터라 assert 예외로 안빠짐 \n",
    "assert data == org_data"
   ]
  },
  {
   "cell_type": "markdown",
   "id": "509497c7",
   "metadata": {},
   "source": [
    "# 여러 파일을 zip으로 합치려면?\n",
    "## zipfile\n",
    "### 여러 개의 파일을 zip형식으로 합치거나 이를 해제할 때 사용하는 모듈이다."
   ]
  },
  {
   "cell_type": "code",
   "execution_count": 10,
   "id": "d915a58e",
   "metadata": {},
   "outputs": [],
   "source": [
    "import zipfile \n",
    "\n",
    "\n",
    "# 압축 \n",
    "with zipfile.ZipFile('008mytext.zip', 'w') as myzip:\n",
    "    myzip.write(\"001. 텍스트 다루기.ipynb\")\n",
    "    myzip.write(\"002. 바이너리 데이터 다루기.ipynb\")\n",
    "    myzip.write(\"003. 다양한 데이터 다루기.ipynb\")"
   ]
  },
  {
   "cell_type": "code",
   "execution_count": 11,
   "id": "33fe9165",
   "metadata": {},
   "outputs": [],
   "source": [
    "# 해제\n",
    "with zipfile.ZipFile('008mytext.zip') as myzip:\n",
    "    myzip.extractall() ## <-- 파일 이름을 넣어줘서 특정 파일만 압축해제 가능"
   ]
  },
  {
   "cell_type": "markdown",
   "id": "62441469",
   "metadata": {},
   "source": [
    "# 여러 파일을 tar로 합치려면?\n",
    "## tarfile\n",
    "### 여러 개의 파일을 tar형식으로 합치거나 이를 해제할 때 사용하는 모듈"
   ]
  },
  {
   "cell_type": "code",
   "execution_count": 12,
   "id": "fe7793bf",
   "metadata": {},
   "outputs": [],
   "source": [
    "import tarfile \n",
    "\n",
    "# 압축 \n",
    "with tarfile.open('008mytext.tar', 'w') as mytar:\n",
    "    mytar.add(\"001. 텍스트 다루기.ipynb\")\n",
    "    mytar.add(\"002. 바이너리 데이터 다루기.ipynb\")\n",
    "    mytar.add(\"003. 다양한 데이터 다루기.ipynb\")\n",
    "    \n",
    "    \n",
    "# with tarfile.open('007mytext.tar', 'param') as mytar:\n",
    "#                                   'param' 위치에 w:gz     w:bz2      w:xz  을 사용하여 압축 후 하나로 합칠 수 있음 "
   ]
  },
  {
   "cell_type": "code",
   "execution_count": 13,
   "id": "1d2f387b",
   "metadata": {},
   "outputs": [],
   "source": [
    "# 해제 \n",
    "with tarfile.open('008mytext.tar') as mytar:\n",
    "    mytar.extractall() ## <-- 파일 이름을 넣어줘서 특정 파일만 압축해제 가능"
   ]
  },
  {
   "cell_type": "code",
   "execution_count": null,
   "id": "8a7c9078",
   "metadata": {},
   "outputs": [],
   "source": []
  },
  {
   "cell_type": "code",
   "execution_count": null,
   "id": "cba5b9ae",
   "metadata": {},
   "outputs": [],
   "source": []
  }
 ],
 "metadata": {
  "kernelspec": {
   "display_name": "Python 3",
   "language": "python",
   "name": "python3"
  },
  "language_info": {
   "codemirror_mode": {
    "name": "ipython",
    "version": 3
   },
   "file_extension": ".py",
   "mimetype": "text/x-python",
   "name": "python",
   "nbconvert_exporter": "python",
   "pygments_lexer": "ipython3",
   "version": "3.8.8"
  }
 },
 "nbformat": 4,
 "nbformat_minor": 5
}
