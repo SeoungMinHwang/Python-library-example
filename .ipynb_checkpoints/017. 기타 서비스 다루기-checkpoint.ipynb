{
 "cells": [
  {
   "cell_type": "markdown",
   "id": "5f7d96fd",
   "metadata": {},
   "source": [
    "# 이미지인지 확인하려면?\n",
    "## imghdr\n",
    "### 어떤 유형의 이미지 파일인지 판단할 때 사용하는 모듈"
   ]
  },
  {
   "cell_type": "code",
   "execution_count": 5,
   "id": "a9e4d72b",
   "metadata": {},
   "outputs": [
    {
     "data": {
      "text/plain": [
       "'jpeg'"
      ]
     },
     "execution_count": 5,
     "metadata": {},
     "output_type": "execute_result"
    }
   ],
   "source": [
    "import imghdr\n",
    "imghdr.what('014test.jpg')"
   ]
  },
  {
   "cell_type": "code",
   "execution_count": 7,
   "id": "6320de44",
   "metadata": {},
   "outputs": [],
   "source": [
    "imghdr.what('./011src.csv')"
   ]
  },
  {
   "cell_type": "code",
   "execution_count": 9,
   "id": "265e5528",
   "metadata": {},
   "outputs": [
    {
     "data": {
      "text/plain": [
       "\"\\nimport imghdr    \\nimport os  \\n\\nfor filename in os.listdir():  \\n    if not os.path.isdir(filename):  \\n        img_type = imghdr.what(filename)  \\n        if img_type:  \\n            os.rename(filename, filename+'.'+img_type)           \\n\""
      ]
     },
     "execution_count": 9,
     "metadata": {},
     "output_type": "execute_result"
    }
   ],
   "source": [
    "'''\n",
    "import imghdr    \n",
    "import os  \n",
    "\n",
    "for filename in os.listdir():  \n",
    "    if not os.path.isdir(filename):  \n",
    "        img_type = imghdr.what(filename)  \n",
    "        if img_type:  \n",
    "            os.rename(filename, filename+'.'+img_type)           \n",
    "'''\n",
    "\n",
    "# 만약 확장자가 날라갔다면\n",
    "#위 코드를 사용해서 이미지 확장자 복구 가능"
   ]
  },
  {
   "cell_type": "markdown",
   "id": "b76673bc",
   "metadata": {},
   "source": [
    "# 익숙한 명령행 프로그램을 만드려면?\n",
    "## cmd\n",
    "### 사용자에게 익숙한 명령행 프로그램을 작성할 때 자주 사용하는 모듈"
   ]
  },
  {
   "cell_type": "code",
   "execution_count": 10,
   "id": "a5d94ab8",
   "metadata": {},
   "outputs": [
    {
     "name": "stdout",
     "output_type": "stream",
     "text": [
      "숫자게임에 오신것을 환영합니다. 도움말은 help 또는 ? 을 입력하세요.\n",
      "\n",
      "(숫자게임) 4\n",
      "*** Unknown syntax: 4\n",
      "(숫자게임) 9\n",
      "*** Unknown syntax: 9\n",
      "(숫자게임) 7\n",
      "*** Unknown syntax: 7\n",
      "(숫자게임) 8\n",
      "*** Unknown syntax: 8\n",
      "(숫자게임) 1\n",
      "*** Unknown syntax: 1\n",
      "(숫자게임) ?\n",
      "\n",
      "Documented commands (type help <topic>):\n",
      "========================================\n",
      "answer  help  quit\n",
      "\n",
      "(숫자게임) help\n",
      "\n",
      "Documented commands (type help <topic>):\n",
      "========================================\n",
      "answer  help  quit\n",
      "\n",
      "(숫자게임) answer 5\n",
      "너무 높아요\n",
      "(숫자게임) answer2\n",
      "*** Unknown syntax: answer2\n",
      "(숫자게임) answer 2\n",
      "너무 낮아요\n",
      "(숫자게임) answer 3\n",
      "너무 낮아요\n",
      "(숫자게임) answer 4\n",
      "정답입니다!! 시도횟수:4\n"
     ]
    }
   ],
   "source": [
    "#py 파일로 cmd에서 실행하세요\n",
    "import cmd\n",
    "\n",
    "\n",
    "class NumberGame(cmd.Cmd):\n",
    "    intro = '숫자게임에 오신것을 환영합니다. 도움말은 help 또는 ? 을 입력하세요.\\n'\n",
    "    prompt = '(숫자게임) '\n",
    "\n",
    "    def do_quit(self, *arg):\n",
    "        \"\"\" 게임을 종료합니다 \"\"\"\n",
    "        return True\n",
    "\n",
    "    def preloop(self):\n",
    "        import random\n",
    "        self.answer = random.randint(1, 9)\n",
    "        self.count = 0\n",
    "\n",
    "    def do_answer(self, arg):\n",
    "        \"\"\" 1~9 사이의 숫자를 입력하세요 \"\"\"\n",
    "        n = int(arg)\n",
    "        self.count += 1\n",
    "        if n > self.answer:\n",
    "            print('너무 높아요')\n",
    "        elif n < self.answer:\n",
    "            print('너무 낮아요')\n",
    "        else:\n",
    "            print(f'정답입니다!! 시도횟수:{self.count}')\n",
    "            return True\n",
    "\n",
    "\n",
    "if __name__ == '__main__':\n",
    "    NumberGame().cmdloop()"
   ]
  },
  {
   "cell_type": "markdown",
   "id": "acddd7d1",
   "metadata": {},
   "source": [
    "# 문장을 분석하려면?\n",
    "## shlex\n",
    "### 인용이나 강조를 포함한 문장을 분석할 때 사용하는 모듈"
   ]
  },
  {
   "cell_type": "code",
   "execution_count": 2,
   "id": "91e00355",
   "metadata": {},
   "outputs": [
    {
     "data": {
      "text/plain": [
       "['Life', 'is', 'too', 'short,', 'U need Python']"
      ]
     },
     "execution_count": 2,
     "metadata": {},
     "output_type": "execute_result"
    }
   ],
   "source": [
    "import shlex\n",
    "\n",
    "a = 'Life is too short, \"U need Python\"'\n",
    "\n",
    "shlex.split(a)"
   ]
  },
  {
   "cell_type": "code",
   "execution_count": 3,
   "id": "6a221a7a",
   "metadata": {},
   "outputs": [
    {
     "data": {
      "text/plain": [
       "['Life', 'is', 'too', 'short,', '\"U need Python\"']"
      ]
     },
     "execution_count": 3,
     "metadata": {},
     "output_type": "execute_result"
    }
   ],
   "source": [
    "shlex.split(a, posix=False)"
   ]
  },
  {
   "cell_type": "markdown",
   "id": "52e0fe03",
   "metadata": {},
   "source": [
    "# 함수의 실행 시간을 비교하려면?\n",
    "## timeit\n",
    "### 코드 일부분의 실행 시간을 측정할 때 사용하는 모듈"
   ]
  },
  {
   "cell_type": "code",
   "execution_count": 6,
   "id": "e63fd91e",
   "metadata": {},
   "outputs": [
    {
     "name": "stdout",
     "output_type": "stream",
     "text": [
      "1.2539333000000852\n",
      "0.9281125999999631\n"
     ]
    }
   ],
   "source": [
    "def a():\n",
    "    result = 0\n",
    "    for i in range(10000):\n",
    "        result += i\n",
    "    return result\n",
    "\n",
    "\n",
    "def b():\n",
    "    return sum([i for i in range(10000)])\n",
    "\n",
    "\n",
    "if __name__ == '__main__':\n",
    "    import timeit\n",
    "    print(timeit.timeit(\"a()\", number=1000, globals=globals()))\n",
    "    print(timeit.timeit(\"b()\", number=1000, globals=globals()))"
   ]
  },
  {
   "cell_type": "code",
   "execution_count": null,
   "id": "94b9caae",
   "metadata": {},
   "outputs": [],
   "source": []
  },
  {
   "cell_type": "code",
   "execution_count": 7,
   "id": "a4e4cddd",
   "metadata": {},
   "outputs": [
    {
     "ename": "IndexError",
     "evalue": "list index out of range",
     "output_type": "error",
     "traceback": [
      "\u001b[1;31m---------------------------------------------------------------------------\u001b[0m",
      "\u001b[1;31mIndexError\u001b[0m                                Traceback (most recent call last)",
      "\u001b[1;32m<ipython-input-7-97773ec99cd6>\u001b[0m in \u001b[0;36m<module>\u001b[1;34m\u001b[0m\n\u001b[0;32m      1\u001b[0m \u001b[0mnumbers\u001b[0m \u001b[1;33m=\u001b[0m \u001b[1;33m[\u001b[0m\u001b[1;36m1\u001b[0m\u001b[1;33m,\u001b[0m \u001b[1;36m2\u001b[0m\u001b[1;33m,\u001b[0m \u001b[1;36m3\u001b[0m\u001b[1;33m]\u001b[0m\u001b[1;33m\u001b[0m\u001b[1;33m\u001b[0m\u001b[0m\n\u001b[0;32m      2\u001b[0m \u001b[1;32mfor\u001b[0m \u001b[0mi\u001b[0m \u001b[1;32min\u001b[0m \u001b[0mrange\u001b[0m\u001b[1;33m(\u001b[0m\u001b[0mlen\u001b[0m\u001b[1;33m(\u001b[0m\u001b[0mnumbers\u001b[0m\u001b[1;33m)\u001b[0m\u001b[1;33m)\u001b[0m\u001b[1;33m:\u001b[0m\u001b[1;33m\u001b[0m\u001b[1;33m\u001b[0m\u001b[0m\n\u001b[1;32m----> 3\u001b[1;33m     \u001b[1;32mif\u001b[0m \u001b[0mnumbers\u001b[0m\u001b[1;33m[\u001b[0m\u001b[0mi\u001b[0m\u001b[1;33m]\u001b[0m \u001b[1;33m%\u001b[0m \u001b[1;36m2\u001b[0m \u001b[1;33m==\u001b[0m \u001b[1;36m0\u001b[0m\u001b[1;33m:\u001b[0m\u001b[1;33m\u001b[0m\u001b[1;33m\u001b[0m\u001b[0m\n\u001b[0m\u001b[0;32m      4\u001b[0m         \u001b[1;32mdel\u001b[0m \u001b[0mnumbers\u001b[0m\u001b[1;33m[\u001b[0m\u001b[0mi\u001b[0m\u001b[1;33m]\u001b[0m\u001b[1;33m\u001b[0m\u001b[1;33m\u001b[0m\u001b[0m\n\u001b[0;32m      5\u001b[0m \u001b[1;33m\u001b[0m\u001b[0m\n",
      "\u001b[1;31mIndexError\u001b[0m: list index out of range"
     ]
    }
   ],
   "source": [
    "numbers = [1, 2, 3]\n",
    "for i in range(len(numbers)):\n",
    "    if numbers[i] % 2 == 0:\n",
    "        del numbers[i]\n",
    "\n",
    "print(numbers)"
   ]
  },
  {
   "cell_type": "markdown",
   "id": "1cd29665",
   "metadata": {},
   "source": [
    "# 만든 코드를 디버깅하려면?\n",
    "## pdb\n",
    "### 파이썬 코드를 디버깅 할 때 사용하는 모듈"
   ]
  },
  {
   "cell_type": "code",
   "execution_count": 10,
   "id": "0c38990b",
   "metadata": {},
   "outputs": [
    {
     "name": "stdout",
     "output_type": "stream",
     "text": [
      "> \u001b[1;32m<ipython-input-10-e7359e43e0e9>\u001b[0m(13)\u001b[0;36m<module>\u001b[1;34m()\u001b[0m\n",
      "\u001b[1;32m     11 \u001b[1;33m                    \u001b[1;31m# (l)ist 소스 코드에서 현재의 진행 위치를 출력(화살표로 표시)\u001b[0m\u001b[1;33m\u001b[0m\u001b[1;33m\u001b[0m\u001b[1;33m\u001b[0m\u001b[0m\n",
      "\u001b[0m\u001b[1;32m     12 \u001b[1;33m\u001b[1;33m\u001b[0m\u001b[0m\n",
      "\u001b[0m\u001b[1;32m---> 13 \u001b[1;33m    \u001b[1;32mif\u001b[0m \u001b[0mnumbers\u001b[0m\u001b[1;33m[\u001b[0m\u001b[0mi\u001b[0m\u001b[1;33m]\u001b[0m \u001b[1;33m%\u001b[0m \u001b[1;36m2\u001b[0m \u001b[1;33m==\u001b[0m \u001b[1;36m0\u001b[0m\u001b[1;33m:\u001b[0m\u001b[1;33m\u001b[0m\u001b[1;33m\u001b[0m\u001b[0m\n",
      "\u001b[0m\u001b[1;32m     14 \u001b[1;33m        \u001b[1;32mdel\u001b[0m \u001b[0mnumbers\u001b[0m\u001b[1;33m[\u001b[0m\u001b[0mi\u001b[0m\u001b[1;33m]\u001b[0m\u001b[1;33m\u001b[0m\u001b[1;33m\u001b[0m\u001b[0m\n",
      "\u001b[0m\u001b[1;32m     15 \u001b[1;33m\u001b[1;33m\u001b[0m\u001b[0m\n",
      "\u001b[0m\n",
      "ipdb> c\n",
      "> \u001b[1;32m<ipython-input-10-e7359e43e0e9>\u001b[0m(7)\u001b[0;36m<module>\u001b[1;34m()\u001b[0m\n",
      "\u001b[1;32m      5 \u001b[1;33m\u001b[1;33m\u001b[0m\u001b[0m\n",
      "\u001b[0m\u001b[1;32m      6 \u001b[1;33m\u001b[1;33m\u001b[0m\u001b[0m\n",
      "\u001b[0m\u001b[1;32m----> 7 \u001b[1;33m    \u001b[0mpdb\u001b[0m\u001b[1;33m.\u001b[0m\u001b[0mset_trace\u001b[0m\u001b[1;33m(\u001b[0m\u001b[1;33m)\u001b[0m  \u001b[1;31m# 중단점 설정\u001b[0m\u001b[1;33m\u001b[0m\u001b[1;33m\u001b[0m\u001b[0m\n",
      "\u001b[0m\u001b[1;32m      8 \u001b[1;33m                    \u001b[1;31m# 중단점 명령어\u001b[0m\u001b[1;33m\u001b[0m\u001b[1;33m\u001b[0m\u001b[1;33m\u001b[0m\u001b[0m\n",
      "\u001b[0m\u001b[1;32m      9 \u001b[1;33m                    \u001b[1;31m#(c)ontinue 다음 중단점이동 만약 없다면 끝까지 실행\u001b[0m\u001b[1;33m\u001b[0m\u001b[1;33m\u001b[0m\u001b[1;33m\u001b[0m\u001b[0m\n",
      "\u001b[0m\n",
      "ipdb> i\n",
      "1\n",
      "ipdb> numbers\n",
      "[1, 2, 3]\n",
      "ipdb> c\n",
      "> \u001b[1;32m<ipython-input-10-e7359e43e0e9>\u001b[0m(13)\u001b[0;36m<module>\u001b[1;34m()\u001b[0m\n",
      "\u001b[1;32m     11 \u001b[1;33m                    \u001b[1;31m# (l)ist 소스 코드에서 현재의 진행 위치를 출력(화살표로 표시)\u001b[0m\u001b[1;33m\u001b[0m\u001b[1;33m\u001b[0m\u001b[1;33m\u001b[0m\u001b[0m\n",
      "\u001b[0m\u001b[1;32m     12 \u001b[1;33m\u001b[1;33m\u001b[0m\u001b[0m\n",
      "\u001b[0m\u001b[1;32m---> 13 \u001b[1;33m    \u001b[1;32mif\u001b[0m \u001b[0mnumbers\u001b[0m\u001b[1;33m[\u001b[0m\u001b[0mi\u001b[0m\u001b[1;33m]\u001b[0m \u001b[1;33m%\u001b[0m \u001b[1;36m2\u001b[0m \u001b[1;33m==\u001b[0m \u001b[1;36m0\u001b[0m\u001b[1;33m:\u001b[0m\u001b[1;33m\u001b[0m\u001b[1;33m\u001b[0m\u001b[0m\n",
      "\u001b[0m\u001b[1;32m     14 \u001b[1;33m        \u001b[1;32mdel\u001b[0m \u001b[0mnumbers\u001b[0m\u001b[1;33m[\u001b[0m\u001b[0mi\u001b[0m\u001b[1;33m]\u001b[0m\u001b[1;33m\u001b[0m\u001b[1;33m\u001b[0m\u001b[0m\n",
      "\u001b[0m\u001b[1;32m     15 \u001b[1;33m\u001b[1;33m\u001b[0m\u001b[0m\n",
      "\u001b[0m\n",
      "ipdb> c\n"
     ]
    },
    {
     "ename": "IndexError",
     "evalue": "list index out of range",
     "output_type": "error",
     "traceback": [
      "\u001b[1;31m---------------------------------------------------------------------------\u001b[0m",
      "\u001b[1;31mIndexError\u001b[0m                                Traceback (most recent call last)",
      "\u001b[1;32m<ipython-input-10-e7359e43e0e9>\u001b[0m in \u001b[0;36m<module>\u001b[1;34m\u001b[0m\n\u001b[0;32m     11\u001b[0m                     \u001b[1;31m# (l)ist 소스 코드에서 현재의 진행 위치를 출력(화살표로 표시)\u001b[0m\u001b[1;33m\u001b[0m\u001b[1;33m\u001b[0m\u001b[1;33m\u001b[0m\u001b[0m\n\u001b[0;32m     12\u001b[0m \u001b[1;33m\u001b[0m\u001b[0m\n\u001b[1;32m---> 13\u001b[1;33m     \u001b[1;32mif\u001b[0m \u001b[0mnumbers\u001b[0m\u001b[1;33m[\u001b[0m\u001b[0mi\u001b[0m\u001b[1;33m]\u001b[0m \u001b[1;33m%\u001b[0m \u001b[1;36m2\u001b[0m \u001b[1;33m==\u001b[0m \u001b[1;36m0\u001b[0m\u001b[1;33m:\u001b[0m\u001b[1;33m\u001b[0m\u001b[1;33m\u001b[0m\u001b[0m\n\u001b[0m\u001b[0;32m     14\u001b[0m         \u001b[1;32mdel\u001b[0m \u001b[0mnumbers\u001b[0m\u001b[1;33m[\u001b[0m\u001b[0mi\u001b[0m\u001b[1;33m]\u001b[0m\u001b[1;33m\u001b[0m\u001b[1;33m\u001b[0m\u001b[0m\n\u001b[0;32m     15\u001b[0m \u001b[1;33m\u001b[0m\u001b[0m\n",
      "\u001b[1;31mIndexError\u001b[0m: list index out of range"
     ]
    }
   ],
   "source": [
    "import pdb\n",
    "\n",
    "numbers = [1, 2, 3]\n",
    "for i in range(len(numbers)):\n",
    "    \n",
    "    \n",
    "    pdb.set_trace()  # 중단점 설정\n",
    "                    # 중단점 명령어 \n",
    "                    #(c)ontinue 다음 중단점이동 만약 없다면 끝까지 실행\n",
    "                    # (n)ext 다음 문장으로 이동\n",
    "                    # (l)ist 소스 코드에서 현재의 진행 위치를 출력(화살표로 표시)\n",
    "    \n",
    "    if numbers[i] % 2 == 0:\n",
    "        del numbers[i]\n",
    "\n",
    "print(numbers)"
   ]
  },
  {
   "cell_type": "markdown",
   "id": "3ef16a47",
   "metadata": {},
   "source": [
    "# 매개변수를 전달하여 실행하려면?\n",
    "## sys.argv\n",
    "### 파이썬 스크립트로 전달한 명령행 매개변수를 처리할 때 사용하는 모듈\n"
   ]
  },
  {
   "cell_type": "markdown",
   "id": "9ef96bee",
   "metadata": {},
   "source": [
    "매개변수를 전달받아 이를 처리하는 파이썬 프로그램을 만들고자 한다. 그 첫 단계로, 다음과 같이 동작하는 파이썬 프로그램 argv_upper.py는 어떻게 만들어야 할까?  \n",
    "\n",
    "c:\\projects\\pylib>python argv_upper.py life is too short, you need python.  \n",
    "LIFE IS TOO SHORT, YOU NEED PYTHON.  \n",
    "즉, argv_upper.py 라는 파이썬 스크립트에 life is too short, you need python.이라는 인수를 전달하면 이를 모두 대문자로 바꾸어 출력해야 한다.  "
   ]
  },
  {
   "cell_type": "markdown",
   "id": "73e07649",
   "metadata": {},
   "source": [
    "python argv_upper.py life is too short, you need python. 명령을 수행하면 sys.argv에는 다음과 같은 값이 저장된다.  \n",
    "\n",
    "\n",
    "첫 번째 인덱스 값은 파이썬 파일의 제목   \n",
    "['argv_upper.py', 'life', 'is', 'too', 'short,', 'you', 'need', 'python.']  "
   ]
  },
  {
   "cell_type": "code",
   "execution_count": 11,
   "id": "c42b6dac",
   "metadata": {},
   "outputs": [
    {
     "name": "stdout",
     "output_type": "stream",
     "text": [
      "-F C:\\USERS\\QQ221\\APPDATA\\ROAMING\\JUPYTER\\RUNTIME\\KERNEL-A054FB09-F845-4059-85B2-B8B7DCBB61F3.JSON\n"
     ]
    }
   ],
   "source": [
    "import sys\n",
    "\n",
    "print(' '.join(map(str.upper, sys.argv[1:])))"
   ]
  },
  {
   "cell_type": "markdown",
   "id": "beccacc4",
   "metadata": {},
   "source": [
    "# 객체를 출력하거나 비교하려면?\n",
    "## dataclasses\n",
    "### 데이터를 저장하는 용도의 데이터 클래스를 만들 때 사용하는 모듈"
   ]
  },
  {
   "cell_type": "code",
   "execution_count": 15,
   "id": "823021a1",
   "metadata": {},
   "outputs": [
    {
     "name": "stdout",
     "output_type": "stream",
     "text": [
      "<__main__.User object at 0x00000162ABC365E0> False\n"
     ]
    }
   ],
   "source": [
    "class User:\n",
    "    def __init__(self, name, age, married=False):\n",
    "        self.name = name\n",
    "        self.age = age\n",
    "        self.married = married\n",
    "        \n",
    "user1 = User(\"황성민\", 25, True)\n",
    "user2 = User(\"황성민\", 25, True)\n",
    "# 출력시 데이터의 주소가 나오고 데이터가 같더라도 주소가 다르면 False 가 출력된다,\n",
    "print(user1, user1 == user2)\n",
    "\n",
    "# 출력시 데이터가 나오고 데이터가 같으면 True를 반환하게 할려면?"
   ]
  },
  {
   "cell_type": "code",
   "execution_count": 17,
   "id": "7f64c549",
   "metadata": {},
   "outputs": [
    {
     "name": "stdout",
     "output_type": "stream",
     "text": [
      "User(name='황성민', age=25, married=True)\n",
      "True\n"
     ]
    }
   ],
   "source": [
    "from dataclasses import dataclass\n",
    "\n",
    "@dataclass\n",
    "class User:\n",
    "    name: str\n",
    "    age: int\n",
    "    married: bool = False\n",
    "\n",
    "\n",
    "user1 = User(\"황성민\", 25, True)\n",
    "user2 = User(\"황성민\", 25, True)\n",
    "\n",
    "print(user1)\n",
    "print(user1 == user2)"
   ]
  },
  {
   "cell_type": "markdown",
   "id": "4ecc7d08",
   "metadata": {},
   "source": [
    "# 반드시 메서드를 구현하도록 하려면?\n",
    "## abc\n",
    "### 추상클래스를 정의할 때 사용하는 모듈"
   ]
  },
  {
   "cell_type": "code",
   "execution_count": 18,
   "id": "e9a52212",
   "metadata": {
    "collapsed": true
   },
   "outputs": [
    {
     "ename": "NotImplementedError",
     "evalue": "",
     "output_type": "error",
     "traceback": [
      "\u001b[1;31m---------------------------------------------------------------------------\u001b[0m",
      "\u001b[1;31mNotImplementedError\u001b[0m                       Traceback (most recent call last)",
      "\u001b[1;32m<ipython-input-18-5f4dedd75b17>\u001b[0m in \u001b[0;36m<module>\u001b[1;34m\u001b[0m\n\u001b[0;32m      9\u001b[0m \u001b[1;33m\u001b[0m\u001b[0m\n\u001b[0;32m     10\u001b[0m \u001b[0meagle\u001b[0m \u001b[1;33m=\u001b[0m \u001b[0mEagle\u001b[0m\u001b[1;33m(\u001b[0m\u001b[1;33m)\u001b[0m\u001b[1;33m\u001b[0m\u001b[1;33m\u001b[0m\u001b[0m\n\u001b[1;32m---> 11\u001b[1;33m \u001b[0meagle\u001b[0m\u001b[1;33m.\u001b[0m\u001b[0mfly\u001b[0m\u001b[1;33m(\u001b[0m\u001b[1;33m)\u001b[0m\u001b[1;33m\u001b[0m\u001b[1;33m\u001b[0m\u001b[0m\n\u001b[0m",
      "\u001b[1;32m<ipython-input-18-5f4dedd75b17>\u001b[0m in \u001b[0;36mfly\u001b[1;34m(self)\u001b[0m\n\u001b[0;32m      1\u001b[0m \u001b[1;32mclass\u001b[0m \u001b[0mBird\u001b[0m\u001b[1;33m:\u001b[0m\u001b[1;33m\u001b[0m\u001b[1;33m\u001b[0m\u001b[0m\n\u001b[0;32m      2\u001b[0m     \u001b[1;32mdef\u001b[0m \u001b[0mfly\u001b[0m\u001b[1;33m(\u001b[0m\u001b[0mself\u001b[0m\u001b[1;33m)\u001b[0m\u001b[1;33m:\u001b[0m\u001b[1;33m\u001b[0m\u001b[1;33m\u001b[0m\u001b[0m\n\u001b[1;32m----> 3\u001b[1;33m         \u001b[1;32mraise\u001b[0m \u001b[0mNotImplementedError\u001b[0m\u001b[1;33m\u001b[0m\u001b[1;33m\u001b[0m\u001b[0m\n\u001b[0m\u001b[0;32m      4\u001b[0m \u001b[1;33m\u001b[0m\u001b[0m\n\u001b[0;32m      5\u001b[0m \u001b[1;33m\u001b[0m\u001b[0m\n",
      "\u001b[1;31mNotImplementedError\u001b[0m: "
     ]
    }
   ],
   "source": [
    "class Bird:\n",
    "    def fly(self):\n",
    "        raise NotImplementedError\n",
    "\n",
    "\n",
    "class Eagle(Bird):\n",
    "    pass\n",
    "\n",
    "\n",
    "eagle = Eagle()\n",
    "eagle.fly()"
   ]
  },
  {
   "cell_type": "code",
   "execution_count": null,
   "id": "9a8efce6",
   "metadata": {},
   "outputs": [],
   "source": [
    "#자식 클래스가 fly() 메서드를 구현하지 않았다면 메서드 호출 시점이 아닌 객체 생성 시점에 오류가 발생하도록 \n",
    "#이 코드를 수정하려면 어떻게 해야 할까?"
   ]
  },
  {
   "cell_type": "code",
   "execution_count": 19,
   "id": "5c8be8b8",
   "metadata": {},
   "outputs": [
    {
     "ename": "TypeError",
     "evalue": "Can't instantiate abstract class Eagle with abstract methods fly",
     "output_type": "error",
     "traceback": [
      "\u001b[1;31m---------------------------------------------------------------------------\u001b[0m",
      "\u001b[1;31mTypeError\u001b[0m                                 Traceback (most recent call last)",
      "\u001b[1;32m<ipython-input-19-c67747da0033>\u001b[0m in \u001b[0;36m<module>\u001b[1;34m\u001b[0m\n\u001b[0;32m     12\u001b[0m \u001b[1;33m\u001b[0m\u001b[0m\n\u001b[0;32m     13\u001b[0m \u001b[1;33m\u001b[0m\u001b[0m\n\u001b[1;32m---> 14\u001b[1;33m \u001b[0meagle\u001b[0m \u001b[1;33m=\u001b[0m \u001b[0mEagle\u001b[0m\u001b[1;33m(\u001b[0m\u001b[1;33m)\u001b[0m\u001b[1;33m\u001b[0m\u001b[1;33m\u001b[0m\u001b[0m\n\u001b[0m\u001b[0;32m     15\u001b[0m \u001b[0meagle\u001b[0m\u001b[1;33m.\u001b[0m\u001b[0mfly\u001b[0m\u001b[1;33m(\u001b[0m\u001b[1;33m)\u001b[0m\u001b[1;33m\u001b[0m\u001b[1;33m\u001b[0m\u001b[0m\n",
      "\u001b[1;31mTypeError\u001b[0m: Can't instantiate abstract class Eagle with abstract methods fly"
     ]
    }
   ],
   "source": [
    "from abc import ABCMeta, abstractmethod\n",
    "\n",
    "\n",
    "class Bird(metaclass=ABCMeta):\n",
    "    @abstractmethod\n",
    "    def fly(self):\n",
    "        pass\n",
    "\n",
    "\n",
    "class Eagle(Bird):\n",
    "    pass\n",
    "\n",
    "\n",
    "eagle = Eagle()\n",
    "eagle.fly()"
   ]
  },
  {
   "cell_type": "markdown",
   "id": "56466d76",
   "metadata": {},
   "source": [
    "# 프로그램 종료 시 특정 작업을 실행하려면?\n",
    "## atexit\n",
    "### 파이썬 프로그램을 종료할 때 특정 코드를 마지막으로 실행하고자 사용하는 모듈"
   ]
  },
  {
   "cell_type": "code",
   "execution_count": 20,
   "id": "6fe5d89c",
   "metadata": {},
   "outputs": [
    {
     "name": "stdout",
     "output_type": "stream",
     "text": [
      "작업중..\n",
      "작업중..\n",
      "작업중..\n",
      "작업중..\n"
     ]
    },
    {
     "ename": "KeyboardInterrupt",
     "evalue": "",
     "output_type": "error",
     "traceback": [
      "\u001b[1;31m---------------------------------------------------------------------------\u001b[0m",
      "\u001b[1;31mKeyboardInterrupt\u001b[0m                         Traceback (most recent call last)",
      "\u001b[1;32m<ipython-input-20-6f0e4df7a6d7>\u001b[0m in \u001b[0;36m<module>\u001b[1;34m\u001b[0m\n\u001b[0;32m      6\u001b[0m \u001b[1;32mwhile\u001b[0m \u001b[1;32mTrue\u001b[0m\u001b[1;33m:\u001b[0m\u001b[1;33m\u001b[0m\u001b[1;33m\u001b[0m\u001b[0m\n\u001b[0;32m      7\u001b[0m     \u001b[0mprint\u001b[0m\u001b[1;33m(\u001b[0m\u001b[1;34m\"작업중..\"\u001b[0m\u001b[1;33m)\u001b[0m\u001b[1;33m\u001b[0m\u001b[1;33m\u001b[0m\u001b[0m\n\u001b[1;32m----> 8\u001b[1;33m     \u001b[0mtime\u001b[0m\u001b[1;33m.\u001b[0m\u001b[0msleep\u001b[0m\u001b[1;33m(\u001b[0m\u001b[1;36m1\u001b[0m\u001b[1;33m)\u001b[0m\u001b[1;33m\u001b[0m\u001b[1;33m\u001b[0m\u001b[0m\n\u001b[0m",
      "\u001b[1;31mKeyboardInterrupt\u001b[0m: "
     ]
    }
   ],
   "source": [
    "import time\n",
    "\n",
    "def handle_exit(text):\n",
    "    print(text)\n",
    "\n",
    "while True:\n",
    "    print(\"작업중..\")\n",
    "    time.sleep(1)"
   ]
  },
  {
   "cell_type": "code",
   "execution_count": 21,
   "id": "1a8b364d",
   "metadata": {},
   "outputs": [
    {
     "name": "stdout",
     "output_type": "stream",
     "text": [
      "작업중..\n",
      "작업중..\n",
      "작업중..\n",
      "작업중..\n",
      "작업중..\n"
     ]
    },
    {
     "ename": "KeyboardInterrupt",
     "evalue": "",
     "output_type": "error",
     "traceback": [
      "\u001b[1;31m---------------------------------------------------------------------------\u001b[0m",
      "\u001b[1;31mKeyboardInterrupt\u001b[0m                         Traceback (most recent call last)",
      "\u001b[1;32m<ipython-input-21-18c0959d0ff7>\u001b[0m in \u001b[0;36m<module>\u001b[1;34m\u001b[0m\n\u001b[0;32m     12\u001b[0m \u001b[1;32mwhile\u001b[0m \u001b[1;32mTrue\u001b[0m\u001b[1;33m:\u001b[0m\u001b[1;33m\u001b[0m\u001b[1;33m\u001b[0m\u001b[0m\n\u001b[0;32m     13\u001b[0m     \u001b[0mprint\u001b[0m\u001b[1;33m(\u001b[0m\u001b[1;34m\"작업중..\"\u001b[0m\u001b[1;33m)\u001b[0m\u001b[1;33m\u001b[0m\u001b[1;33m\u001b[0m\u001b[0m\n\u001b[1;32m---> 14\u001b[1;33m     \u001b[0mtime\u001b[0m\u001b[1;33m.\u001b[0m\u001b[0msleep\u001b[0m\u001b[1;33m(\u001b[0m\u001b[1;36m1\u001b[0m\u001b[1;33m)\u001b[0m\u001b[1;33m\u001b[0m\u001b[1;33m\u001b[0m\u001b[0m\n\u001b[0m",
      "\u001b[1;31mKeyboardInterrupt\u001b[0m: "
     ]
    }
   ],
   "source": [
    "# 위 코드에서 코드 종료 시 handle_exit함수가 실행되도록 하려면?\n",
    "# .py 파일에서 실행해 주세요.\n",
    "\n",
    "import time\n",
    "import atexit\n",
    "\n",
    "\n",
    "def handle_exit(msg):\n",
    "    print(msg)\n",
    "\n",
    "\n",
    "atexit.register(handle_exit, \"프로그램 종료시 반드시 호출되어야 합니다.\")\n",
    "while True:\n",
    "    print(\"작업중..\")\n",
    "    time.sleep(1)"
   ]
  },
  {
   "cell_type": "markdown",
   "id": "0a2d0e9f",
   "metadata": {},
   "source": [
    "# 오류 위치와 그 원인을 알려면?\n",
    "## traceback\n",
    "### 오류 추적 모듈\n"
   ]
  },
  {
   "cell_type": "code",
   "execution_count": 23,
   "id": "7f7d7b6e",
   "metadata": {},
   "outputs": [
    {
     "name": "stdout",
     "output_type": "stream",
     "text": [
      "오류가 발생했습니다.\n"
     ]
    }
   ],
   "source": [
    "def a():\n",
    "    return 1/0\n",
    "\n",
    "\n",
    "def b():\n",
    "    a()\n",
    "\n",
    "\n",
    "def main():\n",
    "    try:\n",
    "        b()\n",
    "    except:\n",
    "        print(\"오류가 발생했습니다.\")\n",
    "\n",
    "\n",
    "main()"
   ]
  },
  {
   "cell_type": "code",
   "execution_count": 24,
   "id": "236926a6",
   "metadata": {},
   "outputs": [
    {
     "name": "stdout",
     "output_type": "stream",
     "text": [
      "오류가 발생했습니다.\n",
      "Traceback (most recent call last):\n",
      "  File \"<ipython-input-24-59885c1a2ca5>\", line 14, in main\n",
      "    b()\n",
      "  File \"<ipython-input-24-59885c1a2ca5>\", line 9, in b\n",
      "    a()\n",
      "  File \"<ipython-input-24-59885c1a2ca5>\", line 5, in a\n",
      "    return 1/0\n",
      "ZeroDivisionError: division by zero\n",
      "\n"
     ]
    }
   ],
   "source": [
    "# 코드에서 오류가 발생한 위치와 원인을 정확히 판단할 수 있도록 코드를 업그레이드하려면 어떻게 해야 할까?\n",
    "\n",
    "import traceback\n",
    "\n",
    "\n",
    "def a():\n",
    "    return 1/0\n",
    "\n",
    "\n",
    "def b():\n",
    "    a()\n",
    "\n",
    "\n",
    "def main():\n",
    "    try:\n",
    "        b()\n",
    "    except:\n",
    "        print(\"오류가 발생했습니다.\")\n",
    "        print(traceback.format_exc())\n",
    "\n",
    "\n",
    "main()"
   ]
  },
  {
   "cell_type": "markdown",
   "id": "ecd028d7",
   "metadata": {},
   "source": [
    "# 데이터 타입을 확인하려면?\n",
    "## typing\n",
    "### 타입 어노테이션 모듈\n",
    "#### py파일로 오류를 비교해 주세요"
   ]
  },
  {
   "cell_type": "code",
   "execution_count": 25,
   "id": "36b19033",
   "metadata": {},
   "outputs": [
    {
     "name": "stdout",
     "output_type": "stream",
     "text": [
      "10\n"
     ]
    }
   ],
   "source": [
    "def sum_list(numbers: list) -> int:\n",
    "    return sum(n for n in numbers)\n",
    "\n",
    "\n",
    "result = sum_list([1, 2, 3, 4])\n",
    "print(result)"
   ]
  },
  {
   "cell_type": "code",
   "execution_count": 27,
   "id": "bdbb8355",
   "metadata": {},
   "outputs": [
    {
     "ename": "TypeError",
     "evalue": "unsupported operand type(s) for +: 'int' and 'str'",
     "output_type": "error",
     "traceback": [
      "\u001b[1;31m---------------------------------------------------------------------------\u001b[0m",
      "\u001b[1;31mTypeError\u001b[0m                                 Traceback (most recent call last)",
      "\u001b[1;32m<ipython-input-27-ca862b46e8f1>\u001b[0m in \u001b[0;36m<module>\u001b[1;34m\u001b[0m\n\u001b[0;32m      3\u001b[0m \u001b[1;33m\u001b[0m\u001b[0m\n\u001b[0;32m      4\u001b[0m \u001b[1;33m\u001b[0m\u001b[0m\n\u001b[1;32m----> 5\u001b[1;33m \u001b[0mresult\u001b[0m \u001b[1;33m=\u001b[0m \u001b[0msum_list\u001b[0m\u001b[1;33m(\u001b[0m\u001b[1;33m[\u001b[0m\u001b[1;36m1\u001b[0m\u001b[1;33m,\u001b[0m \u001b[1;36m2\u001b[0m\u001b[1;33m,\u001b[0m \u001b[1;34m'3'\u001b[0m\u001b[1;33m,\u001b[0m \u001b[1;36m4\u001b[0m\u001b[1;33m]\u001b[0m\u001b[1;33m)\u001b[0m\u001b[1;33m\u001b[0m\u001b[1;33m\u001b[0m\u001b[0m\n\u001b[0m\u001b[0;32m      6\u001b[0m \u001b[0mprint\u001b[0m\u001b[1;33m(\u001b[0m\u001b[0mresult\u001b[0m\u001b[1;33m)\u001b[0m\u001b[1;33m\u001b[0m\u001b[1;33m\u001b[0m\u001b[0m\n",
      "\u001b[1;32m<ipython-input-27-ca862b46e8f1>\u001b[0m in \u001b[0;36msum_list\u001b[1;34m(numbers)\u001b[0m\n\u001b[0;32m      1\u001b[0m \u001b[1;32mdef\u001b[0m \u001b[0msum_list\u001b[0m\u001b[1;33m(\u001b[0m\u001b[0mnumbers\u001b[0m\u001b[1;33m:\u001b[0m \u001b[0mlist\u001b[0m\u001b[1;33m)\u001b[0m \u001b[1;33m->\u001b[0m \u001b[0mint\u001b[0m\u001b[1;33m:\u001b[0m\u001b[1;33m\u001b[0m\u001b[1;33m\u001b[0m\u001b[0m\n\u001b[1;32m----> 2\u001b[1;33m     \u001b[1;32mreturn\u001b[0m \u001b[0msum\u001b[0m\u001b[1;33m(\u001b[0m\u001b[0mn\u001b[0m \u001b[1;32mfor\u001b[0m \u001b[0mn\u001b[0m \u001b[1;32min\u001b[0m \u001b[0mnumbers\u001b[0m\u001b[1;33m)\u001b[0m\u001b[1;33m\u001b[0m\u001b[1;33m\u001b[0m\u001b[0m\n\u001b[0m\u001b[0;32m      3\u001b[0m \u001b[1;33m\u001b[0m\u001b[0m\n\u001b[0;32m      4\u001b[0m \u001b[1;33m\u001b[0m\u001b[0m\n\u001b[0;32m      5\u001b[0m \u001b[0mresult\u001b[0m \u001b[1;33m=\u001b[0m \u001b[0msum_list\u001b[0m\u001b[1;33m(\u001b[0m\u001b[1;33m[\u001b[0m\u001b[1;36m1\u001b[0m\u001b[1;33m,\u001b[0m \u001b[1;36m2\u001b[0m\u001b[1;33m,\u001b[0m \u001b[1;34m'3'\u001b[0m\u001b[1;33m,\u001b[0m \u001b[1;36m4\u001b[0m\u001b[1;33m]\u001b[0m\u001b[1;33m)\u001b[0m\u001b[1;33m\u001b[0m\u001b[1;33m\u001b[0m\u001b[0m\n",
      "\u001b[1;31mTypeError\u001b[0m: unsupported operand type(s) for +: 'int' and 'str'"
     ]
    }
   ],
   "source": [
    "def sum_list(numbers: list) -> int:\n",
    "    return sum(n for n in numbers)\n",
    "\n",
    "\n",
    "result = sum_list([1, 2, '3', 4])\n",
    "print(result)"
   ]
  },
  {
   "cell_type": "code",
   "execution_count": 26,
   "id": "acb27882",
   "metadata": {},
   "outputs": [
    {
     "ename": "TypeError",
     "evalue": "unsupported operand type(s) for +: 'int' and 'str'",
     "output_type": "error",
     "traceback": [
      "\u001b[1;31m---------------------------------------------------------------------------\u001b[0m",
      "\u001b[1;31mTypeError\u001b[0m                                 Traceback (most recent call last)",
      "\u001b[1;32m<ipython-input-26-e8d14acb6e00>\u001b[0m in \u001b[0;36m<module>\u001b[1;34m\u001b[0m\n\u001b[0;32m      6\u001b[0m \u001b[1;33m\u001b[0m\u001b[0m\n\u001b[0;32m      7\u001b[0m \u001b[1;33m\u001b[0m\u001b[0m\n\u001b[1;32m----> 8\u001b[1;33m \u001b[0mresult\u001b[0m \u001b[1;33m=\u001b[0m \u001b[0msum_list\u001b[0m\u001b[1;33m(\u001b[0m\u001b[1;33m[\u001b[0m\u001b[1;36m1\u001b[0m\u001b[1;33m,\u001b[0m \u001b[1;36m2\u001b[0m\u001b[1;33m,\u001b[0m \u001b[1;34m'3'\u001b[0m\u001b[1;33m,\u001b[0m \u001b[1;36m4\u001b[0m\u001b[1;33m]\u001b[0m\u001b[1;33m)\u001b[0m\u001b[1;33m\u001b[0m\u001b[1;33m\u001b[0m\u001b[0m\n\u001b[0m\u001b[0;32m      9\u001b[0m \u001b[0mprint\u001b[0m\u001b[1;33m(\u001b[0m\u001b[0mresult\u001b[0m\u001b[1;33m)\u001b[0m\u001b[1;33m\u001b[0m\u001b[1;33m\u001b[0m\u001b[0m\n",
      "\u001b[1;32m<ipython-input-26-e8d14acb6e00>\u001b[0m in \u001b[0;36msum_list\u001b[1;34m(numbers)\u001b[0m\n\u001b[0;32m      3\u001b[0m \u001b[1;33m\u001b[0m\u001b[0m\n\u001b[0;32m      4\u001b[0m \u001b[1;32mdef\u001b[0m \u001b[0msum_list\u001b[0m\u001b[1;33m(\u001b[0m\u001b[0mnumbers\u001b[0m\u001b[1;33m:\u001b[0m \u001b[0mList\u001b[0m\u001b[1;33m[\u001b[0m\u001b[0mint\u001b[0m\u001b[1;33m]\u001b[0m\u001b[1;33m)\u001b[0m \u001b[1;33m->\u001b[0m \u001b[0mint\u001b[0m\u001b[1;33m:\u001b[0m\u001b[1;33m\u001b[0m\u001b[1;33m\u001b[0m\u001b[0m\n\u001b[1;32m----> 5\u001b[1;33m     \u001b[1;32mreturn\u001b[0m \u001b[0msum\u001b[0m\u001b[1;33m(\u001b[0m\u001b[0mn\u001b[0m \u001b[1;32mfor\u001b[0m \u001b[0mn\u001b[0m \u001b[1;32min\u001b[0m \u001b[0mnumbers\u001b[0m\u001b[1;33m)\u001b[0m\u001b[1;33m\u001b[0m\u001b[1;33m\u001b[0m\u001b[0m\n\u001b[0m\u001b[0;32m      6\u001b[0m \u001b[1;33m\u001b[0m\u001b[0m\n\u001b[0;32m      7\u001b[0m \u001b[1;33m\u001b[0m\u001b[0m\n",
      "\u001b[1;31mTypeError\u001b[0m: unsupported operand type(s) for +: 'int' and 'str'"
     ]
    }
   ],
   "source": [
    "from typing import List\n",
    "\n",
    "\n",
    "def sum_list(numbers: List[int]) -> int:\n",
    "    return sum(n for n in numbers)\n",
    "\n",
    "\n",
    "result = sum_list([1, 2, '3', 4])\n",
    "print(result)"
   ]
  },
  {
   "cell_type": "code",
   "execution_count": null,
   "id": "bd671222",
   "metadata": {},
   "outputs": [],
   "source": []
  }
 ],
 "metadata": {
  "kernelspec": {
   "display_name": "Python 3",
   "language": "python",
   "name": "python3"
  },
  "language_info": {
   "codemirror_mode": {
    "name": "ipython",
    "version": 3
   },
   "file_extension": ".py",
   "mimetype": "text/x-python",
   "name": "python",
   "nbconvert_exporter": "python",
   "pygments_lexer": "ipython3",
   "version": "3.8.8"
  }
 },
 "nbformat": 4,
 "nbformat_minor": 5
}
