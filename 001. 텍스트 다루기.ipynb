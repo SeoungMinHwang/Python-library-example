{
 "cells": [
  {
   "cell_type": "markdown",
   "id": "61da8396",
   "metadata": {},
   "source": [
    "# 문자열을 줄여 표현 하려면(textwrap.shorten)\n",
    "### 문자열을 원하는 길이에 맞게 줄여 표시(...)할 떄 사용하는 함수"
   ]
  },
  {
   "cell_type": "code",
   "execution_count": 1,
   "id": "d0753db6",
   "metadata": {},
   "outputs": [
    {
     "data": {
      "text/plain": [
       "'인생은 너무 짧고 너는...'"
      ]
     },
     "execution_count": 1,
     "metadata": {},
     "output_type": "execute_result"
    }
   ],
   "source": [
    "import textwrap\n",
    "textwrap.shorten(\"인생은 너무 짧고 너는 파이썬이 필요해\", width=17)\n",
    "textwrap.shorten(\"인생은 너무 짧고 너는 파이썬이 필요해\", width=17,placeholder='...')"
   ]
  },
  {
   "cell_type": "markdown",
   "id": "29e236cd",
   "metadata": {},
   "source": [
    "# 긴 문장을 줄 바꿈 하려면(textrap.wrap)\n",
    "### 긴 문자열을 원하는 길이로 줄 바꿈 할 때 사용하는 함수"
   ]
  },
  {
   "cell_type": "code",
   "execution_count": 2,
   "id": "ceffa2d8",
   "metadata": {},
   "outputs": [
    {
     "data": {
      "text/plain": [
       "'Life is too short, you need Python! Life is too short, you need Python! Life is too short, you need Python! Life is too short, you need Python! Life is too short, you need Python! Life is too short, you need Python! Life is too short, you need Python! Life is too short, you need Python! Life is too short, you need Python! Life is too short, you need Python! '"
      ]
     },
     "execution_count": 2,
     "metadata": {},
     "output_type": "execute_result"
    }
   ],
   "source": [
    "long_text = 'Life is too short, you need Python! ' * 10\n",
    "long_text"
   ]
  },
  {
   "cell_type": "code",
   "execution_count": 3,
   "id": "91ad0497",
   "metadata": {},
   "outputs": [
    {
     "data": {
      "text/plain": [
       "['Life is too short, you need Python! Life is too short, you need',\n",
       " 'Python! Life is too short, you need Python! Life is too short, you',\n",
       " 'need Python! Life is too short, you need Python! Life is too short,',\n",
       " 'you need Python! Life is too short, you need Python! Life is too',\n",
       " 'short, you need Python! Life is too short, you need Python! Life is',\n",
       " 'too short, you need Python!']"
      ]
     },
     "execution_count": 3,
     "metadata": {},
     "output_type": "execute_result"
    }
   ],
   "source": [
    "result = textwrap.wrap(long_text, width = 70)\n",
    "result"
   ]
  },
  {
   "cell_type": "code",
   "execution_count": 4,
   "id": "3a7757d3",
   "metadata": {},
   "outputs": [
    {
     "name": "stdout",
     "output_type": "stream",
     "text": [
      "Life is too short, you need Python! Life is too short, you need\n",
      "Python! Life is too short, you need Python! Life is too short, you\n",
      "need Python! Life is too short, you need Python! Life is too short,\n",
      "you need Python! Life is too short, you need Python! Life is too\n",
      "short, you need Python! Life is too short, you need Python! Life is\n",
      "too short, you need Python!\n"
     ]
    }
   ],
   "source": [
    "print('\\n'.join(result))"
   ]
  },
  {
   "cell_type": "markdown",
   "id": "4e25d914",
   "metadata": {},
   "source": [
    "# 정규표현식으로 개인정보를 보호 하려면(RE)\n",
    "### 정규 표현식 (Regular Expressions)"
   ]
  },
  {
   "cell_type": "code",
   "execution_count": 1,
   "id": "f3f685eb",
   "metadata": {},
   "outputs": [
    {
     "name": "stdout",
     "output_type": "stream",
     "text": [
      "\n",
      "홍길동의 주민번호는 800905-******* 입니다. \n",
      "그리고 고길동의 주민번호는 700905-******* 입니다.\n",
      "그렇다면 누가 형님일까요?\n",
      "\n"
     ]
    }
   ],
   "source": [
    "import re\n",
    "\n",
    "data = \"\"\"\n",
    "홍길동의 주민번호는 800905-1049118 입니다. \n",
    "그리고 고길동의 주민번호는 700905-1059119 입니다.\n",
    "그렇다면 누가 형님일까요?\n",
    "\"\"\"\n",
    "\n",
    "pat = re.compile(\"(\\d{6})[-]\\d{7}\")\n",
    "print(pat.sub(\"\\g<1>-*******\", data))"
   ]
  },
  {
   "cell_type": "code",
   "execution_count": null,
   "id": "b618b863",
   "metadata": {},
   "outputs": [],
   "source": []
  }
 ],
 "metadata": {
  "kernelspec": {
   "display_name": "Python 3 (ipykernel)",
   "language": "python",
   "name": "python3"
  },
  "language_info": {
   "codemirror_mode": {
    "name": "ipython",
    "version": 3
   },
   "file_extension": ".py",
   "mimetype": "text/x-python",
   "name": "python",
   "nbconvert_exporter": "python",
   "pygments_lexer": "ipython3",
   "version": "3.10.9"
  }
 },
 "nbformat": 4,
 "nbformat_minor": 5
}
