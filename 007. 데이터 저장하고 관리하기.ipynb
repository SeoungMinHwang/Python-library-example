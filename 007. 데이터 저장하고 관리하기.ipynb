{
 "cells": [
  {
   "cell_type": "markdown",
   "id": "145bb47f",
   "metadata": {},
   "source": [
    "# 객체를 파일로 저장하고 불러오려면?\n",
    "## pickle \n",
    "### 파이썬에서 사용하는 딕셔너리, 리스트, 클래스등의 자료형을 변환 없이 그대로 파일로 저장하고 이를 불러올 때 사용하는 모듈"
   ]
  },
  {
   "cell_type": "code",
   "execution_count": 1,
   "id": "a483a49a",
   "metadata": {},
   "outputs": [],
   "source": [
    "import pickle\n",
    "\n",
    "data = {}\n",
    "data[1] = {'no' : 1, 'subject' : '안녕 피클', 'content' : '피클은 매우 간단합니다.'}\n",
    "\n",
    "with open('data.p', 'wb') as f:\n",
    "    pickle.dump(data, f)"
   ]
  },
  {
   "cell_type": "code",
   "execution_count": 2,
   "id": "13f1b2a7",
   "metadata": {},
   "outputs": [
    {
     "data": {
      "text/plain": [
       "{1: {'no': 1, 'subject': '안녕 피클', 'content': '피클은 매우 간단합니다.'}}"
      ]
     },
     "execution_count": 2,
     "metadata": {},
     "output_type": "execute_result"
    }
   ],
   "source": [
    "with open('data.p', 'rb') as f:\n",
    "    data = pickle.load(f)\n",
    "data"
   ]
  },
  {
   "cell_type": "markdown",
   "id": "a9679345",
   "metadata": {},
   "source": [
    "# 객체 변경에 따른 오류를 방지하려면?\n",
    "## copyreg \n",
    "### pickle로 저장한 객체를 불러올 때 객체를 생성하는 함수"
   ]
  },
  {
   "cell_type": "code",
   "execution_count": 3,
   "id": "afa7aa42",
   "metadata": {},
   "outputs": [],
   "source": [
    "# Student 객체를 파일에 저장하는 예제\n",
    "import pickle\n",
    "\n",
    "class Student:\n",
    "    def __init__(self, name, age):\n",
    "        self.name = name\n",
    "        self.age = age\n",
    "        \n",
    "a = Student(\"황성민\", 27)\n",
    "\n",
    "with open('student.p', 'wb') as f:\n",
    "    pickle.dump(a, f)"
   ]
  },
  {
   "cell_type": "code",
   "execution_count": 4,
   "id": "f63fb793",
   "metadata": {},
   "outputs": [
    {
     "name": "stdout",
     "output_type": "stream",
     "text": [
      "황성민\n"
     ]
    }
   ],
   "source": [
    "#pickle.load()로 불러와 사용\n",
    "with open('student.p', 'rb') as f:\n",
    "    student = pickle.load(f)\n",
    "    \n",
    "print(student.name)"
   ]
  },
  {
   "cell_type": "code",
   "execution_count": 5,
   "id": "6c18ae9c",
   "metadata": {},
   "outputs": [
    {
     "ename": "AttributeError",
     "evalue": "'Student' object has no attribute 'dummy'",
     "output_type": "error",
     "traceback": [
      "\u001b[1;31m---------------------------------------------------------------------------\u001b[0m",
      "\u001b[1;31mAttributeError\u001b[0m                            Traceback (most recent call last)",
      "\u001b[1;32m<ipython-input-5-b83b1f6b2a2b>\u001b[0m in \u001b[0;36m<module>\u001b[1;34m\u001b[0m\n\u001b[0;32m      9\u001b[0m \u001b[1;33m\u001b[0m\u001b[0m\n\u001b[0;32m     10\u001b[0m \u001b[1;31m#속성을 추가하기전에 만든 객체에서 추가한 속성을 불러올 때 오류 발생\u001b[0m\u001b[1;33m\u001b[0m\u001b[1;33m\u001b[0m\u001b[1;33m\u001b[0m\u001b[0m\n\u001b[1;32m---> 11\u001b[1;33m \u001b[0mprint\u001b[0m\u001b[1;33m(\u001b[0m\u001b[0mstudent\u001b[0m\u001b[1;33m.\u001b[0m\u001b[0mdummy\u001b[0m\u001b[1;33m)\u001b[0m\u001b[1;33m\u001b[0m\u001b[1;33m\u001b[0m\u001b[0m\n\u001b[0m",
      "\u001b[1;31mAttributeError\u001b[0m: 'Student' object has no attribute 'dummy'"
     ]
    }
   ],
   "source": [
    "class Student:\n",
    "    def __init__(self, name, age):\n",
    "        self.name = name\n",
    "        self.age = age\n",
    "        self.dummy = 'dummy'\n",
    "        \n",
    "with open('student.p', 'rb') as f:\n",
    "    student = pickle.load(f)\n",
    "    \n",
    "#속성을 추가하기전에 만든 객체에서 추가한 속성을 불러올 때 오류 발생 \n",
    "print(student.dummy)"
   ]
  },
  {
   "cell_type": "code",
   "execution_count": 6,
   "id": "0d00ab04",
   "metadata": {},
   "outputs": [],
   "source": [
    "import pickle\n",
    "import copyreg\n",
    "\n",
    "class Student:\n",
    "    def __init__(self, name, age):\n",
    "        self.name = name\n",
    "        self.age = age\n",
    "\n",
    "def pickle_student(student):\n",
    "    kwargs = student.__dict__\n",
    "    return unpickle_student, (kwargs, )\n",
    "\n",
    "def unpickle_student(kwargs):\n",
    "    return Student(**kwargs)\n",
    "\n",
    "copyreg.pickle(Student, pickle_student)\n",
    "\n",
    "a = Student(\"황성민\", 27)\n",
    "\n",
    "with open('student.p', 'wb') as f:\n",
    "    pickle.dump(a, f)"
   ]
  },
  {
   "cell_type": "code",
   "execution_count": 7,
   "id": "ab2932d2",
   "metadata": {},
   "outputs": [
    {
     "name": "stdout",
     "output_type": "stream",
     "text": [
      "dummy\n"
     ]
    }
   ],
   "source": [
    "import pickle\n",
    "import copyreg\n",
    "\n",
    "class Student:\n",
    "    def __init__(self, name, age):\n",
    "        self.name = name\n",
    "        self.age = age\n",
    "        self.dummy = 'dummy'\n",
    "        \n",
    "def pickle_student(student):\n",
    "    kwargs = student.__dict__\n",
    "    return unpickle_student, (kwargs, )\n",
    "\n",
    "def unpickle_student(kwargs):\n",
    "    return Student(**kwargs)\n",
    "\n",
    "copyreg.pickle(Student, pickle_student)\n",
    "\n",
    "with open('student.p', 'rb') as f:\n",
    "    student = pickle.load(f)\n",
    "    \n",
    "#  다음과 같이 객체에 새로운 속성을 추가해도 오류가 발생하지 않음\n",
    "print(student.dummy)"
   ]
  },
  {
   "cell_type": "markdown",
   "id": "450c819c",
   "metadata": {},
   "source": [
    "# 딕셔너리를 파일로 저장하려면?\n",
    "## shelve\n",
    "### 딕셔너리를 파일로 저장할 때 사용하는 모듈"
   ]
  },
  {
   "cell_type": "code",
   "execution_count": 8,
   "id": "c087e713",
   "metadata": {},
   "outputs": [
    {
     "name": "stdout",
     "output_type": "stream",
     "text": [
      "[1, 2, 3, 4, 5]\n"
     ]
    }
   ],
   "source": [
    "import shelve\n",
    "\n",
    "def save(key, value):\n",
    "    with shelve.open('shelve.dat') as d:\n",
    "        d[key] = value \n",
    "        \n",
    "def get(key):\n",
    "    with shelve.open('shelve.dat') as d:\n",
    "        return d[key]\n",
    "    \n",
    "save('number', [1,2,3,4,5])\n",
    "print(get('number'))"
   ]
  },
  {
   "cell_type": "markdown",
   "id": "830a0784",
   "metadata": {},
   "source": [
    "# 블로그 데이터를 저장하려면?\n",
    "## sqlite3\n",
    "### SQLite 데이터베이스를 사용하는 데 필요한 인터페이스 모듈"
   ]
  },
  {
   "cell_type": "code",
   "execution_count": 9,
   "id": "b19bb945",
   "metadata": {},
   "outputs": [],
   "source": [
    "import sqlite3\n",
    "\n",
    "# 데이터 베이스를 핸들링 할 수 있는 conn객체 생성 \n",
    "conn = sqlite3.connect('blog.db')  #blog.db는 DB이름 "
   ]
  },
  {
   "cell_type": "code",
   "execution_count": 10,
   "id": "202a67d3",
   "metadata": {},
   "outputs": [
    {
     "data": {
      "text/plain": [
       "<sqlite3.Cursor at 0x2234c82a490>"
      ]
     },
     "execution_count": 10,
     "metadata": {},
     "output_type": "execute_result"
    }
   ],
   "source": [
    "#테이블 생성\n",
    "\n",
    "c = conn.cursor()  # 커서 생성\n",
    "c.execute('''CREATE TABLE blog (id integer PRIMARY KEY, subject text, content text, data text)''')  # 테이블을 만드는 쿼리문 "
   ]
  },
  {
   "cell_type": "code",
   "execution_count": 11,
   "id": "10957fac",
   "metadata": {},
   "outputs": [
    {
     "data": {
      "text/plain": [
       "<sqlite3.Cursor at 0x2234c82a490>"
      ]
     },
     "execution_count": 11,
     "metadata": {},
     "output_type": "execute_result"
    }
   ],
   "source": [
    "#데이터 입력하기 \n",
    "\n",
    "c.execute(\"INSERT INTO blog VALUES (1, '첫 번째 블로그', '첫 번째 블로그입니다.', '20230211')\")\n",
    "c.execute(\"INSERT INTO blog VALUES (2, '두 번째 블로그', '두 번째 블로그입니다.', '20230212')\")"
   ]
  },
  {
   "cell_type": "code",
   "execution_count": 12,
   "id": "b9e58aa4",
   "metadata": {},
   "outputs": [
    {
     "data": {
      "text/plain": [
       "<sqlite3.Cursor at 0x2234c82a490>"
      ]
     },
     "execution_count": 12,
     "metadata": {},
     "output_type": "execute_result"
    }
   ],
   "source": [
    "# 변수를 이용하여 값 전달 가능\n",
    "_id = 3\n",
    "subject = '세 번째 블로그'\n",
    "content = '세 번째 블로그 입니다.'\n",
    "data = '20220212'\n",
    "c.execute(\"INSERT INTO blog VALUES (%d, '%s', '%s', '%s')\" % (_id, subject, content, data))"
   ]
  },
  {
   "cell_type": "code",
   "execution_count": 13,
   "id": "c0fb355f",
   "metadata": {},
   "outputs": [
    {
     "data": {
      "text/plain": [
       "<sqlite3.Cursor at 0x2234c82a490>"
      ]
     },
     "execution_count": 13,
     "metadata": {},
     "output_type": "execute_result"
    }
   ],
   "source": [
    "# 보안을 생각해서 다음과 같이 쿼리를 작성해야함\n",
    "_id = 4\n",
    "subject = '네 번째 블로그'\n",
    "content = '네 번째 블로그 입니다.'\n",
    "data = '202202125'\n",
    "c.execute(\"INSERT INTO blog VALUES (?, ?, ?, ?)\", (_id, subject, content, data))"
   ]
  },
  {
   "cell_type": "code",
   "execution_count": 14,
   "id": "5d6ab166",
   "metadata": {},
   "outputs": [
    {
     "data": {
      "text/plain": [
       "<sqlite3.Cursor at 0x2234c82a490>"
      ]
     },
     "execution_count": 14,
     "metadata": {},
     "output_type": "execute_result"
    }
   ],
   "source": [
    "# 또한 딕셔너리를 이용한 이름 기반의 쿼리로 작성해도 됨 \n",
    "\n",
    "c.execute(\"INSERT INTO blog VALUES (:id, :subject, :content, :data)\",\n",
    "          {'id' : 5, 'subject' : '5 번째 블로그', 'content':'5 번째 블로그 입니다.', 'data' : '20220216'})"
   ]
  },
  {
   "cell_type": "code",
   "execution_count": 15,
   "id": "43306326",
   "metadata": {},
   "outputs": [
    {
     "name": "stdout",
     "output_type": "stream",
     "text": [
      "[(1, '첫 번째 블로그', '첫 번째 블로그입니다.', '20230211'),\n",
      " (2, '두 번째 블로그', '두 번째 블로그입니다.', '20230212'),\n",
      " (3, '세 번째 블로그', '세 번째 블로그 입니다.', '20220212'),\n",
      " (4, '네 번째 블로그', '네 번째 블로그 입니다.', '202202125'),\n",
      " (5, '5 번째 블로그', '5 번째 블로그 입니다.', '20220216')]\n"
     ]
    }
   ],
   "source": [
    "# 데이터 조회하기\n",
    "from pprint import pprint\n",
    "\n",
    "c.execute('SELECT * FROM blog')\n",
    "all = c.fetchall()\n",
    "pprint(all)"
   ]
  },
  {
   "cell_type": "code",
   "execution_count": 16,
   "id": "b47553f7",
   "metadata": {},
   "outputs": [
    {
     "name": "stdout",
     "output_type": "stream",
     "text": [
      "(1, '첫 번째 블로그', '첫 번째 블로그입니다.', '20230211')\n"
     ]
    }
   ],
   "source": [
    "#한 개의 행만 조회\n",
    "c.execute('SELECT * FROM blog')\n",
    "#fechone() 반복 수행시 다음 행 출력 \n",
    "one = c.fetchone()\n",
    "print(one)"
   ]
  },
  {
   "cell_type": "code",
   "execution_count": 17,
   "id": "372d7700",
   "metadata": {},
   "outputs": [
    {
     "data": {
      "text/plain": [
       "<sqlite3.Cursor at 0x2234c82a490>"
      ]
     },
     "execution_count": 17,
     "metadata": {},
     "output_type": "execute_result"
    }
   ],
   "source": [
    "# 데이터 수정\n",
    "c.execute(\"UPDATE blog SET subject = '최초의 블로그' WHERE id=1\")"
   ]
  },
  {
   "cell_type": "code",
   "execution_count": 18,
   "id": "4e761ce5",
   "metadata": {},
   "outputs": [
    {
     "name": "stdout",
     "output_type": "stream",
     "text": [
      "(1, '최초의 블로그', '첫 번째 블로그입니다.', '20230211')\n"
     ]
    }
   ],
   "source": [
    "c.execute('SELECT * FROM blog')\n",
    "one = c.fetchone()\n",
    "print(one)"
   ]
  },
  {
   "cell_type": "code",
   "execution_count": 19,
   "id": "1ca1c756",
   "metadata": {},
   "outputs": [
    {
     "data": {
      "text/plain": [
       "<sqlite3.Cursor at 0x2234c82a490>"
      ]
     },
     "execution_count": 19,
     "metadata": {},
     "output_type": "execute_result"
    }
   ],
   "source": [
    "# 데이터 삭제\n",
    "c.execute('DELETE FROM blog WHERE id=5') # WHERE문 생략 시 모든 데이터 삭제"
   ]
  },
  {
   "cell_type": "code",
   "execution_count": 20,
   "id": "3ec181d2",
   "metadata": {},
   "outputs": [],
   "source": [
    "# 데이터 저장\n",
    "conn.commit()  # 커밋을 하지 않고 프로그램 종료 시 입력했던 데이터 모두 증발 "
   ]
  },
  {
   "cell_type": "code",
   "execution_count": 21,
   "id": "52a96878",
   "metadata": {},
   "outputs": [],
   "source": [
    "# 데이터 입력 취소 \n",
    "conn.rollback()  # 커밋되기 전의 데이터 변경 사항이 모두 취소, 그러나 이미 커밋된 데이터는 취소 불가"
   ]
  },
  {
   "cell_type": "code",
   "execution_count": 22,
   "id": "861e24df",
   "metadata": {},
   "outputs": [],
   "source": [
    "# 데이터베이스 접속 종료\n",
    "conn.close()   # 커밋 없이 close 시 데이터 모두 증발 "
   ]
  },
  {
   "cell_type": "code",
   "execution_count": 23,
   "id": "55a09aea",
   "metadata": {},
   "outputs": [],
   "source": [
    "#SQLite 도구 \n",
    "\n",
    "# https://sqlitebrowser.org/dl/에서 다운받아 GUI환경으로 db구축 가능"
   ]
  }
 ],
 "metadata": {
  "kernelspec": {
   "display_name": "Python 3",
   "language": "python",
   "name": "python3"
  },
  "language_info": {
   "codemirror_mode": {
    "name": "ipython",
    "version": 3
   },
   "file_extension": ".py",
   "mimetype": "text/x-python",
   "name": "python",
   "nbconvert_exporter": "python",
   "pygments_lexer": "ipython3",
   "version": "3.10.0"
  },
  "vscode": {
   "interpreter": {
    "hash": "98393425b09f2a127c35f6076028cdeda66758967327a1ff63dcb9cc31bf5341"
   }
  }
 },
 "nbformat": 4,
 "nbformat_minor": 5
}
