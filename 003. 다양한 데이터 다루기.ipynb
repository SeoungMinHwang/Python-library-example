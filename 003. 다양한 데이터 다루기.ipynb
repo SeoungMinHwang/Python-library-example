{
 "cells": [
  {
   "cell_type": "markdown",
   "id": "90e637b6",
   "metadata": {},
   "source": [
    "# 날짜를 계산하고 요일으 알려면?(datetime.date)\n",
    "### 년,월,일로 날짜를 표현할 때 사용하는 모듈"
   ]
  },
  {
   "cell_type": "code",
   "execution_count": 1,
   "id": "ffc6e079",
   "metadata": {},
   "outputs": [
    {
     "name": "stdout",
     "output_type": "stream",
     "text": [
      "2022-08-31\n",
      "2023-01-24\n",
      "146 days, 0:00:00\n"
     ]
    },
    {
     "data": {
      "text/plain": [
       "146"
      ]
     },
     "execution_count": 1,
     "metadata": {},
     "output_type": "execute_result"
    }
   ],
   "source": [
    "import datetime \n",
    "\n",
    "day1 = datetime.date(2022,8,31)\n",
    "print(day1)\n",
    "day2 = datetime.date(2023,1,24)\n",
    "print(day2)\n",
    "\n",
    "diff = day2 - day1\n",
    "print(diff)\n",
    "diff.days"
   ]
  },
  {
   "cell_type": "code",
   "execution_count": 2,
   "id": "28c48dc3",
   "metadata": {},
   "outputs": [
    {
     "name": "stdout",
     "output_type": "stream",
     "text": [
      "1\n",
      "2\n"
     ]
    }
   ],
   "source": [
    "#월요일부터 0 \n",
    "print(day2.weekday())\n",
    "\n",
    "#월요일부터 1\n",
    "print(day2.isoweekday())"
   ]
  },
  {
   "cell_type": "markdown",
   "id": "9a94d3b0",
   "metadata": {},
   "source": [
    "# 두 날짜의 차이를 알려면?(datetime.timedelta)\n",
    "### 두 날짜의 차이를 계산 +, - 사용"
   ]
  },
  {
   "cell_type": "code",
   "execution_count": 3,
   "id": "8257981b",
   "metadata": {},
   "outputs": [
    {
     "data": {
      "text/plain": [
       "datetime.date(2023, 2, 5)"
      ]
     },
     "execution_count": 3,
     "metadata": {},
     "output_type": "execute_result"
    }
   ],
   "source": [
    "import datetime\n",
    "today = datetime.date.today()\n",
    "today"
   ]
  },
  {
   "cell_type": "code",
   "execution_count": 4,
   "id": "17b765e1",
   "metadata": {},
   "outputs": [
    {
     "data": {
      "text/plain": [
       "datetime.timedelta(days=100)"
      ]
     },
     "execution_count": 4,
     "metadata": {},
     "output_type": "execute_result"
    }
   ],
   "source": [
    "diff_days = datetime.timedelta(days=100)\n",
    "diff_days"
   ]
  },
  {
   "cell_type": "code",
   "execution_count": 5,
   "id": "6c7f775a",
   "metadata": {},
   "outputs": [
    {
     "data": {
      "text/plain": [
       "datetime.date(2023, 5, 16)"
      ]
     },
     "execution_count": 5,
     "metadata": {},
     "output_type": "execute_result"
    }
   ],
   "source": [
    "today + diff_days"
   ]
  },
  {
   "cell_type": "code",
   "execution_count": 6,
   "id": "318d09d7",
   "metadata": {},
   "outputs": [
    {
     "data": {
      "text/plain": [
       "datetime.date(2022, 10, 28)"
      ]
     },
     "execution_count": 6,
     "metadata": {},
     "output_type": "execute_result"
    }
   ],
   "source": [
    "today - diff_days"
   ]
  },
  {
   "cell_type": "markdown",
   "id": "4b86d8da",
   "metadata": {},
   "source": [
    "# 윤년인 해를 알려면?(calendar.isleap)"
   ]
  },
  {
   "cell_type": "code",
   "execution_count": 7,
   "id": "b2665353",
   "metadata": {},
   "outputs": [
    {
     "name": "stdout",
     "output_type": "stream",
     "text": [
      "True False True\n"
     ]
    }
   ],
   "source": [
    "import calendar\n",
    "print(calendar.isleap(0),\n",
    "calendar.isleap(2023),\n",
    "calendar.isleap(2024))"
   ]
  },
  {
   "cell_type": "markdown",
   "id": "92f042d5",
   "metadata": {},
   "source": [
    "# 앞뒤에서 자료를 넣고 빼려면?(collection.deque)\n",
    "### deque 자료형을 생성하는 모듈"
   ]
  },
  {
   "cell_type": "code",
   "execution_count": 8,
   "id": "d462920a",
   "metadata": {},
   "outputs": [],
   "source": [
    "from collections import deque\n",
    "a = [i for i in range(1,6)]\n",
    "q = deque(a)"
   ]
  },
  {
   "cell_type": "code",
   "execution_count": 9,
   "id": "f5a7835b",
   "metadata": {},
   "outputs": [
    {
     "data": {
      "text/plain": [
       "deque([1, 2, 3, 4, 5])"
      ]
     },
     "execution_count": 9,
     "metadata": {},
     "output_type": "execute_result"
    }
   ],
   "source": [
    "q"
   ]
  },
  {
   "cell_type": "code",
   "execution_count": 10,
   "id": "ace0f058",
   "metadata": {},
   "outputs": [
    {
     "data": {
      "text/plain": [
       "deque([3, 4, 5, 1, 2])"
      ]
     },
     "execution_count": 10,
     "metadata": {},
     "output_type": "execute_result"
    }
   ],
   "source": [
    "q.rotate(3)\n",
    "q"
   ]
  },
  {
   "cell_type": "code",
   "execution_count": 11,
   "id": "23d9c6ae",
   "metadata": {},
   "outputs": [
    {
     "data": {
      "text/plain": [
       "deque([5, 1, 2, 3, 4])"
      ]
     },
     "execution_count": 11,
     "metadata": {},
     "output_type": "execute_result"
    }
   ],
   "source": [
    "q.rotate(-2)\n",
    "q"
   ]
  },
  {
   "cell_type": "markdown",
   "id": "a308af61",
   "metadata": {},
   "source": [
    "# 자료에 이름을 붙일려면?(collection.namedtuple)\n",
    "### 키값으로 데이터에 접근할 수 있는 튜플을 생성하는 함수"
   ]
  },
  {
   "cell_type": "code",
   "execution_count": 12,
   "id": "3f272f47",
   "metadata": {},
   "outputs": [],
   "source": [
    "from collections import namedtuple\n",
    "data = [\n",
    "    ('황성민', '23', '01067232252'),\n",
    "    ('최승현', '23', '01012345678'),\n",
    "    ('김희연', '21', '01051356164')\n",
    "]"
   ]
  },
  {
   "cell_type": "code",
   "execution_count": 13,
   "id": "a6e6f7e3",
   "metadata": {},
   "outputs": [],
   "source": [
    "Employee = namedtuple(\"Employee\", 'name, age cellphone')"
   ]
  },
  {
   "cell_type": "code",
   "execution_count": 14,
   "id": "a80f5b31",
   "metadata": {},
   "outputs": [],
   "source": [
    "# 둘 다 같음 \n",
    "data = [Employee(emp[0], emp[1], emp[2]) for emp in data]\n",
    "data = [Employee._make(emp) for emp in data]"
   ]
  },
  {
   "cell_type": "code",
   "execution_count": 15,
   "id": "f4b5aa85",
   "metadata": {},
   "outputs": [
    {
     "data": {
      "text/plain": [
       "[Employee(name='황성민', age='23', cellphone='01067232252'),\n",
       " Employee(name='최승현', age='23', cellphone='01012345678'),\n",
       " Employee(name='김희연', age='21', cellphone='01051356164')]"
      ]
     },
     "execution_count": 15,
     "metadata": {},
     "output_type": "execute_result"
    }
   ],
   "source": [
    "data"
   ]
  },
  {
   "cell_type": "code",
   "execution_count": 16,
   "id": "c40f59e0",
   "metadata": {},
   "outputs": [],
   "source": [
    "emp = data[-1]"
   ]
  },
  {
   "cell_type": "code",
   "execution_count": 17,
   "id": "e18f642c",
   "metadata": {},
   "outputs": [
    {
     "data": {
      "text/plain": [
       "('김희연', '21', '01051356164')"
      ]
     },
     "execution_count": 17,
     "metadata": {},
     "output_type": "execute_result"
    }
   ],
   "source": [
    "emp.name, emp.age, emp.cellphone"
   ]
  },
  {
   "cell_type": "code",
   "execution_count": 18,
   "id": "df26888c",
   "metadata": {},
   "outputs": [
    {
     "data": {
      "text/plain": [
       "{'name': '김희연', 'age': '21', 'cellphone': '01051356164'}"
      ]
     },
     "execution_count": 18,
     "metadata": {},
     "output_type": "execute_result"
    }
   ],
   "source": [
    "emp._asdict()"
   ]
  },
  {
   "cell_type": "code",
   "execution_count": 19,
   "id": "576e6a2d",
   "metadata": {},
   "outputs": [],
   "source": [
    "emp = emp._replace(name = \"박희연\")"
   ]
  },
  {
   "cell_type": "code",
   "execution_count": 20,
   "id": "1a82ebce",
   "metadata": {},
   "outputs": [
    {
     "data": {
      "text/plain": [
       "Employee(name='박희연', age='21', cellphone='01051356164')"
      ]
     },
     "execution_count": 20,
     "metadata": {},
     "output_type": "execute_result"
    }
   ],
   "source": [
    "emp"
   ]
  },
  {
   "cell_type": "markdown",
   "id": "4852e8db",
   "metadata": {},
   "source": [
    "# 사용한 단어 개수를 구하려면?(collection.Counter)\n",
    "### 값이 같은 요소가 몇 개 인지를 확인할 때 사용하는 클래스"
   ]
  },
  {
   "cell_type": "code",
   "execution_count": 21,
   "id": "ff4ac6d6",
   "metadata": {},
   "outputs": [],
   "source": [
    "data = '''가족력/길상호\n",
    "동생에게 성기를 내보이는 게 싫어\n",
    "둘째 형은 끝내 간이 소변통을 거부한 채\n",
    "부은 발을 이끌고 화장실로 향했다\n",
    "아버지를 위해 마지막으로 했던 일도\n",
    "자다 일어나 화장실까지 부축했던 것\n",
    "문 앞에 서서 힘없는 오줌발 소리를 들었던 것\n",
    "고양이 산문이는 아픈 걸 감추고 감추다가\n",
    "장판 위에 오줌을 흥건하게 싸놓고는\n",
    "거기 힘없이 몸을 내려놓았다\n",
    "세 가족을 데리고 간 건 모두 당뇨 합병증\n",
    "먼저 간 가족을 떠올릴 때마다\n",
    "간절하게\n",
    "오줌이 마려웠다\n",
    "ㅡ 『서정과 현실』 (2022, 상반기호)'''"
   ]
  },
  {
   "cell_type": "code",
   "execution_count": 22,
   "id": "8398b625",
   "metadata": {},
   "outputs": [
    {
     "name": "stdout",
     "output_type": "stream",
     "text": [
      "[('것', 2), ('가족을', 2), ('간', 2), ('가족력', 1)]\n"
     ]
    }
   ],
   "source": [
    "from collections import Counter\n",
    "import re\n",
    "\n",
    "words = re.findall(r'\\w+', data)\n",
    "counter = Counter(words)\n",
    "print(counter.most_common(4))"
   ]
  },
  {
   "cell_type": "code",
   "execution_count": 23,
   "id": "e3ea5b4c",
   "metadata": {},
   "outputs": [
    {
     "name": "stdout",
     "output_type": "stream",
     "text": [
      "Counter({'것': 2, '가족을': 2, '간': 2, '가족력': 1, '길상호': 1, '동생에게': 1, '성기를': 1, '내보이는': 1, '게': 1, '싫어': 1, '둘째': 1, '형은': 1, '끝내': 1, '간이': 1, '소변통을': 1, '거부한': 1, '채': 1, '부은': 1, '발을': 1, '이끌고': 1, '화장실로': 1, '향했다': 1, '아버지를': 1, '위해': 1, '마지막으로': 1, '했던': 1, '일도': 1, '자다': 1, '일어나': 1, '화장실까지': 1, '부축했던': 1, '문': 1, '앞에': 1, '서서': 1, '힘없는': 1, '오줌발': 1, '소리를': 1, '들었던': 1, '고양이': 1, '산문이는': 1, '아픈': 1, '걸': 1, '감추고': 1, '감추다가': 1, '장판': 1, '위에': 1, '오줌을': 1, '흥건하게': 1, '싸놓고는': 1, '거기': 1, '힘없이': 1, '몸을': 1, '내려놓았다': 1, '세': 1, '데리고': 1, '건': 1, '모두': 1, '당뇨': 1, '합병증': 1, '먼저': 1, '떠올릴': 1, '때마다': 1, '간절하게': 1, '오줌이': 1, '마려웠다': 1, 'ㅡ': 1, '서정과': 1, '현실': 1, '2022': 1, '상반기호': 1})\n"
     ]
    }
   ],
   "source": [
    "print(counter)"
   ]
  },
  {
   "cell_type": "markdown",
   "id": "7a826c8b",
   "metadata": {},
   "source": [
    "# 딕셔너리를 한 번에 초기화하려면?(collection.defaultdict)\n",
    "### 초기값을 지정하여 딕셔너리를 생성하는 모듈"
   ]
  },
  {
   "cell_type": "code",
   "execution_count": 24,
   "id": "1174b9d7",
   "metadata": {},
   "outputs": [
    {
     "name": "stdout",
     "output_type": "stream",
     "text": [
      "{'L': 1, 'i': 2, 'f': 1, 'e': 3, ' ': 6, 's': 2, 't': 3, 'o': 5, 'h': 2, 'r': 1, ',': 1, 'Y': 1, 'u': 1, 'n': 2, 'd': 1, 'p': 1, 'y': 1}\n"
     ]
    }
   ],
   "source": [
    "text = \"Life is too short, You need python\"\n",
    "\n",
    "d = dict()\n",
    "for key in text:\n",
    "    \n",
    "    ################\n",
    "    if key not in d:\n",
    "        d[key] = 0\n",
    "    #################\n",
    "    \n",
    "    d[key] += 1\n",
    "print(d)"
   ]
  },
  {
   "cell_type": "code",
   "execution_count": 25,
   "id": "1b81eb60",
   "metadata": {},
   "outputs": [
    {
     "name": "stdout",
     "output_type": "stream",
     "text": [
      "{'L': 1, 'i': 2, 'f': 1, 'e': 3, ' ': 6, 's': 2, 't': 3, 'o': 5, 'h': 2, 'r': 1, ',': 1, 'Y': 1, 'u': 1, 'n': 2, 'd': 1, 'p': 1, 'y': 1}\n"
     ]
    }
   ],
   "source": [
    "from collections import defaultdict\n",
    "\n",
    "text = \"Life is too short, You need python\"\n",
    "\n",
    "d = defaultdict(int)\n",
    "for key in text:\n",
    "    d[key]+=1\n",
    "print(dict(d))"
   ]
  },
  {
   "cell_type": "markdown",
   "id": "e3c4e27a",
   "metadata": {},
   "source": [
    "# 수상자 3명을 선정하려면?(heapq)\n",
    "### 우선순위 큐를 구현한 모듈"
   ]
  },
  {
   "cell_type": "code",
   "execution_count": 26,
   "id": "208401ef",
   "metadata": {},
   "outputs": [
    {
     "name": "stdout",
     "output_type": "stream",
     "text": [
      "(9.92, '조찬우')\n",
      "(10.32, '최승현')\n",
      "(10.51, '정헌수')\n"
     ]
    }
   ],
   "source": [
    "import heapq\n",
    "\n",
    "data = [\n",
    "    (12.23, \"황성민\"),\n",
    "    (10.32, \"최승현\"),\n",
    "    (11.35, \"이민우\"),\n",
    "    (9.92, \"조찬우\"),\n",
    "    (10.51, \"정헌수\"),\n",
    "    (11.16, \"박상범\"),\n",
    "    (13.25, \"이재훈\")\n",
    "]\n",
    "\n",
    "h = []\n",
    "for score in data:\n",
    "    heapq.heappush(h,score)\n",
    "    \n",
    "for i in range(3):\n",
    "    print(heapq.heappop(h))"
   ]
  },
  {
   "cell_type": "code",
   "execution_count": 27,
   "id": "819e82b8",
   "metadata": {},
   "outputs": [
    {
     "name": "stdout",
     "output_type": "stream",
     "text": [
      "(9.92, '조찬우')\n",
      "(10.32, '최승현')\n",
      "(10.51, '정헌수')\n"
     ]
    }
   ],
   "source": [
    "import heapq\n",
    "\n",
    "data = [\n",
    "    (12.23, \"황성민\"),\n",
    "    (10.32, \"최승현\"),\n",
    "    (11.35, \"이민우\"),\n",
    "    (9.92, \"조찬우\"),\n",
    "    (10.51, \"정헌수\"),\n",
    "    (11.16, \"박상범\"),\n",
    "    (13.25, \"이재훈\")\n",
    "]\n",
    "\n",
    "#data를 힙 구조에 맞게 변경\n",
    "heapq.heapify(data)\n",
    "    \n",
    "for i in range(3):\n",
    "    print(heapq.heappop(data))"
   ]
  },
  {
   "cell_type": "code",
   "execution_count": 28,
   "id": "e2cc9599",
   "metadata": {},
   "outputs": [
    {
     "name": "stdout",
     "output_type": "stream",
     "text": [
      "[(9.92, '조찬우'), (10.32, '최승현'), (10.51, '정헌수')]\n",
      "[(13.25, '이재훈'), (12.23, '황성민'), (11.35, '이민우')]\n"
     ]
    }
   ],
   "source": [
    "import heapq\n",
    "\n",
    "data = [\n",
    "    (12.23, \"황성민\"),\n",
    "    (10.32, \"최승현\"),\n",
    "    (11.35, \"이민우\"),\n",
    "    (9.92, \"조찬우\"),\n",
    "    (10.51, \"정헌수\"),\n",
    "    (11.16, \"박상범\"),\n",
    "    (13.25, \"이재훈\")\n",
    "]\n",
    "\n",
    "print(heapq.nsmallest(3,data))\n",
    "\n",
    "#반대\n",
    "print(heapq.nlargest(3,data))"
   ]
  },
  {
   "cell_type": "markdown",
   "id": "b6dc5108",
   "metadata": {},
   "source": [
    "# 데이터를 보기 좋게 출력하려면?(pprint)"
   ]
  },
  {
   "cell_type": "code",
   "execution_count": 29,
   "id": "8730736d",
   "metadata": {},
   "outputs": [
    {
     "name": "stdout",
     "output_type": "stream",
     "text": [
      "[(12.23, '황성민'), (10.32, '최승현'), (11.35, '이민우'), (9.92, '조찬우'), (10.51, '정헌수'), (11.16, '박상범'), (13.25, '이재훈')]\n"
     ]
    }
   ],
   "source": [
    "from pprint import pprint\n",
    "\n",
    "data = [\n",
    "    (12.23, \"황성민\"),\n",
    "    (10.32, \"최승현\"),\n",
    "    (11.35, \"이민우\"),\n",
    "    (9.92, \"조찬우\"),\n",
    "    (10.51, \"정헌수\"),\n",
    "    (11.16, \"박상범\"),\n",
    "    (13.25, \"이재훈\")\n",
    "]\n",
    "\n",
    "print(data)"
   ]
  },
  {
   "cell_type": "code",
   "execution_count": 30,
   "id": "9ecb4734",
   "metadata": {},
   "outputs": [
    {
     "name": "stdout",
     "output_type": "stream",
     "text": [
      "[(12.23, '황성민'),\n",
      " (10.32, '최승현'),\n",
      " (11.35, '이민우'),\n",
      " (9.92, '조찬우'),\n",
      " (10.51, '정헌수'),\n",
      " (11.16, '박상범'),\n",
      " (13.25, '이재훈')]\n"
     ]
    }
   ],
   "source": [
    "pprint(data)"
   ]
  },
  {
   "cell_type": "code",
   "execution_count": 31,
   "id": "85a8f213",
   "metadata": {},
   "outputs": [],
   "source": [
    "data = '''가족력/길상호\n",
    "동생에게 성기를 내보이는 게 싫어\n",
    "둘째 형은 끝내 간이 소변통을 거부한 채\n",
    "부은 발을 이끌고 화장실로 향했다\n",
    "아버지를 위해 마지막으로 했던 일도\n",
    "자다 일어나 화장실까지 부축했던 것\n",
    "문 앞에 서서 힘없는 오줌발 소리를 들었던 것\n",
    "고양이 산문이는 아픈 걸 감추고 감추다가\n",
    "장판 위에 오줌을 흥건하게 싸놓고는\n",
    "거기 힘없이 몸을 내려놓았다\n",
    "세 가족을 데리고 간 건 모두 당뇨 합병증\n",
    "먼저 간 가족을 떠올릴 때마다\n",
    "간절하게\n",
    "오줌이 마려웠다\n",
    "ㅡ 『서정과 현실』 (2022, 상반기호)'''"
   ]
  },
  {
   "cell_type": "code",
   "execution_count": 32,
   "id": "298f6f10",
   "metadata": {},
   "outputs": [],
   "source": [
    "import re\n",
    "from collections import Counter\n",
    "words = re.findall(r'\\w+', data)\n",
    "counter = Counter(words)"
   ]
  },
  {
   "cell_type": "code",
   "execution_count": 33,
   "id": "2d346a10",
   "metadata": {},
   "outputs": [
    {
     "name": "stdout",
     "output_type": "stream",
     "text": [
      "Counter({'것': 2, '가족을': 2, '간': 2, '가족력': 1, '길상호': 1, '동생에게': 1, '성기를': 1, '내보이는': 1, '게': 1, '싫어': 1, '둘째': 1, '형은': 1, '끝내': 1, '간이': 1, '소변통을': 1, '거부한': 1, '채': 1, '부은': 1, '발을': 1, '이끌고': 1, '화장실로': 1, '향했다': 1, '아버지를': 1, '위해': 1, '마지막으로': 1, '했던': 1, '일도': 1, '자다': 1, '일어나': 1, '화장실까지': 1, '부축했던': 1, '문': 1, '앞에': 1, '서서': 1, '힘없는': 1, '오줌발': 1, '소리를': 1, '들었던': 1, '고양이': 1, '산문이는': 1, '아픈': 1, '걸': 1, '감추고': 1, '감추다가': 1, '장판': 1, '위에': 1, '오줌을': 1, '흥건하게': 1, '싸놓고는': 1, '거기': 1, '힘없이': 1, '몸을': 1, '내려놓았다': 1, '세': 1, '데리고': 1, '건': 1, '모두': 1, '당뇨': 1, '합병증': 1, '먼저': 1, '떠올릴': 1, '때마다': 1, '간절하게': 1, '오줌이': 1, '마려웠다': 1, 'ㅡ': 1, '서정과': 1, '현실': 1, '2022': 1, '상반기호': 1})\n"
     ]
    }
   ],
   "source": [
    "print(counter)"
   ]
  },
  {
   "cell_type": "code",
   "execution_count": 34,
   "id": "e9fcbeac",
   "metadata": {
    "scrolled": true
   },
   "outputs": [
    {
     "name": "stdout",
     "output_type": "stream",
     "text": [
      "Counter({'것': 2,\n",
      "         '가족을': 2,\n",
      "         '간': 2,\n",
      "         '가족력': 1,\n",
      "         '길상호': 1,\n",
      "         '동생에게': 1,\n",
      "         '성기를': 1,\n",
      "         '내보이는': 1,\n",
      "         '게': 1,\n",
      "         '싫어': 1,\n",
      "         '둘째': 1,\n",
      "         '형은': 1,\n",
      "         '끝내': 1,\n",
      "         '간이': 1,\n",
      "         '소변통을': 1,\n",
      "         '거부한': 1,\n",
      "         '채': 1,\n",
      "         '부은': 1,\n",
      "         '발을': 1,\n",
      "         '이끌고': 1,\n",
      "         '화장실로': 1,\n",
      "         '향했다': 1,\n",
      "         '아버지를': 1,\n",
      "         '위해': 1,\n",
      "         '마지막으로': 1,\n",
      "         '했던': 1,\n",
      "         '일도': 1,\n",
      "         '자다': 1,\n",
      "         '일어나': 1,\n",
      "         '화장실까지': 1,\n",
      "         '부축했던': 1,\n",
      "         '문': 1,\n",
      "         '앞에': 1,\n",
      "         '서서': 1,\n",
      "         '힘없는': 1,\n",
      "         '오줌발': 1,\n",
      "         '소리를': 1,\n",
      "         '들었던': 1,\n",
      "         '고양이': 1,\n",
      "         '산문이는': 1,\n",
      "         '아픈': 1,\n",
      "         '걸': 1,\n",
      "         '감추고': 1,\n",
      "         '감추다가': 1,\n",
      "         '장판': 1,\n",
      "         '위에': 1,\n",
      "         '오줌을': 1,\n",
      "         '흥건하게': 1,\n",
      "         '싸놓고는': 1,\n",
      "         '거기': 1,\n",
      "         '힘없이': 1,\n",
      "         '몸을': 1,\n",
      "         '내려놓았다': 1,\n",
      "         '세': 1,\n",
      "         '데리고': 1,\n",
      "         '건': 1,\n",
      "         '모두': 1,\n",
      "         '당뇨': 1,\n",
      "         '합병증': 1,\n",
      "         '먼저': 1,\n",
      "         '떠올릴': 1,\n",
      "         '때마다': 1,\n",
      "         '간절하게': 1,\n",
      "         '오줌이': 1,\n",
      "         '마려웠다': 1,\n",
      "         'ㅡ': 1,\n",
      "         '서정과': 1,\n",
      "         '현실': 1,\n",
      "         '2022': 1,\n",
      "         '상반기호': 1})\n"
     ]
    }
   ],
   "source": [
    "pprint(counter)"
   ]
  },
  {
   "cell_type": "markdown",
   "id": "c9330aaf",
   "metadata": {},
   "source": [
    "# 점수에 따른 학점을 구하려면?(bisect)\n",
    "### 이진 탐색 알고리즘으르 구현한 모듈, bisect.bisect()함수는 정렬된 리스트에 값을 삽입할 때 정렬을 유지할 수 있는 인덱스를 반환"
   ]
  },
  {
   "cell_type": "code",
   "execution_count": 35,
   "id": "99bfd1bb",
   "metadata": {},
   "outputs": [
    {
     "data": {
      "text/plain": [
       "[33, 99, 77, 70, 89, 90, 100]"
      ]
     },
     "execution_count": 35,
     "metadata": {},
     "output_type": "execute_result"
    }
   ],
   "source": [
    "[33,99,77,70,89,90,100]\n",
    "\n",
    "# 90 >= A\n",
    "# 80 >= B\n",
    "# 70 >= C\n",
    "# 60 >= D\n",
    "# 60 < F"
   ]
  },
  {
   "cell_type": "code",
   "execution_count": 36,
   "id": "55c7fc47",
   "metadata": {},
   "outputs": [
    {
     "name": "stdout",
     "output_type": "stream",
     "text": [
      "['F', 'A', 'C', 'C', 'B', 'A', 'A']\n"
     ]
    }
   ],
   "source": [
    "import bisect\n",
    "\n",
    "result = []\n",
    "\n",
    "for score in [33,99,77,70,89,90,100]:\n",
    "    pos = bisect.bisect([60,70,80,90], score)\n",
    "    grade = 'FDCBA'[pos]\n",
    "    result.append(grade)\n",
    "print(result)    "
   ]
  },
  {
   "cell_type": "code",
   "execution_count": 37,
   "id": "eca8b99a",
   "metadata": {},
   "outputs": [
    {
     "data": {
      "text/plain": [
       "[33, 99, 77, 70, 89, 90, 100]"
      ]
     },
     "execution_count": 37,
     "metadata": {},
     "output_type": "execute_result"
    }
   ],
   "source": [
    "[33,99,77,70,89,90,100]\n",
    "\n",
    "# 90 > A\n",
    "# 80 > B\n",
    "# 70 > C\n",
    "# 60 > D\n",
    "#60 <= F\n"
   ]
  },
  {
   "cell_type": "code",
   "execution_count": 38,
   "id": "d60c022f",
   "metadata": {},
   "outputs": [
    {
     "name": "stdout",
     "output_type": "stream",
     "text": [
      "['F', 'A', 'C', 'D', 'B', 'B', 'A']\n"
     ]
    }
   ],
   "source": [
    "import bisect\n",
    "\n",
    "result = []\n",
    "\n",
    "for score in [33,99,77,70,89,90,100]:\n",
    "    pos = bisect.bisect_left([60,70,80,90], score)\n",
    "    grade = 'FDCBA'[pos]\n",
    "    result.append(grade)\n",
    "print(result)    "
   ]
  },
  {
   "cell_type": "code",
   "execution_count": 39,
   "id": "abef9b55",
   "metadata": {},
   "outputs": [
    {
     "data": {
      "text/plain": [
       "[60, 70, 80, 85, 90]"
      ]
     },
     "execution_count": 39,
     "metadata": {},
     "output_type": "execute_result"
    }
   ],
   "source": [
    "import bisect\n",
    "\n",
    "a = [60,70,80,90]\n",
    "\n",
    "# a리스트에 85 정렬 위치로 삽입\n",
    "bisect.insort(a,85)\n",
    "a"
   ]
  },
  {
   "cell_type": "markdown",
   "id": "64598105",
   "metadata": {},
   "source": [
    "# 숫자에 이름을 붙여 사용하려면?(enum)\n",
    "### 서로 관련이 있는 여러개의 상수 집합을 정의할 때 사용하는 모듈"
   ]
  },
  {
   "cell_type": "code",
   "execution_count": 40,
   "id": "28dbb9c3",
   "metadata": {},
   "outputs": [
    {
     "name": "stdout",
     "output_type": "stream",
     "text": [
      "건빵\n",
      "김치지개\n"
     ]
    }
   ],
   "source": [
    "from datetime import date\n",
    "\n",
    "def get_mennu(input_date):\n",
    "    weekday = input_date.isoweekday() # 1부터 월\n",
    "\n",
    "    if weekday == 1:\n",
    "        menu = \"김치지개\"\n",
    "    elif weekday == 2:\n",
    "        menu = \"비빔밥\"\n",
    "    elif weekday == 3:\n",
    "        menu = \"된장찌개\"\n",
    "    elif weekday == 4:\n",
    "        menu = \"불고기\"\n",
    "    elif weekday == 5:\n",
    "        menu = \"갈비탕\"\n",
    "    elif weekday == 6:\n",
    "        menu = \"라면\"\n",
    "    elif weekday == 7:\n",
    "        menu = \"건빵\"\n",
    "        \n",
    "    return menu\n",
    "\n",
    "print(get_mennu(date(2023,2,5)))\n",
    "print(get_mennu(date(2023,2,6)))"
   ]
  },
  {
   "cell_type": "code",
   "execution_count": 41,
   "id": "943766ba",
   "metadata": {},
   "outputs": [
    {
     "name": "stdout",
     "output_type": "stream",
     "text": [
      "건빵\n",
      "김치지개\n"
     ]
    }
   ],
   "source": [
    "from datetime import date\n",
    "from enum import IntEnum\n",
    "\n",
    "class Week(IntEnum):\n",
    "    MonDay = 1\n",
    "    TUEWSDAY = 2\n",
    "    WENDSDAY = 3\n",
    "    THURSDAY = 4\n",
    "    FRIDAY = 5\n",
    "    SATURDAY = 6\n",
    "    SUNDAY = 7\n",
    "    \n",
    "def get_menu(input_date):\n",
    "    menu = {\n",
    "        Week.MonDay : \"김치찌개\",\n",
    "        Week.TUEWSDAY : \"비빔밥\",\n",
    "        Week.WENDSDAY : \"된장찌개\",\n",
    "        Week.THURSDAY : \"불고기\",\n",
    "        Week.FRIDAY : \"갈비탕\",\n",
    "        Week.SATURDAY : \"라면\",\n",
    "        Week.SUNDAY : \"건빵\"\n",
    "    }\n",
    "    \n",
    "    return menu[input_date.isoweekday()]\n",
    "\n",
    "print(get_mennu(date(2023,2,5)))\n",
    "print(get_mennu(date(2023,2,6)))"
   ]
  },
  {
   "cell_type": "code",
   "execution_count": 42,
   "id": "83ace918",
   "metadata": {},
   "outputs": [
    {
     "name": "stdout",
     "output_type": "stream",
     "text": [
      "MonDay:1\n",
      "TUEWSDAY:2\n",
      "WENDSDAY:3\n",
      "THURSDAY:4\n",
      "FRIDAY:5\n",
      "SATURDAY:6\n",
      "SUNDAY:7\n"
     ]
    }
   ],
   "source": [
    "for week in Week:\n",
    "    print(f'{week.name}:{week.value}')"
   ]
  },
  {
   "cell_type": "markdown",
   "id": "c6a13ca1",
   "metadata": {},
   "source": [
    "# 수강할 과목의 순서를 구하려면? (graphlib.TopologicalSorter)\n",
    "### 위상 정렬에 사용하는 클래스"
   ]
  },
  {
   "cell_type": "code",
   "execution_count": 43,
   "id": "4e1b123e",
   "metadata": {},
   "outputs": [],
   "source": [
    "#영어 초급, 영어 중급, 영어 고급, 영어 문법, 영어 회화\n",
    "\n",
    "# 규칙 1\n",
    "# 영어 초급 -> 영어 중급 -> 영어 고급\n",
    "\n",
    "# 규칙 2\n",
    "# 영어 중급 -> 영어 문법 -> 영어 고급\n",
    "\n",
    "# 규칙 3 \n",
    "# 영어 문법 -> 영어 회화"
   ]
  },
  {
   "cell_type": "code",
   "execution_count": 44,
   "id": "fdd47998",
   "metadata": {},
   "outputs": [
    {
     "name": "stdout",
     "output_type": "stream",
     "text": [
      "['영어 초급', '영어 중급', '영어 문법', '영어 고급', '영어 회화']\n"
     ]
    }
   ],
   "source": [
    "from graphlib import TopologicalSorter\n",
    "\n",
    "ts = TopologicalSorter()\n",
    "\n",
    "\n",
    "#add(노드, *선행_노드)\n",
    "\n",
    "#규칙1\n",
    "ts.add('영어 중급', '영어 초급')\n",
    "ts.add('영어 고급', '영어 중급')\n",
    "\n",
    "#규칙2\n",
    "\n",
    "ts.add('영어 문법', '영어 중급')\n",
    "ts.add('영어 고급', '영어 문법')\n",
    "\n",
    "#규칙3\n",
    "ts.add('영어 회화', '영어 문법')\n",
    "\n",
    "print(list(ts.static_order())) # 위상 정렬한 결과 출력 "
   ]
  },
  {
   "cell_type": "code",
   "execution_count": null,
   "id": "505e7768",
   "metadata": {},
   "outputs": [],
   "source": []
  }
 ],
 "metadata": {
  "kernelspec": {
   "display_name": "Python 3",
   "language": "python",
   "name": "python3"
  },
  "language_info": {
   "codemirror_mode": {
    "name": "ipython",
    "version": 3
   },
   "file_extension": ".py",
   "mimetype": "text/x-python",
   "name": "python",
   "nbconvert_exporter": "python",
   "pygments_lexer": "ipython3",
   "version": "3.8.8"
  }
 },
 "nbformat": 4,
 "nbformat_minor": 5
}
