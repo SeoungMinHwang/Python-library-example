{
 "cells": [
  {
   "cell_type": "markdown",
   "id": "e517a734",
   "metadata": {},
   "source": [
    "# 문자열을 파일처럼 다루려면?\n",
    "## io.StringIO\n",
    "### 문자열을 파일 객체처럼 다룰 수 있도록 하는 클래스"
   ]
  },
  {
   "cell_type": "markdown",
   "id": "6c01900c",
   "metadata": {},
   "source": [
    " 011src.csv  \n",
    " \n",
    " 20,40  \n",
    " 50,90  \n",
    " 77,22  "
   ]
  },
  {
   "cell_type": "code",
   "execution_count": 1,
   "id": "3842fb3a",
   "metadata": {},
   "outputs": [
    {
     "name": "stdout",
     "output_type": "stream",
     "text": [
      "[['20', '40', 60], ['50', '90', 140], ['77', '22', 99]]\n"
     ]
    }
   ],
   "source": [
    "import csv \n",
    "\n",
    "def execute(f):\n",
    "    result = []\n",
    "    reader = csv.reader(f)\n",
    "    for line in reader:\n",
    "        one = int(line[0])\n",
    "        two = int(line[1])\n",
    "        three = one+two\n",
    "        line.append(three)\n",
    "        result.append(line)\n",
    "    return result\n",
    "\n",
    "with open('011src.csv', 'r', encoding='utf-8') as f:\n",
    "    result = execute(f)\n",
    "    print(result)"
   ]
  },
  {
   "cell_type": "code",
   "execution_count": 2,
   "id": "8d7a113a",
   "metadata": {},
   "outputs": [
    {
     "name": "stdout",
     "output_type": "stream",
     "text": [
      "[['20', '40', 60], ['50', '90', 140], ['77', '22', 99]]\n"
     ]
    }
   ],
   "source": [
    "# execute()함수는 인수로 파일 객체를 지정해야 하므로 문자열을 바로 전달할 수 없다.\n",
    "# 이럴 때 문자열을 파일 객체처럼 만드는 io.StringIO클래스를 사용하면 된다!\n",
    "\n",
    "import csv\n",
    "import io\n",
    "\n",
    "def execute(f):\n",
    "    result = []\n",
    "    reader = csv.reader(f)\n",
    "    for line in reader:\n",
    "        one = int(line[0])\n",
    "        two = int(line[1])\n",
    "        three = one+two\n",
    "        line.append(three)\n",
    "        result.append(line)\n",
    "    return result\n",
    "\n",
    "src = '''\\\n",
    "20,40\n",
    "50,90\n",
    "77,22\n",
    "'''\n",
    "\n",
    "with io.StringIO(src) as f:\n",
    "    result = execute(f)\n",
    "    print(result)"
   ]
  },
  {
   "cell_type": "markdown",
   "id": "0859a675",
   "metadata": {},
   "source": [
    "# 명령행 옵션을 지정하여 실행하려면?\n",
    "## argparse\n",
    "### 파이썬 스크립트의 명령행 옵션을 파싱할 때 사용하는 모듈"
   ]
  },
  {
   "cell_type": "markdown",
   "id": "982edea1",
   "metadata": {},
   "source": [
    "-a 또는 -add 옵션을 지정했을 때는 뒤에 오는 모든 정수의 합을 출력한다.  \n",
    "\n",
    "ex  \n",
    "c:\\my_python_directory>python add_mul.py -a 1 2 3 4 5  \n",
    "합은 15입니다.  \n",
    "\n",
    "c:\\my_python_directory>python add_mul.py -add 1 2 3 4 5  \n",
    "합은 15입니다.\n",
    "\n",
    "--------------------------------------------------\n",
    "\n",
    "-m 또는 -mul 옵션을 지정했을 때는 뒤에 오는 모든 정수의 곱을 출력한다.  \n",
    "\n",
    "ex  \n",
    "c:\\my_python_directory>python add_mul.py -a 1 2 3 4 5  \n",
    "곱은 120입니다.    \n",
    "\n",
    "c:\\my_python_directory>python add_mul.py -add 1 2 3 4 5  \n",
    "곱은 120입니다.  \n",
    "\n",
    "------\n",
    "\n",
    "다음처럼 두 개의 옵션 -a, -m을 함께 사용할 수도 있어야 한다.  \n",
    "\n",
    "ex  \n",
    "c:\\my_python_directory>python add_mul.py -a 1 2 3 4 5  -m 1 2 3 4 5\n",
    "합은 15입니다.  \n",
    "곱은 120입니다. "
   ]
  },
  {
   "cell_type": "code",
   "execution_count": 3,
   "id": "3eee9e2c",
   "metadata": {
    "scrolled": true
   },
   "outputs": [
    {
     "name": "stderr",
     "output_type": "stream",
     "text": [
      "usage: ipykernel_launcher.py [-h] [-a N [N ...]] [-m N [N ...]]\n",
      "ipykernel_launcher.py: error: unrecognized arguments: -f C:\\Users\\qq221\\AppData\\Roaming\\jupyter\\runtime\\kernel-992182c4-ccdf-49a3-b480-ccf69f28f3ea.json\n"
     ]
    },
    {
     "ename": "SystemExit",
     "evalue": "2",
     "output_type": "error",
     "traceback": [
      "An exception has occurred, use %tb to see the full traceback.\n",
      "\u001b[1;31mSystemExit\u001b[0m\u001b[1;31m:\u001b[0m 2\n"
     ]
    },
    {
     "name": "stderr",
     "output_type": "stream",
     "text": [
      "C:\\Anaconda3\\lib\\site-packages\\IPython\\core\\interactiveshell.py:3445: UserWarning: To exit: use 'exit', 'quit', or Ctrl-D.\n",
      "  warn(\"To exit: use 'exit', 'quit', or Ctrl-D.\", stacklevel=1)\n"
     ]
    }
   ],
   "source": [
    "#add_mul.py\n",
    "# add_mul.py 만들어서 명령 프롬프트에서 실행\n",
    "import argparse\n",
    "import functools\n",
    "\n",
    "parser = argparse.ArgumentParser()\n",
    "parser.add_argument('-a', '--add', type=int, nargs='+', metavar='N', help = '더할 숫자')\n",
    "parser.add_argument('-m', '--mul', type=int, nargs='+', metavar='N', help = '곱할 숫자')\n",
    "\n",
    "args = parser.parse_args()\n",
    "\n",
    "if args.add:\n",
    "    print(\"합은 %d입니다\" % functools.reduce(lambda x,y: x+y, args.add))\n",
    "if args.mul:\n",
    "    print(\"곱은 %d입니다\" % functools.reduce(lambda x,y: x*y, args.mul))"
   ]
  },
  {
   "cell_type": "markdown",
   "id": "e4e5e19c",
   "metadata": {},
   "source": [
    "### 실행 화면\n",
    "\n",
    "C:\\Users\\qq221>python add_mul.py -a 1 2 3 4 5  \n",
    "합은 15입니다  \n",
    "\n",
    "C:\\Users\\qq221>python add_mul.py -m 1 2 3 4 5  \n",
    "곱은 120입니다  \n",
    "\n",
    "C:\\Users\\qq221>python add_mul.py -a 1 2 3 4 5 --mul 1 2 3 4 5  \n",
    "합은 15입니다  \n",
    "곱은 120입니다\n",
    "\n",
    "C:\\Users\\qq221>python add_mul.py -h  \n",
    "usage: add_mul.py [-h] [-a N [N ...]] [-m N [N ...]]  \n",
    "\n",
    "optional arguments:  \n",
    "  -h, --help            show this help message and exit  \n",
    "  -a N [N ...], --add N [N ...]  \n",
    "                        더할 숫자  \n",
    "  -m N [N ...], --mul N [N ...]  \n",
    "                         곱할 숫자  "
   ]
  },
  {
   "cell_type": "markdown",
   "id": "80155bbd",
   "metadata": {},
   "source": [
    "# 디버깅용 로그를 남기려면?\n",
    "## logging\n",
    "### 로그를 파일로 출력할 때 사용하는 모듈"
   ]
  },
  {
   "cell_type": "code",
   "execution_count": 4,
   "id": "32419c5e",
   "metadata": {},
   "outputs": [],
   "source": [
    "from logging.config import dictConfig\n",
    "import logging\n",
    "\n",
    "dictConfig({\n",
    "    #  1 고정 logging모듈이 업그레이드 될 때 현재 설정을 보장 \n",
    "    'version': 1,\n",
    "    'formatters': {\n",
    "        'default': {\n",
    "                        #asctime 현재시간   message 내가 남길 메시지 \n",
    "            'format': '[%(asctime)s] %(message)s',\n",
    "        }\n",
    "    },\n",
    "    # 로그를 출력 할 방법 정의 \n",
    "    'handlers': {\n",
    "        # 파일 형태로 로깅 \n",
    "        'file': {\n",
    "            'level': 'DEBUG',                # 로그 레벨  1.DEBUG : 디버깅 목적\n",
    "            'class': 'logging.FileHandler',  #            2.INFO  : 일반 정보 출력 목적 \n",
    "                                             #            3.WARNING : 경고 정보 출력 목적(작은 문제)\n",
    "                                            #            4.ERROR : 오류 정보 출력 목적(큰 문제)\n",
    "                                            #            5.CRITICAL : 아주 심각한 문제 출력 목적\n",
    "            'filename': 'debug.log',\n",
    "            'formatter': 'default',\n",
    "        },\n",
    "    },\n",
    "    'root': {\n",
    "        'level': 'DEBUG',\n",
    "        'handlers': ['file']\n",
    "    }\n",
    "})\n",
    "\n",
    "\n",
    "def myfunc():\n",
    "    logging.debug(\"함수가 시작되었습니다.\")\n",
    "\n",
    "\n",
    "myfunc()"
   ]
  },
  {
   "cell_type": "markdown",
   "id": "08096696",
   "metadata": {},
   "source": [
    "# 입력한 비밀번호를 감추려면?\n",
    "## getpass\n",
    "### 비밀번호를 입력할 때 이를 화면에 노출하지 않도록 하는 모듈"
   ]
  },
  {
   "cell_type": "code",
   "execution_count": 5,
   "id": "d63a2409",
   "metadata": {},
   "outputs": [
    {
     "name": "stdout",
     "output_type": "stream",
     "text": [
      "비밀번호 입력하세요 : my_pw_2252\n"
     ]
    }
   ],
   "source": [
    "# 화면에 그대로 노출\n",
    "passwd = input(\"비밀번호 입력하세요 : \")"
   ]
  },
  {
   "cell_type": "code",
   "execution_count": 6,
   "id": "20279de9",
   "metadata": {},
   "outputs": [
    {
     "name": "stdout",
     "output_type": "stream",
     "text": [
      "Password:········\n"
     ]
    }
   ],
   "source": [
    "# 비밀번호 화면에 출력 X\n",
    "import getpass\n",
    "\n",
    "passwd = getpass.getpass(\"Password:\")"
   ]
  },
  {
   "cell_type": "markdown",
   "id": "0111f119",
   "metadata": {},
   "source": [
    "# 터미널 프로그램을 만드려면?\n",
    "## curses\n",
    "### 터미널 그래픽 애플리케이션을 만들 때 사용하는 모듈"
   ]
  },
  {
   "cell_type": "markdown",
   "id": "a1bc7c7a",
   "metadata": {},
   "source": [
    "curses 모듈은 Unix환경에서만 사용할 수 있다.(Window에서는 사용불가)  \n",
    "환경이 리눅스나 유닉스가 아니라면   \n",
    "https:\\\\replit.com"
   ]
  },
  {
   "cell_type": "code",
   "execution_count": 7,
   "id": "d2be6551",
   "metadata": {},
   "outputs": [
    {
     "ename": "ModuleNotFoundError",
     "evalue": "No module named '_curses'",
     "output_type": "error",
     "traceback": [
      "\u001b[1;31m---------------------------------------------------------------------------\u001b[0m",
      "\u001b[1;31mModuleNotFoundError\u001b[0m                       Traceback (most recent call last)",
      "\u001b[1;32m<ipython-input-7-8ecb48abbadf>\u001b[0m in \u001b[0;36m<module>\u001b[1;34m\u001b[0m\n\u001b[1;32m----> 1\u001b[1;33m \u001b[1;32mimport\u001b[0m \u001b[0mcurses\u001b[0m\u001b[1;33m\u001b[0m\u001b[1;33m\u001b[0m\u001b[0m\n\u001b[0m\u001b[0;32m      2\u001b[0m \u001b[1;32mimport\u001b[0m \u001b[0mrandom\u001b[0m\u001b[1;33m\u001b[0m\u001b[1;33m\u001b[0m\u001b[0m\n\u001b[0;32m      3\u001b[0m \u001b[1;33m\u001b[0m\u001b[0m\n\u001b[0;32m      4\u001b[0m \u001b[1;32mtry\u001b[0m\u001b[1;33m:\u001b[0m\u001b[1;33m\u001b[0m\u001b[1;33m\u001b[0m\u001b[0m\n\u001b[0;32m      5\u001b[0m     \u001b[0mstdscr\u001b[0m \u001b[1;33m=\u001b[0m \u001b[0mcurses\u001b[0m\u001b[1;33m.\u001b[0m\u001b[0minitscr\u001b[0m\u001b[1;33m(\u001b[0m\u001b[1;33m)\u001b[0m\u001b[1;33m\u001b[0m\u001b[1;33m\u001b[0m\u001b[0m\n",
      "\u001b[1;32mC:\\Anaconda3\\lib\\curses\\__init__.py\u001b[0m in \u001b[0;36m<module>\u001b[1;34m\u001b[0m\n\u001b[0;32m     11\u001b[0m \"\"\"\n\u001b[0;32m     12\u001b[0m \u001b[1;33m\u001b[0m\u001b[0m\n\u001b[1;32m---> 13\u001b[1;33m \u001b[1;32mfrom\u001b[0m \u001b[0m_curses\u001b[0m \u001b[1;32mimport\u001b[0m \u001b[1;33m*\u001b[0m\u001b[1;33m\u001b[0m\u001b[1;33m\u001b[0m\u001b[0m\n\u001b[0m\u001b[0;32m     14\u001b[0m \u001b[1;32mimport\u001b[0m \u001b[0mos\u001b[0m \u001b[1;32mas\u001b[0m \u001b[0m_os\u001b[0m\u001b[1;33m\u001b[0m\u001b[1;33m\u001b[0m\u001b[0m\n\u001b[0;32m     15\u001b[0m \u001b[1;32mimport\u001b[0m \u001b[0msys\u001b[0m \u001b[1;32mas\u001b[0m \u001b[0m_sys\u001b[0m\u001b[1;33m\u001b[0m\u001b[1;33m\u001b[0m\u001b[0m\n",
      "\u001b[1;31mModuleNotFoundError\u001b[0m: No module named '_curses'"
     ]
    }
   ],
   "source": [
    "import curses\n",
    "import random\n",
    "\n",
    "try:\n",
    "    stdscr = curses.initscr()\n",
    "\n",
    "    curses.start_color()\n",
    "    curses.use_default_colors()\n",
    "    curses.init_pair(1, curses.COLOR_CYAN, curses.COLOR_BLACK)\n",
    "\n",
    "    success = 0\n",
    "    failure = 0\n",
    "\n",
    "    for i in range(3):\n",
    "        stdscr.clear()  # 문제가 변경되면 화면을 지움\n",
    "        a = random.randint(1, 100)\n",
    "        b = random.randint(1, 100)\n",
    "        result = a + b\n",
    "\n",
    "        stdscr.addstr(0, 0, str(a), curses.color_pair(1) | curses.A_BOLD)\n",
    "        stdscr.addstr(\" + \")\n",
    "        stdscr.addstr(str(b), curses.color_pair(1) | curses.A_BOLD)\n",
    "        stdscr.addstr(\" = ?\")\n",
    "\n",
    "        answer = stdscr.getstr(1, 0, 3)\n",
    "\n",
    "        if result == int(answer):\n",
    "            success += 1\n",
    "        else:\n",
    "            failure += 1\n",
    "\n",
    "    stdscr.addstr(3, 0, \"맞은갯수:%d, 틀린갯수:%d\" % (success, failure))\n",
    "    stdscr.addstr(5, 0, \"Press enter key...\")\n",
    "    stdscr.getkey()\n",
    "\n",
    "finally:\n",
    "    curses.endwin()"
   ]
  },
  {
   "cell_type": "markdown",
   "id": "170eb02d",
   "metadata": {},
   "source": [
    "# 시스템 정보를 알아보려면?\n",
    "## platform\n",
    "### 시스템 정보를 확인할 때 사용하는 모듈"
   ]
  },
  {
   "cell_type": "code",
   "execution_count": 8,
   "id": "08edf9e5",
   "metadata": {},
   "outputs": [
    {
     "data": {
      "text/plain": [
       "uname_result(system='Windows', node='DESKTOP-6S1KRVF', release='10', version='10.0.19041', machine='AMD64', processor='AMD64 Family 23 Model 96 Stepping 1, AuthenticAMD')"
      ]
     },
     "execution_count": 8,
     "metadata": {},
     "output_type": "execute_result"
    }
   ],
   "source": [
    "import platform\n",
    "info = platform.uname()\n",
    "info"
   ]
  },
  {
   "cell_type": "code",
   "execution_count": null,
   "id": "61577722",
   "metadata": {},
   "outputs": [],
   "source": []
  }
 ],
 "metadata": {
  "kernelspec": {
   "display_name": "Python 3",
   "language": "python",
   "name": "python3"
  },
  "language_info": {
   "codemirror_mode": {
    "name": "ipython",
    "version": 3
   },
   "file_extension": ".py",
   "mimetype": "text/x-python",
   "name": "python",
   "nbconvert_exporter": "python",
   "pygments_lexer": "ipython3",
   "version": "3.8.8"
  }
 },
 "nbformat": 4,
 "nbformat_minor": 5
}
