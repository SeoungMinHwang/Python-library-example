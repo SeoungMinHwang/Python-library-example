{
 "cells": [
  {
   "cell_type": "markdown",
   "id": "67300703",
   "metadata": {},
   "source": [
    "# 스레드를 이용하여 병렬로 처리하려면?\n",
    "## threading\n",
    "### 스레드를 이용하여 한 프로세스에서 2가지 이상의 일을 동시에 실행할 수 있게 하는 모듈"
   ]
  },
  {
   "cell_type": "code",
   "execution_count": 1,
   "id": "52426c15",
   "metadata": {},
   "outputs": [
    {
     "name": "stdout",
     "output_type": "stream",
     "text": [
      "wikidocs page:12\n",
      "wikidocs page:13\n",
      "wikidocs page:14\n",
      "wikidocs page:15\n",
      "wikidocs page:17\n",
      "wikidocs page:18\n",
      "wikidocs page:20\n",
      "wikidocs page:21\n",
      "wikidocs page:22\n",
      "wikidocs page:24\n",
      "수행시간: 2.955191 초\n"
     ]
    }
   ],
   "source": [
    "import urllib.request\n",
    "\n",
    "\n",
    "def get_wikidocs(page):\n",
    "    '''위키 독스에서 페이지로 지정해준 html 파일들을 저장하는 코드'''\n",
    "    \n",
    "    print(\"wikidocs page:{}\".format(page))  # 페이지 호출시 출력\n",
    "    resource = 'https://wikidocs.net/{}'.format(page)\n",
    "    try:\n",
    "        with urllib.request.urlopen(resource) as s:\n",
    "            with open('wikidocs_%s.html' % page, 'wb') as f:\n",
    "                f.write(s.read())\n",
    "    except urllib.error.HTTPError:\n",
    "        return 'Not Found'\n",
    "\n",
    "\n",
    "import time\n",
    "\n",
    "start = time.time()\n",
    "\n",
    "pages = [12, 13, 14, 15, 17, 18, 20, 21, 22, 24]\n",
    "for page in pages:\n",
    "    get_wikidocs(page)\n",
    "\n",
    "end = time.time()\n",
    "\n",
    "print(\"수행시간: %f 초\" % (end - start))"
   ]
  },
  {
   "cell_type": "code",
   "execution_count": 2,
   "id": "5bed5150",
   "metadata": {},
   "outputs": [
    {
     "name": "stdout",
     "output_type": "stream",
     "text": [
      "wikidocs page:12\n",
      "wikidocs page:13\n",
      "wikidocs page:14wikidocs page:15\n",
      "\n",
      "wikidocs page:17\n",
      "wikidocs page:18\n",
      "wikidocs page:20\n",
      "wikidocs page:21\n",
      "wikidocs page:22\n",
      "wikidocs page:24\n",
      "수행시간: 1.220127 초\n"
     ]
    }
   ],
   "source": [
    "#스레드 사용시\n",
    "import urllib.request\n",
    "\n",
    "\n",
    "def get_wikidocs(page):\n",
    "    print(\"wikidocs page:{}\".format(page))  # 페이지 호출시 출력\n",
    "    resource = 'https://wikidocs.net/{}'.format(page)\n",
    "    try:\n",
    "        with urllib.request.urlopen(resource) as s:\n",
    "            with open('wikidocs_%s.html' % page, 'wb') as f:\n",
    "                f.write(s.read())\n",
    "    except urllib.error.HTTPError:\n",
    "        return 'Not Found'\n",
    "\n",
    "\n",
    "import time\n",
    "import threading\n",
    "\n",
    "start = time.time()\n",
    "\n",
    "pages = [12, 13, 14, 15, 17, 18, 20, 21, 22, 24]\n",
    "threads = []\n",
    "\n",
    "for page in pages:\n",
    "    #wikidocs함수를 실행하는 쓰레드 t 생성 \n",
    "    t = threading.Thread(target=get_wikidocs, args=(page, ))\n",
    "    \n",
    "    # 스레드 독립적으로 실행 \n",
    "    t.start()\n",
    "    \n",
    "    # join()함수로 모든 스레드의 종료 시간을 측정하기위해 threads리스트에 담아둠 \n",
    "    threads.append(t)\n",
    "\n",
    "for t in threads:\n",
    "    t.join()  # 스레드가 종료될 때까지 대기\n",
    "\n",
    "end = time.time()\n",
    "\n",
    "print(\"수행시간: %f 초\" % (end - start))"
   ]
  },
  {
   "cell_type": "markdown",
   "id": "17cc3166",
   "metadata": {},
   "source": [
    "# 멀티 프로세스를 이용하여 병렬로 처리하려면? \n",
    "## multiprocessing\n",
    "### 멀티 프로세스를 활용하여 2가지 또는 그 이상의 일을 동시에 실행"
   ]
  },
  {
   "cell_type": "code",
   "execution_count": 3,
   "id": "fc451547",
   "metadata": {},
   "outputs": [
    {
     "name": "stdout",
     "output_type": "stream",
     "text": [
      "0 done\n",
      "1 done\n",
      "2 done\n",
      "3 done\n",
      "4 done\n",
      "5 done\n",
      "6 done\n",
      "7 done\n",
      "8 done\n",
      "9 done\n",
      "수행시간:  5.4086644649505615초\n"
     ]
    }
   ],
   "source": [
    "# CPU 연산이 많은 heavy_work() 함수를 10번 실행하고 그 소요 시간을 측정 \n",
    "import time\n",
    "\n",
    "\n",
    "def heavy_work(name):\n",
    "    result = 0\n",
    "    for i in range(4000000):\n",
    "        result += i\n",
    "    print(f'{name} done')\n",
    "\n",
    "\n",
    "start = time.time()\n",
    "\n",
    "for i in range(10):\n",
    "    heavy_work(i)\n",
    "\n",
    "end = time.time()\n",
    "\n",
    "print(f\"수행시간:  {(end - start)}초\")"
   ]
  },
  {
   "cell_type": "code",
   "execution_count": 4,
   "id": "28b81c4c",
   "metadata": {},
   "outputs": [
    {
     "name": "stdout",
     "output_type": "stream",
     "text": [
      "2 done\n",
      "8 done7 done\n",
      "0 done\n",
      "4 done\n",
      "1 done\n",
      "\n",
      "5 done\n",
      "3 done6 done\n",
      "\n",
      "9 done\n",
      "수행시간: 5.3679914474487305 초\n"
     ]
    }
   ],
   "source": [
    "# threading 모듈을 사용한 풀이 \n",
    "# CPU 연산만 수행할 때는 수행 시간 단축에 큰 도움이 되지 않음 \n",
    "\n",
    "import time\n",
    "\n",
    "\n",
    "def heavy_work(name):\n",
    "    result = 0\n",
    "    for i in range(4000000):\n",
    "        result += i\n",
    "    print(f'{name} done')\n",
    "\n",
    "\n",
    "if __name__ == '__main__':\n",
    "    import threading\n",
    "\n",
    "    start = time.time()\n",
    "    threads = []\n",
    "    for i in range(10):\n",
    "        t = threading.Thread(target=heavy_work, args=(i, ))\n",
    "        t.start()\n",
    "        threads.append(t)\n",
    "\n",
    "    for t in threads:\n",
    "        t.join()  # 스레드가 종료될 때까지 대기\n",
    "\n",
    "    end = time.time()\n",
    "\n",
    "    print(f\"수행시간: {(end - start)} 초\")\n"
   ]
  },
  {
   "cell_type": "code",
   "execution_count": 5,
   "id": "a6450edf",
   "metadata": {},
   "outputs": [
    {
     "name": "stdout",
     "output_type": "stream",
     "text": [
      "수행시간: 0.7801053524017334 초\n"
     ]
    }
   ],
   "source": [
    "#multoprocessiing 모듈을 사용한 풀이\n",
    "# 멀티 프로세서와 별개의 메모리를 사용하여 완전히 독립하여 병렬 프로그래밍 가능 \n",
    "# 여러 개의 CPU가 있는 멀티코어 환경에서만 가능\n",
    "import time\n",
    "\n",
    "\n",
    "def heavy_work(name):\n",
    "    result = 0\n",
    "    for i in range(4000000):\n",
    "        result += i\n",
    "    print(f'{name} done')\n",
    "\n",
    "\n",
    "if __name__ == '__main__':\n",
    "    import multiprocessing\n",
    "\n",
    "    start = time.time()\n",
    "    procs = []\n",
    "    for i in range(10):\n",
    "        p = multiprocessing.Process(target=heavy_work, args=(i, ))\n",
    "        p.start()\n",
    "        procs.append(p)\n",
    "\n",
    "    for p in procs:\n",
    "        p.join()  # 프로세스가 모두 종료될 때까지 대기\n",
    "\n",
    "    end = time.time()\n",
    "\n",
    "    print(f\"수행시간: {(end - start)} 초\")"
   ]
  },
  {
   "cell_type": "markdown",
   "id": "1631f9e9",
   "metadata": {},
   "source": [
    "# 병렬로 작업을 처리하려면?\n",
    "## concurrent.futures\n",
    "### concurrent.futures 모듈을 사용하면 같은 규칙으로 스레드와 멀티 프로세스 코드를 더 쉽게 작성 가능"
   ]
  },
  {
   "cell_type": "code",
   "execution_count": 8,
   "id": "8487dadb",
   "metadata": {
    "collapsed": true
   },
   "outputs": [
    {
     "ename": "BrokenProcessPool",
     "evalue": "A process in the process pool was terminated abruptly while the future was running or pending.",
     "output_type": "error",
     "traceback": [
      "\u001b[1;31m---------------------------------------------------------------------------\u001b[0m",
      "\u001b[1;31mBrokenProcessPool\u001b[0m                         Traceback (most recent call last)",
      "\u001b[1;32m<ipython-input-8-67428d0f0bc6>\u001b[0m in \u001b[0;36m<module>\u001b[1;34m\u001b[0m\n\u001b[0;32m     25\u001b[0m \u001b[1;33m\u001b[0m\u001b[0m\n\u001b[0;32m     26\u001b[0m     \u001b[1;32mfor\u001b[0m \u001b[0mp\u001b[0m \u001b[1;32min\u001b[0m \u001b[0mconcurrent\u001b[0m\u001b[1;33m.\u001b[0m\u001b[0mfutures\u001b[0m\u001b[1;33m.\u001b[0m\u001b[0mas_completed\u001b[0m\u001b[1;33m(\u001b[0m\u001b[0mprocs\u001b[0m\u001b[1;33m)\u001b[0m\u001b[1;33m:\u001b[0m\u001b[1;33m\u001b[0m\u001b[1;33m\u001b[0m\u001b[0m\n\u001b[1;32m---> 27\u001b[1;33m         \u001b[0mtotal_result\u001b[0m \u001b[1;33m+=\u001b[0m \u001b[0mp\u001b[0m\u001b[1;33m.\u001b[0m\u001b[0mresult\u001b[0m\u001b[1;33m(\u001b[0m\u001b[1;33m)\u001b[0m\u001b[1;33m\u001b[0m\u001b[1;33m\u001b[0m\u001b[0m\n\u001b[0m\u001b[0;32m     28\u001b[0m \u001b[1;33m\u001b[0m\u001b[0m\n\u001b[0;32m     29\u001b[0m     \u001b[0mend\u001b[0m \u001b[1;33m=\u001b[0m \u001b[0mtime\u001b[0m\u001b[1;33m.\u001b[0m\u001b[0mtime\u001b[0m\u001b[1;33m(\u001b[0m\u001b[1;33m)\u001b[0m\u001b[1;33m\u001b[0m\u001b[1;33m\u001b[0m\u001b[0m\n",
      "\u001b[1;32mC:\\Anaconda3\\lib\\concurrent\\futures\\_base.py\u001b[0m in \u001b[0;36mresult\u001b[1;34m(self, timeout)\u001b[0m\n\u001b[0;32m    430\u001b[0m                 \u001b[1;32mraise\u001b[0m \u001b[0mCancelledError\u001b[0m\u001b[1;33m(\u001b[0m\u001b[1;33m)\u001b[0m\u001b[1;33m\u001b[0m\u001b[1;33m\u001b[0m\u001b[0m\n\u001b[0;32m    431\u001b[0m             \u001b[1;32melif\u001b[0m \u001b[0mself\u001b[0m\u001b[1;33m.\u001b[0m\u001b[0m_state\u001b[0m \u001b[1;33m==\u001b[0m \u001b[0mFINISHED\u001b[0m\u001b[1;33m:\u001b[0m\u001b[1;33m\u001b[0m\u001b[1;33m\u001b[0m\u001b[0m\n\u001b[1;32m--> 432\u001b[1;33m                 \u001b[1;32mreturn\u001b[0m \u001b[0mself\u001b[0m\u001b[1;33m.\u001b[0m\u001b[0m__get_result\u001b[0m\u001b[1;33m(\u001b[0m\u001b[1;33m)\u001b[0m\u001b[1;33m\u001b[0m\u001b[1;33m\u001b[0m\u001b[0m\n\u001b[0m\u001b[0;32m    433\u001b[0m \u001b[1;33m\u001b[0m\u001b[0m\n\u001b[0;32m    434\u001b[0m             \u001b[0mself\u001b[0m\u001b[1;33m.\u001b[0m\u001b[0m_condition\u001b[0m\u001b[1;33m.\u001b[0m\u001b[0mwait\u001b[0m\u001b[1;33m(\u001b[0m\u001b[0mtimeout\u001b[0m\u001b[1;33m)\u001b[0m\u001b[1;33m\u001b[0m\u001b[1;33m\u001b[0m\u001b[0m\n",
      "\u001b[1;32mC:\\Anaconda3\\lib\\concurrent\\futures\\_base.py\u001b[0m in \u001b[0;36m__get_result\u001b[1;34m(self)\u001b[0m\n\u001b[0;32m    386\u001b[0m     \u001b[1;32mdef\u001b[0m \u001b[0m__get_result\u001b[0m\u001b[1;33m(\u001b[0m\u001b[0mself\u001b[0m\u001b[1;33m)\u001b[0m\u001b[1;33m:\u001b[0m\u001b[1;33m\u001b[0m\u001b[1;33m\u001b[0m\u001b[0m\n\u001b[0;32m    387\u001b[0m         \u001b[1;32mif\u001b[0m \u001b[0mself\u001b[0m\u001b[1;33m.\u001b[0m\u001b[0m_exception\u001b[0m\u001b[1;33m:\u001b[0m\u001b[1;33m\u001b[0m\u001b[1;33m\u001b[0m\u001b[0m\n\u001b[1;32m--> 388\u001b[1;33m             \u001b[1;32mraise\u001b[0m \u001b[0mself\u001b[0m\u001b[1;33m.\u001b[0m\u001b[0m_exception\u001b[0m\u001b[1;33m\u001b[0m\u001b[1;33m\u001b[0m\u001b[0m\n\u001b[0m\u001b[0;32m    389\u001b[0m         \u001b[1;32melse\u001b[0m\u001b[1;33m:\u001b[0m\u001b[1;33m\u001b[0m\u001b[1;33m\u001b[0m\u001b[0m\n\u001b[0;32m    390\u001b[0m             \u001b[1;32mreturn\u001b[0m \u001b[0mself\u001b[0m\u001b[1;33m.\u001b[0m\u001b[0m_result\u001b[0m\u001b[1;33m\u001b[0m\u001b[1;33m\u001b[0m\u001b[0m\n",
      "\u001b[1;31mBrokenProcessPool\u001b[0m: A process in the process pool was terminated abruptly while the future was running or pending."
     ]
    }
   ],
   "source": [
    "#이 코드는 py파일로 실행해 주세요\n",
    "import time\n",
    "\n",
    "\n",
    "def heavy_work(name):\n",
    "    result = 0\n",
    "    for i in range(4000000):\n",
    "        result += i\n",
    "    print('%s done' % name)\n",
    "    return result  # 결과를 반환하도록 변경\n",
    "\n",
    "\n",
    "if __name__ == '__main__':\n",
    "    import concurrent.futures\n",
    "\n",
    "    start = time.time()\n",
    "\n",
    "    total_result = 0\n",
    "    pool = concurrent.futures.ProcessPoolExecutor(max_workers=4)\n",
    "\n",
    "    procs = []\n",
    "    for i in range(4):\n",
    "        procs.append(pool.submit(heavy_work, i))\n",
    "\n",
    "    for p in concurrent.futures.as_completed(procs):\n",
    "        total_result += p.result()\n",
    "\n",
    "    end = time.time()\n",
    "\n",
    "    print(\"수행시간: %f 초\" % (end - start))\n",
    "    print(\"총결괏값: %s\" % total_result)\n",
    "    \n",
    "    \n",
    "    \n",
    "#결과 \n",
    "\n",
    "# 0 done\n",
    "# 1 done\n",
    "# 2 done\n",
    "# 3 done\n",
    "# 수행시간: 1.021849 초\n",
    "# 총결괏값: 31999992000000"
   ]
  },
  {
   "cell_type": "markdown",
   "id": "518f4455",
   "metadata": {},
   "source": [
    "# 시스템 명령어를 실행하려면?\n",
    "## subprocess\n",
    "### 다양한 방법으로 시스템 명령을 실행하는 모듈"
   ]
  },
  {
   "cell_type": "code",
   "execution_count": 6,
   "id": "2796a783",
   "metadata": {},
   "outputs": [],
   "source": [
    "import subprocess\n",
    "\n",
    "with open('012out.txt', 'wb') as f:\n",
    "    \n",
    "                        # 리눅스 황경에서는 ['ls', '-l']\n",
    "    out = subprocess.run(['cmd','/c', 'dir'], capture_output=True)\n",
    "    f.write(out.stdout)"
   ]
  },
  {
   "cell_type": "code",
   "execution_count": 7,
   "id": "14281550",
   "metadata": {},
   "outputs": [
    {
     "name": "stdout",
     "output_type": "stream",
     "text": [
      "['cmd', '/c', 'dir']\n"
     ]
    }
   ],
   "source": [
    "# 이를 사용하여 더 간단히 명령어 리스트 생성 가능\n",
    "import shlex\n",
    "\n",
    "command = shlex.split('cmd /c dir')\n",
    "print(command)"
   ]
  },
  {
   "cell_type": "code",
   "execution_count": 8,
   "id": "c03c4999",
   "metadata": {},
   "outputs": [
    {
     "data": {
      "text/plain": [
       "CompletedProcess(args='find ./ -name \"*.html\"|xargs grep \"python\"', returncode=255)"
      ]
     },
     "execution_count": 8,
     "metadata": {},
     "output_type": "execute_result"
    }
   ],
   "source": [
    "#복잡한 명령어 일 때 shell=True옵션 사용하여 리스트로 넘겨줄 필요 없이 전체 명렁을 하나의 문자열로 전달\n",
    "import subprocess\n",
    "\n",
    "subprocess.run('find ./ -name \"*.html\"|xargs grep \"python\"', shell=True)"
   ]
  },
  {
   "cell_type": "markdown",
   "id": "59100fdf",
   "metadata": {},
   "source": [
    "# 원하는 작업을 원하는 시간에 실행하려면?\n",
    "## sched\n",
    "### 지정된 시간에 원하는 이벤트를 실행하게 하는 이벤트 스케줄러"
   ]
  },
  {
   "cell_type": "code",
   "execution_count": 9,
   "id": "77438fab",
   "metadata": {},
   "outputs": [
    {
     "name": "stdout",
     "output_type": "stream",
     "text": [
      "A\n",
      "B\n",
      "C\n"
     ]
    }
   ],
   "source": [
    "def print_a(a):\n",
    "    print(a)\n",
    "\n",
    "\n",
    "def print_b(b):\n",
    "    print(b)\n",
    "\n",
    "\n",
    "def print_c(c):\n",
    "    print(c)\n",
    "\n",
    "\n",
    "print_a(\"A\")\n",
    "print_b(\"B\")\n",
    "print_c(\"C\")"
   ]
  },
  {
   "cell_type": "markdown",
   "id": "9095f330",
   "metadata": {},
   "source": [
    "위 프로그램을 다음과 같이 실행하려면?\n",
    "1. 프로그램 실행 후 5초 후에 print_a() 호출\n",
    "2. 프로그램 실행 후 3초 후에 print_b() 호출\n",
    "3. 프로그램 실행 후 7초 후에 print_c() 호출"
   ]
  },
  {
   "cell_type": "code",
   "execution_count": 10,
   "id": "a0d211ca",
   "metadata": {},
   "outputs": [
    {
     "name": "stdout",
     "output_type": "stream",
     "text": [
      "3.0091757774353027\n",
      "B\n",
      "5.015695333480835\n",
      "A\n",
      "7.015605211257935\n",
      "C\n"
     ]
    }
   ],
   "source": [
    "import time\n",
    "import sched\n",
    "\n",
    "start = time.time()\n",
    "\n",
    "\n",
    "def print_a(a):\n",
    "    print(time.time() - start)\n",
    "    print(a)\n",
    "\n",
    "\n",
    "def print_b(b):\n",
    "    print(time.time() - start)\n",
    "    print(b)\n",
    "\n",
    "\n",
    "def print_c(c):\n",
    "    print(time.time() - start)\n",
    "    print(c)\n",
    "\n",
    "\n",
    "s = sched.scheduler()\n",
    "\n",
    "# s.enter(딜레이 시간, 우선순위, 실행할 함수, 함수의 파라미터)\n",
    "s.enter(5, 1, print_a, ('A',))  # 5초 후에 실행\n",
    "s.enter(3, 1, print_b, ('B',))  # 3초 후에 실행\n",
    "s.enter(7, 1, print_c, ('C',))  # 7초 후에 실행\n",
    "s.run()"
   ]
  }
 ],
 "metadata": {
  "kernelspec": {
   "display_name": "Python 3",
   "language": "python",
   "name": "python3"
  },
  "language_info": {
   "codemirror_mode": {
    "name": "ipython",
    "version": 3
   },
   "file_extension": ".py",
   "mimetype": "text/x-python",
   "name": "python",
   "nbconvert_exporter": "python",
   "pygments_lexer": "ipython3",
   "version": "3.8.8"
  }
 },
 "nbformat": 4,
 "nbformat_minor": 5
}
