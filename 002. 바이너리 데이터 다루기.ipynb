{
 "cells": [
  {
   "cell_type": "markdown",
   "id": "0114eb32",
   "metadata": {},
   "source": [
    "# C로 만든 데이터를 출력하려면?(struct)\n",
    "### C로 만든 구조체 이진 데이터를 처리할 때 활용하는 모듈 "
   ]
  },
  {
   "cell_type": "code",
   "execution_count": 1,
   "id": "45868dcf",
   "metadata": {},
   "outputs": [],
   "source": [
    "import struct"
   ]
  },
  {
   "cell_type": "markdown",
   "id": "85030bba",
   "metadata": {},
   "source": [
    "Functions to convert between Python values and C structs.\n",
    "Python bytes objects are used to hold the data representing the C struct\n",
    "and also as format strings (explained below) to describe the layout of data\n",
    "in the C struct.\n",
    "\n",
    "The optional first format char indicates byte order, size and alignment:\n",
    "  @: native order, size & alignment (default)\n",
    "  =: native order, std. size & alignment\n",
    "  <: little-endian, std. size & alignment\n",
    "  >: big-endian, std. size & alignment\n",
    "  !: same as >\n",
    "\n",
    "The remaining chars indicate types of args and must match exactly;\n",
    "these can be preceded by a decimal repeat count:\n",
    "  x: pad byte (no data); c:char; b:signed byte; B:unsigned byte;\n",
    "  ?: _Bool (requires C99; if not available, char is used instead)\n",
    "  h:short; H:unsigned short; i:int; I:unsigned int;\n",
    "  l:long; L:unsigned long; f:float; d:double; e:half-float.\n",
    "Special cases (preceding decimal count indicates length):\n",
    "  s:string (array of char); p: pascal string (with count byte).\n",
    "Special cases (only available in native format):\n",
    "  n:ssize_t; N:size_t;\n",
    "  P:an integer type that is wide enough to hold a pointer.\n",
    "Special case (not in native mode unless 'long long' in platform C):\n",
    "  q:long long; Q:unsigned long long\n",
    "Whitespace between formats is ignored.\n",
    "\n",
    "The variable struct.error is an exception raised on errors."
   ]
  },
  {
   "cell_type": "markdown",
   "id": "17c67ca5",
   "metadata": {},
   "source": [
    "Python 모듈 의 char 형식 struct은 압축된 이진 데이터의 바이트 순서, 크기 및 정렬을 지정하는 데 사용됩니다.\n",
    "char 형식은 선택 사항이며 @, =, <, >또는 중 하나일 수 있습니다\n",
    "!. 형식 문자열의 나머지 문자는 이진 데이터의 데이터 유형을 지정하며 정확히 일치해야 합니다. \n",
    "이러한 문자에는 x, c, b, B, h, H, i, I, , l, L, f, d, e, s, p, n, N및 P가 q포함될 수 있습니다\n",
    "Q. 모듈 은 오류에 struct대한 예외 struct.error를 발생시킵니다."
   ]
  },
  {
   "cell_type": "code",
   "execution_count": null,
   "id": "5b970d9e",
   "metadata": {},
   "outputs": [],
   "source": []
  }
 ],
 "metadata": {
  "kernelspec": {
   "display_name": "Python 3",
   "language": "python",
   "name": "python3"
  },
  "language_info": {
   "codemirror_mode": {
    "name": "ipython",
    "version": 3
   },
   "file_extension": ".py",
   "mimetype": "text/x-python",
   "name": "python",
   "nbconvert_exporter": "python",
   "pygments_lexer": "ipython3",
   "version": "3.8.8"
  }
 },
 "nbformat": 4,
 "nbformat_minor": 5
}
