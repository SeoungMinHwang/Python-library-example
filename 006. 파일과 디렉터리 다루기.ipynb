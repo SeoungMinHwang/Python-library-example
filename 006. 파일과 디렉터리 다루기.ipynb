{
 "cells": [
  {
   "cell_type": "markdown",
   "id": "659c970d",
   "metadata": {},
   "source": [
    "# 파일 경로를 객체로 다루려면?\n",
    "## pathlib\n",
    "### 파일 시스템 경로를 문자열이 아닌 객체로 만들어 여러 가지 일을 할 수 있도록 하는 모듈"
   ]
  },
  {
   "cell_type": "code",
   "execution_count": 1,
   "id": "9ca1f444",
   "metadata": {
    "vscode": {
     "languageId": "python"
    }
   },
   "outputs": [],
   "source": [
    "import pathlib\n",
    "\n",
    "# for p in pathlib.Path.cwd().glob('*.txt'):\n",
    "#     new_p = p.parent.joinpath('archive', p.name)\n",
    "#     p.replace(new_p)"
   ]
  },
  {
   "cell_type": "code",
   "execution_count": 2,
   "id": "c6d5bf1f",
   "metadata": {
    "vscode": {
     "languageId": "python"
    }
   },
   "outputs": [
    {
     "data": {
      "text/plain": [
       "WindowsPath('C:/Users/qq221/Study/Python Library/archive/001. 텍스트 다루기.ipynb')"
      ]
     },
     "execution_count": 2,
     "metadata": {},
     "output_type": "execute_result"
    }
   ],
   "source": [
    "p = list(pathlib.Path.cwd().glob('*.ipynb'))[0]\n",
    "p.parent.joinpath('archive',p.name)"
   ]
  },
  {
   "cell_type": "code",
   "execution_count": 3,
   "id": "1b937dd0",
   "metadata": {
    "vscode": {
     "languageId": "python"
    }
   },
   "outputs": [
    {
     "data": {
      "text/plain": [
       "Counter({'': 4, '.ipynb': 6, '.txt': 1})"
      ]
     },
     "execution_count": 3,
     "metadata": {},
     "output_type": "execute_result"
    }
   ],
   "source": [
    "# 현재 디렉터리의 모든 파일을 조사하여 확작자별 개수 구하기\n",
    "import collections, pathlib\n",
    "collections.Counter([p.suffix for p in pathlib.Path.cwd().iterdir()])"
   ]
  },
  {
   "cell_type": "markdown",
   "id": "af93f97d",
   "metadata": {},
   "source": [
    "# 디렉터리의 구성을 알려면?\n",
    "## os.path\n",
    "### 경로명과 파일명에 대한 유용한 함수를 제공하는 모듈"
   ]
  },
  {
   "cell_type": "code",
   "execution_count": 4,
   "id": "65ea626c",
   "metadata": {
    "scrolled": true,
    "vscode": {
     "languageId": "python"
    }
   },
   "outputs": [
    {
     "name": "stdout",
     "output_type": "stream",
     "text": [
      "C:/Users/qq221/Study\\5조\\.ipynb_checkpoints\\윈도우즈 프로젝트랩-checkpoint.ipynb\n",
      "C:/Users/qq221/Study\\5조\\윈도우즈 프로젝트랩.ipynb\n",
      "C:/Users/qq221/Study\\AdaptiveStreamingScraping\\.ipynb_checkpoints\\GetData-checkpoint.ipynb\n",
      "C:/Users/qq221/Study\\AdaptiveStreamingScraping\\GetData.ipynb\n",
      "C:/Users/qq221/Study\\IrastoyaWebscraping\\.ipynb_checkpoints\\01. GetData-checkpoint.ipynb\n",
      "C:/Users/qq221/Study\\IrastoyaWebscraping\\.ipynb_checkpoints\\04.resize_img-checkpoint.ipynb\n",
      "C:/Users/qq221/Study\\IrastoyaWebscraping\\01. GetData.ipynb\n",
      "C:/Users/qq221/Study\\IrastoyaWebscraping\\02.AddTranslation.ipynb\n",
      "C:/Users/qq221/Study\\IrastoyaWebscraping\\03.combine_csv.ipynb\n",
      "C:/Users/qq221/Study\\IrastoyaWebscraping\\04.resize_img.ipynb\n",
      "C:/Users/qq221/Study\\Python Basic\\Dojang\\.ipynb_checkpoints\\01함수-checkpoint.ipynb\n",
      "C:/Users/qq221/Study\\Python Basic\\Dojang\\.ipynb_checkpoints\\02함수에서 위치 인수와 키워드 인수 사용하기-checkpoint.ipynb\n",
      "C:/Users/qq221/Study\\Python Basic\\Dojang\\.ipynb_checkpoints\\03함수에서 재귀호출 사용하기-checkpoint.ipynb\n",
      "C:/Users/qq221/Study\\Python Basic\\Dojang\\.ipynb_checkpoints\\04람다 표현식 사용하기-checkpoint.ipynb\n",
      "C:/Users/qq221/Study\\Python Basic\\Dojang\\.ipynb_checkpoints\\05클로저 사용하기-checkpoint.ipynb\n",
      "C:/Users/qq221/Study\\Python Basic\\Dojang\\.ipynb_checkpoints\\06.클래스 사용하기-checkpoint.ipynb\n",
      "C:/Users/qq221/Study\\Python Basic\\Dojang\\.ipynb_checkpoints\\07.클래스 속성과 정적,클래스 메서드 사용하기-checkpoint.ipynb\n",
      "C:/Users/qq221/Study\\Python Basic\\Dojang\\.ipynb_checkpoints\\08.  클래스 상속 사용하기-checkpoint.ipynb\n",
      "C:/Users/qq221/Study\\Python Basic\\Dojang\\.ipynb_checkpoints\\09.두 점 사이 거리 구하기-checkpoint.ipynb\n",
      "C:/Users/qq221/Study\\Python Basic\\Dojang\\.ipynb_checkpoints\\10. 예외처리 사용하기-checkpoint.ipynb\n",
      "C:/Users/qq221/Study\\Python Basic\\Dojang\\.ipynb_checkpoints\\12.제너레이터 사용하기-checkpoint.ipynb\n",
      "C:/Users/qq221/Study\\Python Basic\\Dojang\\.ipynb_checkpoints\\13. 코루틴 사용하기-checkpoint.ipynb\n",
      "C:/Users/qq221/Study\\Python Basic\\Dojang\\.ipynb_checkpoints\\14. 데코레이터 사용하기-checkpoint.ipynb\n",
      "C:/Users/qq221/Study\\Python Basic\\Dojang\\.ipynb_checkpoints\\15. 정규식 사용하기-checkpoint.ipynb\n",
      "C:/Users/qq221/Study\\Python Basic\\Dojang\\.ipynb_checkpoints\\16. 모듈과 패키지 사용하기-checkpoint.ipynb\n",
      "C:/Users/qq221/Study\\Python Basic\\Dojang\\.ipynb_checkpoints\\17. 모듈과 패키지 사용하기-checkpoint.ipynb\n",
      "C:/Users/qq221/Study\\Python Basic\\Dojang\\.ipynb_checkpoints\\18. 웹의 데이터로 그래프 그리기-checkpoint.ipynb\n",
      "C:/Users/qq221/Study\\Python Basic\\Dojang\\.ipynb_checkpoints\\Untitled-checkpoint.ipynb\n",
      "C:/Users/qq221/Study\\Python Basic\\Dojang\\01함수.ipynb\n",
      "C:/Users/qq221/Study\\Python Basic\\Dojang\\02함수에서 위치 인수와 키워드 인수 사용하기.ipynb\n",
      "C:/Users/qq221/Study\\Python Basic\\Dojang\\03함수에서 재귀호출 사용하기.ipynb\n",
      "C:/Users/qq221/Study\\Python Basic\\Dojang\\04람다 표현식 사용하기.ipynb\n",
      "C:/Users/qq221/Study\\Python Basic\\Dojang\\05클로저 사용하기.ipynb\n",
      "C:/Users/qq221/Study\\Python Basic\\Dojang\\06.클래스 사용하기.ipynb\n",
      "C:/Users/qq221/Study\\Python Basic\\Dojang\\07.클래스 속성과 정적,클래스 메서드 사용하기.ipynb\n",
      "C:/Users/qq221/Study\\Python Basic\\Dojang\\08.  클래스 상속 사용하기.ipynb\n",
      "C:/Users/qq221/Study\\Python Basic\\Dojang\\09.두 점 사이 거리 구하기.ipynb\n",
      "C:/Users/qq221/Study\\Python Basic\\Dojang\\10. 예외처리 사용하기.ipynb\n",
      "C:/Users/qq221/Study\\Python Basic\\Dojang\\12.제너레이터 사용하기.ipynb\n",
      "C:/Users/qq221/Study\\Python Basic\\Dojang\\13. 코루틴 사용하기.ipynb\n",
      "C:/Users/qq221/Study\\Python Basic\\Dojang\\14. 데코레이터 사용하기.ipynb\n",
      "C:/Users/qq221/Study\\Python Basic\\Dojang\\15. 정규식 사용하기.ipynb\n",
      "C:/Users/qq221/Study\\Python Basic\\Dojang\\16. 모듈과 패키지 사용하기.ipynb\n",
      "C:/Users/qq221/Study\\Python Basic\\Dojang\\17. 모듈과 패키지 사용하기.ipynb\n",
      "C:/Users/qq221/Study\\Python Basic\\Dojang\\18. 웹의 데이터로 그래프 그리기.ipynb\n",
      "C:/Users/qq221/Study\\Python Basic\\Dojang\\Untitled.ipynb\n",
      "C:/Users/qq221/Study\\Python Basic\\알고리즘 자료구조\\.ipynb_checkpoints\\1. 알고리즘의 기초-checkpoint.ipynb\n",
      "C:/Users/qq221/Study\\Python Basic\\알고리즘 자료구조\\.ipynb_checkpoints\\2. 기본 자료구조와 배열-checkpoint.ipynb\n",
      "C:/Users/qq221/Study\\Python Basic\\알고리즘 자료구조\\.ipynb_checkpoints\\3.검색 알고리즘-checkpoint.ipynb\n",
      "C:/Users/qq221/Study\\Python Basic\\알고리즘 자료구조\\.ipynb_checkpoints\\4. 스택과 큐-checkpoint.ipynb\n",
      "C:/Users/qq221/Study\\Python Basic\\알고리즘 자료구조\\.ipynb_checkpoints\\5. 재귀알고리즘-checkpoint.ipynb\n",
      "C:/Users/qq221/Study\\Python Basic\\알고리즘 자료구조\\.ipynb_checkpoints\\6. 정렬 알고리즘-checkpoint.ipynb\n",
      "C:/Users/qq221/Study\\Python Basic\\알고리즘 자료구조\\.ipynb_checkpoints\\7. 문자열 검색-checkpoint.ipynb\n",
      "C:/Users/qq221/Study\\Python Basic\\알고리즘 자료구조\\.ipynb_checkpoints\\8. 리스트-checkpoint.ipynb\n",
      "C:/Users/qq221/Study\\Python Basic\\알고리즘 자료구조\\.ipynb_checkpoints\\9. 트리-checkpoint.ipynb\n",
      "C:/Users/qq221/Study\\Python Basic\\알고리즘 자료구조\\1. 알고리즘의 기초.ipynb\n",
      "C:/Users/qq221/Study\\Python Basic\\알고리즘 자료구조\\2. 기본 자료구조와 배열.ipynb\n",
      "C:/Users/qq221/Study\\Python Basic\\알고리즘 자료구조\\3.검색 알고리즘.ipynb\n",
      "C:/Users/qq221/Study\\Python Basic\\알고리즘 자료구조\\4. 스택과 큐.ipynb\n",
      "C:/Users/qq221/Study\\Python Basic\\알고리즘 자료구조\\5. 재귀알고리즘.ipynb\n",
      "C:/Users/qq221/Study\\Python Basic\\알고리즘 자료구조\\6. 정렬 알고리즘.ipynb\n",
      "C:/Users/qq221/Study\\Python Basic\\알고리즘 자료구조\\7. 문자열 검색.ipynb\n",
      "C:/Users/qq221/Study\\Python Basic\\알고리즘 자료구조\\8. 리스트.ipynb\n",
      "C:/Users/qq221/Study\\Python Basic\\알고리즘 자료구조\\9. 트리.ipynb\n",
      "C:/Users/qq221/Study\\Python Basic\\코딩 문제\\.ipynb_checkpoints\\0, 1, 2, 3, 4, 5, 6, 7, 8, 9, 11, 22, 33, 44, 55, 66, 77, 88, 99, 101, 111, ... 과 같이, 0 이상의 앞뒤가 같은 수를 크기 순으로 나열할 때, n 번째 수를 계산하는 프로그램을 작성하라.-checkpoint.ipynb\n",
      "C:/Users/qq221/Study\\Python Basic\\코딩 문제\\.ipynb_checkpoints\\1. 3자리 두 수를 곱해서 나올 수 있는 가장 큰 대칭수-checkpoint.ipynb\n",
      "C:/Users/qq221/Study\\Python Basic\\코딩 문제\\.ipynb_checkpoints\\2. 1부터 10000까지 8이 나온 개수-checkpoint.ipynb\n",
      "C:/Users/qq221/Study\\Python Basic\\코딩 문제\\.ipynb_checkpoints\\Lv1. 수 암호화-checkpoint.ipynb\n",
      "C:/Users/qq221/Study\\Python Basic\\코딩 문제\\.ipynb_checkpoints\\Lv1. 업앤다운 UP&Down 숫자맞추기 게임-checkpoint.ipynb\n",
      "C:/Users/qq221/Study\\Python Basic\\코딩 문제\\.ipynb_checkpoints\\Lv3. Spiral Array_나선형 회전-checkpoint.ipynb\n",
      "C:/Users/qq221/Study\\Python Basic\\코딩 문제\\.ipynb_checkpoints\\넥슨 입사문제 숫자 제너레이터-checkpoint.ipynb\n",
      "C:/Users/qq221/Study\\Python Basic\\코딩 문제\\.ipynb_checkpoints\\다트게임-checkpoint.ipynb\n",
      "C:/Users/qq221/Study\\Python Basic\\코딩 문제\\.ipynb_checkpoints\\지뢰찾기 만들기-checkpoint.ipynb\n",
      "C:/Users/qq221/Study\\Python Basic\\코딩 문제\\0, 1, 2, 3, 4, 5, 6, 7, 8, 9, 11, 22, 33, 44, 55, 66, 77, 88, 99, 101, 111, ... 과 같이, 0 이상의 앞뒤가 같은 수를 크기 순으로 나열할 때, n 번째 수를 계산하는 프로그램을 작성하라..ipynb\n",
      "C:/Users/qq221/Study\\Python Basic\\코딩 문제\\1. 3자리 두 수를 곱해서 나올 수 있는 가장 큰 대칭수.ipynb\n",
      "C:/Users/qq221/Study\\Python Basic\\코딩 문제\\2. 1부터 10000까지 8이 나온 개수.ipynb\n",
      "C:/Users/qq221/Study\\Python Basic\\코딩 문제\\Lv1. 수 암호화.ipynb\n",
      "C:/Users/qq221/Study\\Python Basic\\코딩 문제\\Lv1. 업앤다운 UP&Down 숫자맞추기 게임.ipynb\n",
      "C:/Users/qq221/Study\\Python Basic\\코딩 문제\\Lv3. Spiral Array_나선형 회전.ipynb\n",
      "C:/Users/qq221/Study\\Python Basic\\코딩 문제\\넥슨 입사문제 숫자 제너레이터.ipynb\n",
      "C:/Users/qq221/Study\\Python Basic\\코딩 문제\\다트게임.ipynb\n",
      "C:/Users/qq221/Study\\Python Basic\\코딩 문제\\지뢰찾기 만들기.ipynb\n",
      "C:/Users/qq221/Study\\Python Library\\.ipynb_checkpoints\\001. 텍스트 다루기-checkpoint.ipynb\n",
      "C:/Users/qq221/Study\\Python Library\\.ipynb_checkpoints\\002. 바이너리 데이터 다루기-checkpoint.ipynb\n",
      "C:/Users/qq221/Study\\Python Library\\.ipynb_checkpoints\\003. 다양한 데이터 다루기-checkpoint.ipynb\n",
      "C:/Users/qq221/Study\\Python Library\\.ipynb_checkpoints\\004. 수학과 숫자 다루기-checkpoint.ipynb\n",
      "C:/Users/qq221/Study\\Python Library\\.ipynb_checkpoints\\005. 함수형 프로그래밍 다루기-checkpoint.ipynb\n",
      "C:/Users/qq221/Study\\Python Library\\.ipynb_checkpoints\\006. 파일과 디렉터리 다루기-checkpoint.ipynb\n",
      "C:/Users/qq221/Study\\Python Library\\001. 텍스트 다루기.ipynb\n",
      "C:/Users/qq221/Study\\Python Library\\002. 바이너리 데이터 다루기.ipynb\n",
      "C:/Users/qq221/Study\\Python Library\\003. 다양한 데이터 다루기.ipynb\n",
      "C:/Users/qq221/Study\\Python Library\\004. 수학과 숫자 다루기.ipynb\n",
      "C:/Users/qq221/Study\\Python Library\\005. 함수형 프로그래밍 다루기.ipynb\n",
      "C:/Users/qq221/Study\\Python Library\\006. 파일과 디렉터리 다루기.ipynb\n",
      "C:/Users/qq221/Study\\Python Library\\006a\\.ipynb_checkpoints\\같은 이름 내용 다름-checkpoint.ipynb\n",
      "C:/Users/qq221/Study\\Python Library\\006a\\001. 텍스트 다루기.ipynb\n",
      "C:/Users/qq221/Study\\Python Library\\006a\\002. 바이너리 데이터 다루기.ipynb\n",
      "C:/Users/qq221/Study\\Python Library\\006a\\003. 다양한 데이터 다루기.ipynb\n",
      "C:/Users/qq221/Study\\Python Library\\006a\\같은 이름 내용 다름.ipynb\n",
      "C:/Users/qq221/Study\\Python Library\\006b\\.ipynb_checkpoints\\같은 이름 내용 다름-checkpoint.ipynb\n",
      "C:/Users/qq221/Study\\Python Library\\006b\\003. 다양한 데이터 다루기.ipynb\n",
      "C:/Users/qq221/Study\\Python Library\\006b\\004. 수학과 숫자 다루기.ipynb\n",
      "C:/Users/qq221/Study\\Python Library\\006b\\005. 함수형 프로그래밍 다루기.ipynb\n",
      "C:/Users/qq221/Study\\Python Library\\006b\\같은 이름 내용 다름.ipynb\n",
      "C:/Users/qq221/Study\\알고리즘 스터디\\.ipynb_checkpoints\\000. 수 정렬하기-checkpoint.ipynb\n",
      "C:/Users/qq221/Study\\알고리즘 스터디\\.ipynb_checkpoints\\001 숫자의 합 구하기-checkpoint.ipynb\n",
      "C:/Users/qq221/Study\\알고리즘 스터디\\.ipynb_checkpoints\\002. 평균 구하기-checkpoint.ipynb\n",
      "C:/Users/qq221/Study\\알고리즘 스터디\\.ipynb_checkpoints\\003. 구간합구하기-checkpoint.ipynb\n",
      "C:/Users/qq221/Study\\알고리즘 스터디\\.ipynb_checkpoints\\004. 구간 합 구히가2-checkpoint.ipynb\n",
      "C:/Users/qq221/Study\\알고리즘 스터디\\.ipynb_checkpoints\\005. 나머지 합 구하기-checkpoint.ipynb\n",
      "C:/Users/qq221/Study\\알고리즘 스터디\\.ipynb_checkpoints\\006 연속된 자연수의 합 구하기-checkpoint.ipynb\n",
      "C:/Users/qq221/Study\\알고리즘 스터디\\.ipynb_checkpoints\\007. 주몽의 명령-checkpoint.ipynb\n",
      "C:/Users/qq221/Study\\알고리즘 스터디\\.ipynb_checkpoints\\008. '좋은 수' 구하기-checkpoint.ipynb\n",
      "C:/Users/qq221/Study\\알고리즘 스터디\\.ipynb_checkpoints\\009. DNA 비밀번호-checkpoint.ipynb\n",
      "C:/Users/qq221/Study\\알고리즘 스터디\\.ipynb_checkpoints\\010. 최솟값 찾기1-checkpoint.ipynb\n",
      "C:/Users/qq221/Study\\알고리즘 스터디\\.ipynb_checkpoints\\011. 스택으로 수열 만들기-checkpoint.ipynb\n",
      "C:/Users/qq221/Study\\알고리즘 스터디\\.ipynb_checkpoints\\012. 오큰수-checkpoint.ipynb\n",
      "C:/Users/qq221/Study\\알고리즘 스터디\\.ipynb_checkpoints\\013. 카드 게임-checkpoint.ipynb\n",
      "C:/Users/qq221/Study\\알고리즘 스터디\\.ipynb_checkpoints\\014. 절대값 힙 구현-checkpoint.ipynb\n",
      "C:/Users/qq221/Study\\알고리즘 스터디\\.ipynb_checkpoints\\015. 수 정렬하기1-checkpoint.ipynb\n",
      "C:/Users/qq221/Study\\알고리즘 스터디\\.ipynb_checkpoints\\016. 버블 정렬 프로그램1-checkpoint.ipynb\n",
      "C:/Users/qq221/Study\\알고리즘 스터디\\.ipynb_checkpoints\\017. 내림차순으로 자릿수 정렬하기-checkpoint.ipynb\n",
      "C:/Users/qq221/Study\\알고리즘 스터디\\.ipynb_checkpoints\\018. ATM인출 시간 계산하기-checkpoint.ipynb\n",
      "C:/Users/qq221/Study\\알고리즘 스터디\\.ipynb_checkpoints\\019. K번째 수 구하기-checkpoint.ipynb\n",
      "C:/Users/qq221/Study\\알고리즘 스터디\\.ipynb_checkpoints\\023. 연결 요소의 개수 구하기-checkpoint.ipynb\n",
      "C:/Users/qq221/Study\\알고리즘 스터디\\.ipynb_checkpoints\\024. 신기한 소수 찾기-checkpoint.ipynb\n",
      "C:/Users/qq221/Study\\알고리즘 스터디\\.ipynb_checkpoints\\025. 친구 관계 파악하기-checkpoint.ipynb\n",
      "C:/Users/qq221/Study\\알고리즘 스터디\\.ipynb_checkpoints\\026. DFS와 BFS프로그램-checkpoint.ipynb\n",
      "C:/Users/qq221/Study\\알고리즘 스터디\\.ipynb_checkpoints\\027. 미로 탐색하기-checkpoint.ipynb\n",
      "C:/Users/qq221/Study\\알고리즘 스터디\\.ipynb_checkpoints\\028.  트리의 지름 구하기-checkpoint.ipynb\n",
      "C:/Users/qq221/Study\\알고리즘 스터디\\.ipynb_checkpoints\\029. 원하는 정수 찾기-checkpoint.ipynb\n",
      "C:/Users/qq221/Study\\알고리즘 스터디\\.ipynb_checkpoints\\030. 블루레이 만들기-checkpoint.ipynb\n",
      "C:/Users/qq221/Study\\알고리즘 스터디\\.ipynb_checkpoints\\031. 배열에서 K번째 수 찾기-checkpoint.ipynb\n",
      "C:/Users/qq221/Study\\알고리즘 스터디\\.ipynb_checkpoints\\033. 카드 정렬하기-checkpoint.ipynb\n",
      "C:/Users/qq221/Study\\알고리즘 스터디\\.ipynb_checkpoints\\034. 수를 묶어서 최댓값 만들기-checkpoint.ipynb\n",
      "C:/Users/qq221/Study\\알고리즘 스터디\\.ipynb_checkpoints\\035. 회의실 배정하기-checkpoint.ipynb\n",
      "C:/Users/qq221/Study\\알고리즘 스터디\\.ipynb_checkpoints\\036. 최솟값을 만드는 괄호 배치 찾기-checkpoint.ipynb\n",
      "C:/Users/qq221/Study\\알고리즘 스터디\\.ipynb_checkpoints\\037. 소수 구하기-checkpoint.ipynb\n",
      "C:/Users/qq221/Study\\알고리즘 스터디\\.ipynb_checkpoints\\038. 거의 소수 구하기-checkpoint.ipynb\n",
      "C:/Users/qq221/Study\\알고리즘 스터디\\.ipynb_checkpoints\\039. 소수& 팰린드롬 수 중에서 최솟값 찾기-checkpoint.ipynb\n",
      "C:/Users/qq221/Study\\알고리즘 스터디\\.ipynb_checkpoints\\040. 제곱이 아닌 수 찾기-checkpoint.ipynb\n",
      "C:/Users/qq221/Study\\알고리즘 스터디\\.ipynb_checkpoints\\041. 오일러 피 함수 구현하기-checkpoint.ipynb\n",
      "C:/Users/qq221/Study\\알고리즘 스터디\\.ipynb_checkpoints\\043. 최대 공약수 구하기-checkpoint.ipynb\n",
      "C:/Users/qq221/Study\\알고리즘 스터디\\.ipynb_checkpoints\\044. 칵테일 만들기-checkpoint.ipynb\n",
      "C:/Users/qq221/Study\\알고리즘 스터디\\.ipynb_checkpoints\\045. Ax+By=C-checkpoint.ipynb\n",
      "C:/Users/qq221/Study\\알고리즘 스터디\\.ipynb_checkpoints\\046. 특정 거리의 도시 찾기-checkpoint.ipynb\n",
      "C:/Users/qq221/Study\\알고리즘 스터디\\.ipynb_checkpoints\\047. 효율적으로 해킹하기-checkpoint.ipynb\n",
      "C:/Users/qq221/Study\\알고리즘 스터디\\.ipynb_checkpoints\\048. 이분 그래프 판별하기-checkpoint.ipynb\n",
      "C:/Users/qq221/Study\\알고리즘 스터디\\.ipynb_checkpoints\\053. 줄 세우기-checkpoint.ipynb\n",
      "C:/Users/qq221/Study\\알고리즘 스터디\\.ipynb_checkpoints\\056. 최단 경로 구하기-checkpoint.ipynb\n",
      "C:/Users/qq221/Study\\알고리즘 스터디\\.ipynb_checkpoints\\067.트리의 부모 찾기-checkpoint.ipynb\n",
      "C:/Users/qq221/Study\\알고리즘 스터디\\.ipynb_checkpoints\\070, 트리 순회하기-checkpoint.ipynb\n",
      "C:/Users/qq221/Study\\알고리즘 스터디\\.ipynb_checkpoints\\086. 이친수 구하기-checkpoint.ipynb\n",
      "C:/Users/qq221/Study\\알고리즘 스터디\\.ipynb_checkpoints\\090. 최장 공통 부분 수열 찾기-checkpoint.ipynb\n",
      "C:/Users/qq221/Study\\알고리즘 스터디\\.ipynb_checkpoints\\097. 선분 방향 구하기-checkpoint.ipynb\n",
      "C:/Users/qq221/Study\\알고리즘 스터디\\.ipynb_checkpoints\\100. 다각형의 넓이 구하기-checkpoint.ipynb\n",
      "C:/Users/qq221/Study\\알고리즘 스터디\\000. 수 정렬하기.ipynb\n",
      "C:/Users/qq221/Study\\알고리즘 스터디\\001 숫자의 합 구하기.ipynb\n",
      "C:/Users/qq221/Study\\알고리즘 스터디\\002. 평균 구하기.ipynb\n",
      "C:/Users/qq221/Study\\알고리즘 스터디\\003. 구간합구하기.ipynb\n",
      "C:/Users/qq221/Study\\알고리즘 스터디\\004. 구간 합 구히가2.ipynb\n",
      "C:/Users/qq221/Study\\알고리즘 스터디\\005. 나머지 합 구하기.ipynb\n",
      "C:/Users/qq221/Study\\알고리즘 스터디\\006 연속된 자연수의 합 구하기.ipynb\n",
      "C:/Users/qq221/Study\\알고리즘 스터디\\007. 주몽의 명령.ipynb\n",
      "C:/Users/qq221/Study\\알고리즘 스터디\\008. '좋은 수' 구하기.ipynb\n",
      "C:/Users/qq221/Study\\알고리즘 스터디\\009. DNA 비밀번호.ipynb\n",
      "C:/Users/qq221/Study\\알고리즘 스터디\\010. 최솟값 찾기1.ipynb\n",
      "C:/Users/qq221/Study\\알고리즘 스터디\\011. 스택으로 수열 만들기.ipynb\n",
      "C:/Users/qq221/Study\\알고리즘 스터디\\012. 오큰수.ipynb\n",
      "C:/Users/qq221/Study\\알고리즘 스터디\\013. 카드 게임.ipynb\n",
      "C:/Users/qq221/Study\\알고리즘 스터디\\014. 절대값 힙 구현.ipynb\n",
      "C:/Users/qq221/Study\\알고리즘 스터디\\015. 수 정렬하기1.ipynb\n",
      "C:/Users/qq221/Study\\알고리즘 스터디\\016. 버블 정렬 프로그램1.ipynb\n",
      "C:/Users/qq221/Study\\알고리즘 스터디\\017. 내림차순으로 자릿수 정렬하기.ipynb\n",
      "C:/Users/qq221/Study\\알고리즘 스터디\\018. ATM인출 시간 계산하기.ipynb\n",
      "C:/Users/qq221/Study\\알고리즘 스터디\\019. K번째 수 구하기.ipynb\n",
      "C:/Users/qq221/Study\\알고리즘 스터디\\023. 연결 요소의 개수 구하기.ipynb\n",
      "C:/Users/qq221/Study\\알고리즘 스터디\\024. 신기한 소수 찾기.ipynb\n",
      "C:/Users/qq221/Study\\알고리즘 스터디\\025. 친구 관계 파악하기.ipynb\n",
      "C:/Users/qq221/Study\\알고리즘 스터디\\026. DFS와 BFS프로그램.ipynb\n",
      "C:/Users/qq221/Study\\알고리즘 스터디\\027. 미로 탐색하기.ipynb\n",
      "C:/Users/qq221/Study\\알고리즘 스터디\\028.  트리의 지름 구하기.ipynb\n",
      "C:/Users/qq221/Study\\알고리즘 스터디\\029. 원하는 정수 찾기.ipynb\n",
      "C:/Users/qq221/Study\\알고리즘 스터디\\030. 블루레이 만들기.ipynb\n",
      "C:/Users/qq221/Study\\알고리즘 스터디\\031. 배열에서 K번째 수 찾기.ipynb\n",
      "C:/Users/qq221/Study\\알고리즘 스터디\\033. 카드 정렬하기.ipynb\n",
      "C:/Users/qq221/Study\\알고리즘 스터디\\034. 수를 묶어서 최댓값 만들기.ipynb\n",
      "C:/Users/qq221/Study\\알고리즘 스터디\\035. 회의실 배정하기.ipynb\n",
      "C:/Users/qq221/Study\\알고리즘 스터디\\036. 최솟값을 만드는 괄호 배치 찾기.ipynb\n",
      "C:/Users/qq221/Study\\알고리즘 스터디\\037. 소수 구하기.ipynb\n",
      "C:/Users/qq221/Study\\알고리즘 스터디\\038. 거의 소수 구하기.ipynb\n",
      "C:/Users/qq221/Study\\알고리즘 스터디\\039. 소수& 팰린드롬 수 중에서 최솟값 찾기.ipynb\n",
      "C:/Users/qq221/Study\\알고리즘 스터디\\040. 제곱이 아닌 수 찾기.ipynb\n",
      "C:/Users/qq221/Study\\알고리즘 스터디\\041. 오일러 피 함수 구현하기.ipynb\n",
      "C:/Users/qq221/Study\\알고리즘 스터디\\043. 최대 공약수 구하기.ipynb\n",
      "C:/Users/qq221/Study\\알고리즘 스터디\\044. 칵테일 만들기.ipynb\n",
      "C:/Users/qq221/Study\\알고리즘 스터디\\045. Ax+By=C.ipynb\n",
      "C:/Users/qq221/Study\\알고리즘 스터디\\046. 특정 거리의 도시 찾기.ipynb\n",
      "C:/Users/qq221/Study\\알고리즘 스터디\\047. 효율적으로 해킹하기.ipynb\n",
      "C:/Users/qq221/Study\\알고리즘 스터디\\048. 이분 그래프 판별하기.ipynb\n",
      "C:/Users/qq221/Study\\알고리즘 스터디\\053. 줄 세우기.ipynb\n",
      "C:/Users/qq221/Study\\알고리즘 스터디\\056. 최단 경로 구하기.ipynb\n",
      "C:/Users/qq221/Study\\알고리즘 스터디\\067.트리의 부모 찾기.ipynb\n",
      "C:/Users/qq221/Study\\알고리즘 스터디\\070, 트리 순회하기.ipynb\n",
      "C:/Users/qq221/Study\\알고리즘 스터디\\086. 이친수 구하기.ipynb\n",
      "C:/Users/qq221/Study\\알고리즘 스터디\\090. 최장 공통 부분 수열 찾기.ipynb\n",
      "C:/Users/qq221/Study\\알고리즘 스터디\\097. 선분 방향 구하기.ipynb\n",
      "C:/Users/qq221/Study\\알고리즘 스터디\\100. 다각형의 넓이 구하기.ipynb\n",
      "C:/Users/qq221/Study\\파이썬 알고리즘 한승완 교수님\\.ipynb_checkpoints\\파이썬 알고리즘 기말 준비-checkpoint.ipynb\n",
      "C:/Users/qq221/Study\\파이썬 알고리즘 한승완 교수님\\파이썬 알고리즘 기말 준비.ipynb\n",
      "C:/Users/qq221/Study\\확률과 통계(파이썬)\\.ipynb_checkpoints\\01. 데이터-checkpoint.ipynb\n",
      "C:/Users/qq221/Study\\확률과 통계(파이썬)\\.ipynb_checkpoints\\02. 1차원 데이터 정리-checkpoint.ipynb\n",
      "C:/Users/qq221/Study\\확률과 통계(파이썬)\\.ipynb_checkpoints\\03. 2차원 데이터 정리-checkpoint.ipynb\n",
      "C:/Users/qq221/Study\\확률과 통계(파이썬)\\.ipynb_checkpoints\\04. 추측통계의 기본-checkpoint.ipynb\n",
      "C:/Users/qq221/Study\\확률과 통계(파이썬)\\.ipynb_checkpoints\\05. 이산형 확률변수-checkpoint.ipynb\n",
      "C:/Users/qq221/Study\\확률과 통계(파이썬)\\.ipynb_checkpoints\\06. 대표적인 이산형 확률분포-checkpoint.ipynb\n",
      "C:/Users/qq221/Study\\확률과 통계(파이썬)\\.ipynb_checkpoints\\07. 연속형 확률변수-checkpoint.ipynb\n",
      "C:/Users/qq221/Study\\확률과 통계(파이썬)\\.ipynb_checkpoints\\08. 대표적인 연속형 확률분포-checkpoint.ipynb\n",
      "C:/Users/qq221/Study\\확률과 통계(파이썬)\\.ipynb_checkpoints\\09. 독립동일분포-checkpoint.ipynb\n",
      "C:/Users/qq221/Study\\확률과 통계(파이썬)\\.ipynb_checkpoints\\10. 통계적 추정-checkpoint.ipynb\n",
      "C:/Users/qq221/Study\\확률과 통계(파이썬)\\.ipynb_checkpoints\\11. 통계적 가설검정-checkpoint.ipynb\n",
      "C:/Users/qq221/Study\\확률과 통계(파이썬)\\.ipynb_checkpoints\\12. 회귀분석-checkpoint.ipynb\n",
      "C:/Users/qq221/Study\\확률과 통계(파이썬)\\01. 데이터.ipynb\n",
      "C:/Users/qq221/Study\\확률과 통계(파이썬)\\02. 1차원 데이터 정리.ipynb\n",
      "C:/Users/qq221/Study\\확률과 통계(파이썬)\\03. 2차원 데이터 정리.ipynb\n",
      "C:/Users/qq221/Study\\확률과 통계(파이썬)\\04. 추측통계의 기본.ipynb\n",
      "C:/Users/qq221/Study\\확률과 통계(파이썬)\\05. 이산형 확률변수.ipynb\n",
      "C:/Users/qq221/Study\\확률과 통계(파이썬)\\06. 대표적인 이산형 확률분포.ipynb\n",
      "C:/Users/qq221/Study\\확률과 통계(파이썬)\\07. 연속형 확률변수.ipynb\n",
      "C:/Users/qq221/Study\\확률과 통계(파이썬)\\08. 대표적인 연속형 확률분포.ipynb\n",
      "C:/Users/qq221/Study\\확률과 통계(파이썬)\\09. 독립동일분포.ipynb\n",
      "C:/Users/qq221/Study\\확률과 통계(파이썬)\\10. 통계적 추정.ipynb\n",
      "C:/Users/qq221/Study\\확률과 통계(파이썬)\\11. 통계적 가설검정.ipynb\n",
      "C:/Users/qq221/Study\\확률과 통계(파이썬)\\12. 회귀분석.ipynb\n"
     ]
    }
   ],
   "source": [
    "import os \n",
    "\n",
    "\n",
    "#재귀로 구현 하위 폴더에 디렉터리가 있다면 search(해당디렉터리) 나머지 파일들은 출력\n",
    "def search(dirname):\n",
    "    '''지정 경로의 하위경로에 있는 모든 ipynb파일 출력'''\n",
    "    filenames = os.listdir(dirname)\n",
    "    for filename in filenames:\n",
    "        filepath = os.path.join(dirname, filename)\n",
    "        if os.path.isdir(filepath):\n",
    "            search(filepath)\n",
    "        elif os.path.isfile(filepath):\n",
    "            name, ext = os.path.splitext(filepath)\n",
    "            if ext == '.ipynb':\n",
    "                print(filepath)\n",
    "                \n",
    "search(\"C:/Users/qq221/Study\")"
   ]
  },
  {
   "cell_type": "code",
   "execution_count": 5,
   "id": "a6af905f",
   "metadata": {
    "vscode": {
     "languageId": "python"
    }
   },
   "outputs": [],
   "source": [
    "#pathlib를 이용한 구현"
   ]
  },
  {
   "cell_type": "code",
   "execution_count": 6,
   "id": "dcb12fe7",
   "metadata": {
    "vscode": {
     "languageId": "python"
    }
   },
   "outputs": [
    {
     "name": "stdout",
     "output_type": "stream",
     "text": [
      "C:\\Users\\qq221\\Study\\5조\\윈도우즈 프로젝트랩.ipynb\n",
      "C:\\Users\\qq221\\Study\\5조\\.ipynb_checkpoints\\윈도우즈 프로젝트랩-checkpoint.ipynb\n",
      "C:\\Users\\qq221\\Study\\AdaptiveStreamingScraping\\GetData.ipynb\n",
      "C:\\Users\\qq221\\Study\\AdaptiveStreamingScraping\\.ipynb_checkpoints\\GetData-checkpoint.ipynb\n",
      "C:\\Users\\qq221\\Study\\IrastoyaWebscraping\\01. GetData.ipynb\n",
      "C:\\Users\\qq221\\Study\\IrastoyaWebscraping\\02.AddTranslation.ipynb\n",
      "C:\\Users\\qq221\\Study\\IrastoyaWebscraping\\03.combine_csv.ipynb\n",
      "C:\\Users\\qq221\\Study\\IrastoyaWebscraping\\04.resize_img.ipynb\n",
      "C:\\Users\\qq221\\Study\\IrastoyaWebscraping\\.ipynb_checkpoints\\01. GetData-checkpoint.ipynb\n",
      "C:\\Users\\qq221\\Study\\IrastoyaWebscraping\\.ipynb_checkpoints\\04.resize_img-checkpoint.ipynb\n",
      "C:\\Users\\qq221\\Study\\Python Basic\\Dojang\\01함수.ipynb\n",
      "C:\\Users\\qq221\\Study\\Python Basic\\Dojang\\02함수에서 위치 인수와 키워드 인수 사용하기.ipynb\n",
      "C:\\Users\\qq221\\Study\\Python Basic\\Dojang\\03함수에서 재귀호출 사용하기.ipynb\n",
      "C:\\Users\\qq221\\Study\\Python Basic\\Dojang\\04람다 표현식 사용하기.ipynb\n",
      "C:\\Users\\qq221\\Study\\Python Basic\\Dojang\\05클로저 사용하기.ipynb\n",
      "C:\\Users\\qq221\\Study\\Python Basic\\Dojang\\06.클래스 사용하기.ipynb\n",
      "C:\\Users\\qq221\\Study\\Python Basic\\Dojang\\07.클래스 속성과 정적,클래스 메서드 사용하기.ipynb\n",
      "C:\\Users\\qq221\\Study\\Python Basic\\Dojang\\08.  클래스 상속 사용하기.ipynb\n",
      "C:\\Users\\qq221\\Study\\Python Basic\\Dojang\\09.두 점 사이 거리 구하기.ipynb\n",
      "C:\\Users\\qq221\\Study\\Python Basic\\Dojang\\10. 예외처리 사용하기.ipynb\n",
      "C:\\Users\\qq221\\Study\\Python Basic\\Dojang\\12.제너레이터 사용하기.ipynb\n",
      "C:\\Users\\qq221\\Study\\Python Basic\\Dojang\\13. 코루틴 사용하기.ipynb\n",
      "C:\\Users\\qq221\\Study\\Python Basic\\Dojang\\14. 데코레이터 사용하기.ipynb\n",
      "C:\\Users\\qq221\\Study\\Python Basic\\Dojang\\15. 정규식 사용하기.ipynb\n",
      "C:\\Users\\qq221\\Study\\Python Basic\\Dojang\\16. 모듈과 패키지 사용하기.ipynb\n",
      "C:\\Users\\qq221\\Study\\Python Basic\\Dojang\\17. 모듈과 패키지 사용하기.ipynb\n",
      "C:\\Users\\qq221\\Study\\Python Basic\\Dojang\\18. 웹의 데이터로 그래프 그리기.ipynb\n",
      "C:\\Users\\qq221\\Study\\Python Basic\\Dojang\\Untitled.ipynb\n",
      "C:\\Users\\qq221\\Study\\Python Basic\\Dojang\\.ipynb_checkpoints\\01함수-checkpoint.ipynb\n",
      "C:\\Users\\qq221\\Study\\Python Basic\\Dojang\\.ipynb_checkpoints\\02함수에서 위치 인수와 키워드 인수 사용하기-checkpoint.ipynb\n",
      "C:\\Users\\qq221\\Study\\Python Basic\\Dojang\\.ipynb_checkpoints\\03함수에서 재귀호출 사용하기-checkpoint.ipynb\n",
      "C:\\Users\\qq221\\Study\\Python Basic\\Dojang\\.ipynb_checkpoints\\04람다 표현식 사용하기-checkpoint.ipynb\n",
      "C:\\Users\\qq221\\Study\\Python Basic\\Dojang\\.ipynb_checkpoints\\05클로저 사용하기-checkpoint.ipynb\n",
      "C:\\Users\\qq221\\Study\\Python Basic\\Dojang\\.ipynb_checkpoints\\06.클래스 사용하기-checkpoint.ipynb\n",
      "C:\\Users\\qq221\\Study\\Python Basic\\Dojang\\.ipynb_checkpoints\\07.클래스 속성과 정적,클래스 메서드 사용하기-checkpoint.ipynb\n",
      "C:\\Users\\qq221\\Study\\Python Basic\\Dojang\\.ipynb_checkpoints\\08.  클래스 상속 사용하기-checkpoint.ipynb\n",
      "C:\\Users\\qq221\\Study\\Python Basic\\Dojang\\.ipynb_checkpoints\\09.두 점 사이 거리 구하기-checkpoint.ipynb\n",
      "C:\\Users\\qq221\\Study\\Python Basic\\Dojang\\.ipynb_checkpoints\\10. 예외처리 사용하기-checkpoint.ipynb\n",
      "C:\\Users\\qq221\\Study\\Python Basic\\Dojang\\.ipynb_checkpoints\\12.제너레이터 사용하기-checkpoint.ipynb\n",
      "C:\\Users\\qq221\\Study\\Python Basic\\Dojang\\.ipynb_checkpoints\\13. 코루틴 사용하기-checkpoint.ipynb\n",
      "C:\\Users\\qq221\\Study\\Python Basic\\Dojang\\.ipynb_checkpoints\\14. 데코레이터 사용하기-checkpoint.ipynb\n",
      "C:\\Users\\qq221\\Study\\Python Basic\\Dojang\\.ipynb_checkpoints\\15. 정규식 사용하기-checkpoint.ipynb\n",
      "C:\\Users\\qq221\\Study\\Python Basic\\Dojang\\.ipynb_checkpoints\\16. 모듈과 패키지 사용하기-checkpoint.ipynb\n",
      "C:\\Users\\qq221\\Study\\Python Basic\\Dojang\\.ipynb_checkpoints\\17. 모듈과 패키지 사용하기-checkpoint.ipynb\n",
      "C:\\Users\\qq221\\Study\\Python Basic\\Dojang\\.ipynb_checkpoints\\18. 웹의 데이터로 그래프 그리기-checkpoint.ipynb\n",
      "C:\\Users\\qq221\\Study\\Python Basic\\Dojang\\.ipynb_checkpoints\\Untitled-checkpoint.ipynb\n",
      "C:\\Users\\qq221\\Study\\Python Basic\\알고리즘 자료구조\\1. 알고리즘의 기초.ipynb\n",
      "C:\\Users\\qq221\\Study\\Python Basic\\알고리즘 자료구조\\2. 기본 자료구조와 배열.ipynb\n",
      "C:\\Users\\qq221\\Study\\Python Basic\\알고리즘 자료구조\\3.검색 알고리즘.ipynb\n",
      "C:\\Users\\qq221\\Study\\Python Basic\\알고리즘 자료구조\\4. 스택과 큐.ipynb\n",
      "C:\\Users\\qq221\\Study\\Python Basic\\알고리즘 자료구조\\5. 재귀알고리즘.ipynb\n",
      "C:\\Users\\qq221\\Study\\Python Basic\\알고리즘 자료구조\\6. 정렬 알고리즘.ipynb\n",
      "C:\\Users\\qq221\\Study\\Python Basic\\알고리즘 자료구조\\7. 문자열 검색.ipynb\n",
      "C:\\Users\\qq221\\Study\\Python Basic\\알고리즘 자료구조\\8. 리스트.ipynb\n",
      "C:\\Users\\qq221\\Study\\Python Basic\\알고리즘 자료구조\\9. 트리.ipynb\n",
      "C:\\Users\\qq221\\Study\\Python Basic\\알고리즘 자료구조\\.ipynb_checkpoints\\1. 알고리즘의 기초-checkpoint.ipynb\n",
      "C:\\Users\\qq221\\Study\\Python Basic\\알고리즘 자료구조\\.ipynb_checkpoints\\2. 기본 자료구조와 배열-checkpoint.ipynb\n",
      "C:\\Users\\qq221\\Study\\Python Basic\\알고리즘 자료구조\\.ipynb_checkpoints\\3.검색 알고리즘-checkpoint.ipynb\n",
      "C:\\Users\\qq221\\Study\\Python Basic\\알고리즘 자료구조\\.ipynb_checkpoints\\4. 스택과 큐-checkpoint.ipynb\n",
      "C:\\Users\\qq221\\Study\\Python Basic\\알고리즘 자료구조\\.ipynb_checkpoints\\5. 재귀알고리즘-checkpoint.ipynb\n",
      "C:\\Users\\qq221\\Study\\Python Basic\\알고리즘 자료구조\\.ipynb_checkpoints\\6. 정렬 알고리즘-checkpoint.ipynb\n",
      "C:\\Users\\qq221\\Study\\Python Basic\\알고리즘 자료구조\\.ipynb_checkpoints\\7. 문자열 검색-checkpoint.ipynb\n",
      "C:\\Users\\qq221\\Study\\Python Basic\\알고리즘 자료구조\\.ipynb_checkpoints\\8. 리스트-checkpoint.ipynb\n",
      "C:\\Users\\qq221\\Study\\Python Basic\\알고리즘 자료구조\\.ipynb_checkpoints\\9. 트리-checkpoint.ipynb\n",
      "C:\\Users\\qq221\\Study\\Python Basic\\코딩 문제\\0, 1, 2, 3, 4, 5, 6, 7, 8, 9, 11, 22, 33, 44, 55, 66, 77, 88, 99, 101, 111, ... 과 같이, 0 이상의 앞뒤가 같은 수를 크기 순으로 나열할 때, n 번째 수를 계산하는 프로그램을 작성하라..ipynb\n",
      "C:\\Users\\qq221\\Study\\Python Basic\\코딩 문제\\1. 3자리 두 수를 곱해서 나올 수 있는 가장 큰 대칭수.ipynb\n",
      "C:\\Users\\qq221\\Study\\Python Basic\\코딩 문제\\2. 1부터 10000까지 8이 나온 개수.ipynb\n",
      "C:\\Users\\qq221\\Study\\Python Basic\\코딩 문제\\Lv1. 수 암호화.ipynb\n",
      "C:\\Users\\qq221\\Study\\Python Basic\\코딩 문제\\Lv1. 업앤다운 UP&Down 숫자맞추기 게임.ipynb\n",
      "C:\\Users\\qq221\\Study\\Python Basic\\코딩 문제\\Lv3. Spiral Array_나선형 회전.ipynb\n",
      "C:\\Users\\qq221\\Study\\Python Basic\\코딩 문제\\넥슨 입사문제 숫자 제너레이터.ipynb\n",
      "C:\\Users\\qq221\\Study\\Python Basic\\코딩 문제\\다트게임.ipynb\n",
      "C:\\Users\\qq221\\Study\\Python Basic\\코딩 문제\\지뢰찾기 만들기.ipynb\n",
      "C:\\Users\\qq221\\Study\\Python Basic\\코딩 문제\\.ipynb_checkpoints\\0, 1, 2, 3, 4, 5, 6, 7, 8, 9, 11, 22, 33, 44, 55, 66, 77, 88, 99, 101, 111, ... 과 같이, 0 이상의 앞뒤가 같은 수를 크기 순으로 나열할 때, n 번째 수를 계산하는 프로그램을 작성하라.-checkpoint.ipynb\n",
      "C:\\Users\\qq221\\Study\\Python Basic\\코딩 문제\\.ipynb_checkpoints\\1. 3자리 두 수를 곱해서 나올 수 있는 가장 큰 대칭수-checkpoint.ipynb\n",
      "C:\\Users\\qq221\\Study\\Python Basic\\코딩 문제\\.ipynb_checkpoints\\2. 1부터 10000까지 8이 나온 개수-checkpoint.ipynb\n",
      "C:\\Users\\qq221\\Study\\Python Basic\\코딩 문제\\.ipynb_checkpoints\\Lv1. 수 암호화-checkpoint.ipynb\n",
      "C:\\Users\\qq221\\Study\\Python Basic\\코딩 문제\\.ipynb_checkpoints\\Lv1. 업앤다운 UP&Down 숫자맞추기 게임-checkpoint.ipynb\n",
      "C:\\Users\\qq221\\Study\\Python Basic\\코딩 문제\\.ipynb_checkpoints\\Lv3. Spiral Array_나선형 회전-checkpoint.ipynb\n",
      "C:\\Users\\qq221\\Study\\Python Basic\\코딩 문제\\.ipynb_checkpoints\\넥슨 입사문제 숫자 제너레이터-checkpoint.ipynb\n",
      "C:\\Users\\qq221\\Study\\Python Basic\\코딩 문제\\.ipynb_checkpoints\\다트게임-checkpoint.ipynb\n",
      "C:\\Users\\qq221\\Study\\Python Basic\\코딩 문제\\.ipynb_checkpoints\\지뢰찾기 만들기-checkpoint.ipynb\n",
      "C:\\Users\\qq221\\Study\\Python Library\\001. 텍스트 다루기.ipynb\n",
      "C:\\Users\\qq221\\Study\\Python Library\\002. 바이너리 데이터 다루기.ipynb\n",
      "C:\\Users\\qq221\\Study\\Python Library\\003. 다양한 데이터 다루기.ipynb\n",
      "C:\\Users\\qq221\\Study\\Python Library\\004. 수학과 숫자 다루기.ipynb\n",
      "C:\\Users\\qq221\\Study\\Python Library\\005. 함수형 프로그래밍 다루기.ipynb\n",
      "C:\\Users\\qq221\\Study\\Python Library\\006. 파일과 디렉터리 다루기.ipynb\n",
      "C:\\Users\\qq221\\Study\\Python Library\\.ipynb_checkpoints\\001. 텍스트 다루기-checkpoint.ipynb\n",
      "C:\\Users\\qq221\\Study\\Python Library\\.ipynb_checkpoints\\002. 바이너리 데이터 다루기-checkpoint.ipynb\n",
      "C:\\Users\\qq221\\Study\\Python Library\\.ipynb_checkpoints\\003. 다양한 데이터 다루기-checkpoint.ipynb\n",
      "C:\\Users\\qq221\\Study\\Python Library\\.ipynb_checkpoints\\004. 수학과 숫자 다루기-checkpoint.ipynb\n",
      "C:\\Users\\qq221\\Study\\Python Library\\.ipynb_checkpoints\\005. 함수형 프로그래밍 다루기-checkpoint.ipynb\n",
      "C:\\Users\\qq221\\Study\\Python Library\\.ipynb_checkpoints\\006. 파일과 디렉터리 다루기-checkpoint.ipynb\n",
      "C:\\Users\\qq221\\Study\\Python Library\\006a\\001. 텍스트 다루기.ipynb\n",
      "C:\\Users\\qq221\\Study\\Python Library\\006a\\002. 바이너리 데이터 다루기.ipynb\n",
      "C:\\Users\\qq221\\Study\\Python Library\\006a\\003. 다양한 데이터 다루기.ipynb\n",
      "C:\\Users\\qq221\\Study\\Python Library\\006a\\같은 이름 내용 다름.ipynb\n",
      "C:\\Users\\qq221\\Study\\Python Library\\006a\\.ipynb_checkpoints\\같은 이름 내용 다름-checkpoint.ipynb\n",
      "C:\\Users\\qq221\\Study\\Python Library\\006b\\003. 다양한 데이터 다루기.ipynb\n",
      "C:\\Users\\qq221\\Study\\Python Library\\006b\\004. 수학과 숫자 다루기.ipynb\n",
      "C:\\Users\\qq221\\Study\\Python Library\\006b\\005. 함수형 프로그래밍 다루기.ipynb\n",
      "C:\\Users\\qq221\\Study\\Python Library\\006b\\같은 이름 내용 다름.ipynb\n",
      "C:\\Users\\qq221\\Study\\Python Library\\006b\\.ipynb_checkpoints\\같은 이름 내용 다름-checkpoint.ipynb\n",
      "C:\\Users\\qq221\\Study\\알고리즘 스터디\\000. 수 정렬하기.ipynb\n",
      "C:\\Users\\qq221\\Study\\알고리즘 스터디\\001 숫자의 합 구하기.ipynb\n",
      "C:\\Users\\qq221\\Study\\알고리즘 스터디\\002. 평균 구하기.ipynb\n",
      "C:\\Users\\qq221\\Study\\알고리즘 스터디\\003. 구간합구하기.ipynb\n",
      "C:\\Users\\qq221\\Study\\알고리즘 스터디\\004. 구간 합 구히가2.ipynb\n",
      "C:\\Users\\qq221\\Study\\알고리즘 스터디\\005. 나머지 합 구하기.ipynb\n",
      "C:\\Users\\qq221\\Study\\알고리즘 스터디\\006 연속된 자연수의 합 구하기.ipynb\n",
      "C:\\Users\\qq221\\Study\\알고리즘 스터디\\007. 주몽의 명령.ipynb\n",
      "C:\\Users\\qq221\\Study\\알고리즘 스터디\\008. '좋은 수' 구하기.ipynb\n",
      "C:\\Users\\qq221\\Study\\알고리즘 스터디\\009. DNA 비밀번호.ipynb\n",
      "C:\\Users\\qq221\\Study\\알고리즘 스터디\\010. 최솟값 찾기1.ipynb\n",
      "C:\\Users\\qq221\\Study\\알고리즘 스터디\\011. 스택으로 수열 만들기.ipynb\n",
      "C:\\Users\\qq221\\Study\\알고리즘 스터디\\012. 오큰수.ipynb\n",
      "C:\\Users\\qq221\\Study\\알고리즘 스터디\\013. 카드 게임.ipynb\n",
      "C:\\Users\\qq221\\Study\\알고리즘 스터디\\014. 절대값 힙 구현.ipynb\n",
      "C:\\Users\\qq221\\Study\\알고리즘 스터디\\015. 수 정렬하기1.ipynb\n",
      "C:\\Users\\qq221\\Study\\알고리즘 스터디\\016. 버블 정렬 프로그램1.ipynb\n",
      "C:\\Users\\qq221\\Study\\알고리즘 스터디\\017. 내림차순으로 자릿수 정렬하기.ipynb\n",
      "C:\\Users\\qq221\\Study\\알고리즘 스터디\\018. ATM인출 시간 계산하기.ipynb\n",
      "C:\\Users\\qq221\\Study\\알고리즘 스터디\\019. K번째 수 구하기.ipynb\n",
      "C:\\Users\\qq221\\Study\\알고리즘 스터디\\023. 연결 요소의 개수 구하기.ipynb\n",
      "C:\\Users\\qq221\\Study\\알고리즘 스터디\\024. 신기한 소수 찾기.ipynb\n",
      "C:\\Users\\qq221\\Study\\알고리즘 스터디\\025. 친구 관계 파악하기.ipynb\n",
      "C:\\Users\\qq221\\Study\\알고리즘 스터디\\026. DFS와 BFS프로그램.ipynb\n",
      "C:\\Users\\qq221\\Study\\알고리즘 스터디\\027. 미로 탐색하기.ipynb\n",
      "C:\\Users\\qq221\\Study\\알고리즘 스터디\\028.  트리의 지름 구하기.ipynb\n",
      "C:\\Users\\qq221\\Study\\알고리즘 스터디\\029. 원하는 정수 찾기.ipynb\n",
      "C:\\Users\\qq221\\Study\\알고리즘 스터디\\030. 블루레이 만들기.ipynb\n",
      "C:\\Users\\qq221\\Study\\알고리즘 스터디\\031. 배열에서 K번째 수 찾기.ipynb\n",
      "C:\\Users\\qq221\\Study\\알고리즘 스터디\\033. 카드 정렬하기.ipynb\n",
      "C:\\Users\\qq221\\Study\\알고리즘 스터디\\034. 수를 묶어서 최댓값 만들기.ipynb\n",
      "C:\\Users\\qq221\\Study\\알고리즘 스터디\\035. 회의실 배정하기.ipynb\n",
      "C:\\Users\\qq221\\Study\\알고리즘 스터디\\036. 최솟값을 만드는 괄호 배치 찾기.ipynb\n",
      "C:\\Users\\qq221\\Study\\알고리즘 스터디\\037. 소수 구하기.ipynb\n",
      "C:\\Users\\qq221\\Study\\알고리즘 스터디\\038. 거의 소수 구하기.ipynb\n",
      "C:\\Users\\qq221\\Study\\알고리즘 스터디\\039. 소수& 팰린드롬 수 중에서 최솟값 찾기.ipynb\n",
      "C:\\Users\\qq221\\Study\\알고리즘 스터디\\040. 제곱이 아닌 수 찾기.ipynb\n",
      "C:\\Users\\qq221\\Study\\알고리즘 스터디\\041. 오일러 피 함수 구현하기.ipynb\n",
      "C:\\Users\\qq221\\Study\\알고리즘 스터디\\043. 최대 공약수 구하기.ipynb\n",
      "C:\\Users\\qq221\\Study\\알고리즘 스터디\\044. 칵테일 만들기.ipynb\n",
      "C:\\Users\\qq221\\Study\\알고리즘 스터디\\045. Ax+By=C.ipynb\n",
      "C:\\Users\\qq221\\Study\\알고리즘 스터디\\046. 특정 거리의 도시 찾기.ipynb\n",
      "C:\\Users\\qq221\\Study\\알고리즘 스터디\\047. 효율적으로 해킹하기.ipynb\n",
      "C:\\Users\\qq221\\Study\\알고리즘 스터디\\048. 이분 그래프 판별하기.ipynb\n",
      "C:\\Users\\qq221\\Study\\알고리즘 스터디\\053. 줄 세우기.ipynb\n",
      "C:\\Users\\qq221\\Study\\알고리즘 스터디\\056. 최단 경로 구하기.ipynb\n",
      "C:\\Users\\qq221\\Study\\알고리즘 스터디\\067.트리의 부모 찾기.ipynb\n",
      "C:\\Users\\qq221\\Study\\알고리즘 스터디\\070, 트리 순회하기.ipynb\n",
      "C:\\Users\\qq221\\Study\\알고리즘 스터디\\086. 이친수 구하기.ipynb\n",
      "C:\\Users\\qq221\\Study\\알고리즘 스터디\\090. 최장 공통 부분 수열 찾기.ipynb\n",
      "C:\\Users\\qq221\\Study\\알고리즘 스터디\\097. 선분 방향 구하기.ipynb\n",
      "C:\\Users\\qq221\\Study\\알고리즘 스터디\\100. 다각형의 넓이 구하기.ipynb\n",
      "C:\\Users\\qq221\\Study\\알고리즘 스터디\\.ipynb_checkpoints\\000. 수 정렬하기-checkpoint.ipynb\n",
      "C:\\Users\\qq221\\Study\\알고리즘 스터디\\.ipynb_checkpoints\\001 숫자의 합 구하기-checkpoint.ipynb\n",
      "C:\\Users\\qq221\\Study\\알고리즘 스터디\\.ipynb_checkpoints\\002. 평균 구하기-checkpoint.ipynb\n",
      "C:\\Users\\qq221\\Study\\알고리즘 스터디\\.ipynb_checkpoints\\003. 구간합구하기-checkpoint.ipynb\n",
      "C:\\Users\\qq221\\Study\\알고리즘 스터디\\.ipynb_checkpoints\\004. 구간 합 구히가2-checkpoint.ipynb\n",
      "C:\\Users\\qq221\\Study\\알고리즘 스터디\\.ipynb_checkpoints\\005. 나머지 합 구하기-checkpoint.ipynb\n",
      "C:\\Users\\qq221\\Study\\알고리즘 스터디\\.ipynb_checkpoints\\006 연속된 자연수의 합 구하기-checkpoint.ipynb\n",
      "C:\\Users\\qq221\\Study\\알고리즘 스터디\\.ipynb_checkpoints\\007. 주몽의 명령-checkpoint.ipynb\n",
      "C:\\Users\\qq221\\Study\\알고리즘 스터디\\.ipynb_checkpoints\\008. '좋은 수' 구하기-checkpoint.ipynb\n",
      "C:\\Users\\qq221\\Study\\알고리즘 스터디\\.ipynb_checkpoints\\009. DNA 비밀번호-checkpoint.ipynb\n",
      "C:\\Users\\qq221\\Study\\알고리즘 스터디\\.ipynb_checkpoints\\010. 최솟값 찾기1-checkpoint.ipynb\n",
      "C:\\Users\\qq221\\Study\\알고리즘 스터디\\.ipynb_checkpoints\\011. 스택으로 수열 만들기-checkpoint.ipynb\n",
      "C:\\Users\\qq221\\Study\\알고리즘 스터디\\.ipynb_checkpoints\\012. 오큰수-checkpoint.ipynb\n",
      "C:\\Users\\qq221\\Study\\알고리즘 스터디\\.ipynb_checkpoints\\013. 카드 게임-checkpoint.ipynb\n",
      "C:\\Users\\qq221\\Study\\알고리즘 스터디\\.ipynb_checkpoints\\014. 절대값 힙 구현-checkpoint.ipynb\n",
      "C:\\Users\\qq221\\Study\\알고리즘 스터디\\.ipynb_checkpoints\\015. 수 정렬하기1-checkpoint.ipynb\n",
      "C:\\Users\\qq221\\Study\\알고리즘 스터디\\.ipynb_checkpoints\\016. 버블 정렬 프로그램1-checkpoint.ipynb\n",
      "C:\\Users\\qq221\\Study\\알고리즘 스터디\\.ipynb_checkpoints\\017. 내림차순으로 자릿수 정렬하기-checkpoint.ipynb\n",
      "C:\\Users\\qq221\\Study\\알고리즘 스터디\\.ipynb_checkpoints\\018. ATM인출 시간 계산하기-checkpoint.ipynb\n",
      "C:\\Users\\qq221\\Study\\알고리즘 스터디\\.ipynb_checkpoints\\019. K번째 수 구하기-checkpoint.ipynb\n",
      "C:\\Users\\qq221\\Study\\알고리즘 스터디\\.ipynb_checkpoints\\023. 연결 요소의 개수 구하기-checkpoint.ipynb\n",
      "C:\\Users\\qq221\\Study\\알고리즘 스터디\\.ipynb_checkpoints\\024. 신기한 소수 찾기-checkpoint.ipynb\n",
      "C:\\Users\\qq221\\Study\\알고리즘 스터디\\.ipynb_checkpoints\\025. 친구 관계 파악하기-checkpoint.ipynb\n",
      "C:\\Users\\qq221\\Study\\알고리즘 스터디\\.ipynb_checkpoints\\026. DFS와 BFS프로그램-checkpoint.ipynb\n",
      "C:\\Users\\qq221\\Study\\알고리즘 스터디\\.ipynb_checkpoints\\027. 미로 탐색하기-checkpoint.ipynb\n",
      "C:\\Users\\qq221\\Study\\알고리즘 스터디\\.ipynb_checkpoints\\028.  트리의 지름 구하기-checkpoint.ipynb\n",
      "C:\\Users\\qq221\\Study\\알고리즘 스터디\\.ipynb_checkpoints\\029. 원하는 정수 찾기-checkpoint.ipynb\n",
      "C:\\Users\\qq221\\Study\\알고리즘 스터디\\.ipynb_checkpoints\\030. 블루레이 만들기-checkpoint.ipynb\n",
      "C:\\Users\\qq221\\Study\\알고리즘 스터디\\.ipynb_checkpoints\\031. 배열에서 K번째 수 찾기-checkpoint.ipynb\n",
      "C:\\Users\\qq221\\Study\\알고리즘 스터디\\.ipynb_checkpoints\\033. 카드 정렬하기-checkpoint.ipynb\n",
      "C:\\Users\\qq221\\Study\\알고리즘 스터디\\.ipynb_checkpoints\\034. 수를 묶어서 최댓값 만들기-checkpoint.ipynb\n",
      "C:\\Users\\qq221\\Study\\알고리즘 스터디\\.ipynb_checkpoints\\035. 회의실 배정하기-checkpoint.ipynb\n",
      "C:\\Users\\qq221\\Study\\알고리즘 스터디\\.ipynb_checkpoints\\036. 최솟값을 만드는 괄호 배치 찾기-checkpoint.ipynb\n",
      "C:\\Users\\qq221\\Study\\알고리즘 스터디\\.ipynb_checkpoints\\037. 소수 구하기-checkpoint.ipynb\n",
      "C:\\Users\\qq221\\Study\\알고리즘 스터디\\.ipynb_checkpoints\\038. 거의 소수 구하기-checkpoint.ipynb\n",
      "C:\\Users\\qq221\\Study\\알고리즘 스터디\\.ipynb_checkpoints\\039. 소수& 팰린드롬 수 중에서 최솟값 찾기-checkpoint.ipynb\n",
      "C:\\Users\\qq221\\Study\\알고리즘 스터디\\.ipynb_checkpoints\\040. 제곱이 아닌 수 찾기-checkpoint.ipynb\n",
      "C:\\Users\\qq221\\Study\\알고리즘 스터디\\.ipynb_checkpoints\\041. 오일러 피 함수 구현하기-checkpoint.ipynb\n",
      "C:\\Users\\qq221\\Study\\알고리즘 스터디\\.ipynb_checkpoints\\043. 최대 공약수 구하기-checkpoint.ipynb\n",
      "C:\\Users\\qq221\\Study\\알고리즘 스터디\\.ipynb_checkpoints\\044. 칵테일 만들기-checkpoint.ipynb\n",
      "C:\\Users\\qq221\\Study\\알고리즘 스터디\\.ipynb_checkpoints\\045. Ax+By=C-checkpoint.ipynb\n",
      "C:\\Users\\qq221\\Study\\알고리즘 스터디\\.ipynb_checkpoints\\046. 특정 거리의 도시 찾기-checkpoint.ipynb\n",
      "C:\\Users\\qq221\\Study\\알고리즘 스터디\\.ipynb_checkpoints\\047. 효율적으로 해킹하기-checkpoint.ipynb\n",
      "C:\\Users\\qq221\\Study\\알고리즘 스터디\\.ipynb_checkpoints\\048. 이분 그래프 판별하기-checkpoint.ipynb\n",
      "C:\\Users\\qq221\\Study\\알고리즘 스터디\\.ipynb_checkpoints\\053. 줄 세우기-checkpoint.ipynb\n",
      "C:\\Users\\qq221\\Study\\알고리즘 스터디\\.ipynb_checkpoints\\056. 최단 경로 구하기-checkpoint.ipynb\n",
      "C:\\Users\\qq221\\Study\\알고리즘 스터디\\.ipynb_checkpoints\\067.트리의 부모 찾기-checkpoint.ipynb\n",
      "C:\\Users\\qq221\\Study\\알고리즘 스터디\\.ipynb_checkpoints\\070, 트리 순회하기-checkpoint.ipynb\n",
      "C:\\Users\\qq221\\Study\\알고리즘 스터디\\.ipynb_checkpoints\\086. 이친수 구하기-checkpoint.ipynb\n",
      "C:\\Users\\qq221\\Study\\알고리즘 스터디\\.ipynb_checkpoints\\090. 최장 공통 부분 수열 찾기-checkpoint.ipynb\n",
      "C:\\Users\\qq221\\Study\\알고리즘 스터디\\.ipynb_checkpoints\\097. 선분 방향 구하기-checkpoint.ipynb\n",
      "C:\\Users\\qq221\\Study\\알고리즘 스터디\\.ipynb_checkpoints\\100. 다각형의 넓이 구하기-checkpoint.ipynb\n",
      "C:\\Users\\qq221\\Study\\파이썬 알고리즘 한승완 교수님\\파이썬 알고리즘 기말 준비.ipynb\n",
      "C:\\Users\\qq221\\Study\\파이썬 알고리즘 한승완 교수님\\.ipynb_checkpoints\\파이썬 알고리즘 기말 준비-checkpoint.ipynb\n",
      "C:\\Users\\qq221\\Study\\확률과 통계(파이썬)\\01. 데이터.ipynb\n",
      "C:\\Users\\qq221\\Study\\확률과 통계(파이썬)\\02. 1차원 데이터 정리.ipynb\n",
      "C:\\Users\\qq221\\Study\\확률과 통계(파이썬)\\03. 2차원 데이터 정리.ipynb\n",
      "C:\\Users\\qq221\\Study\\확률과 통계(파이썬)\\04. 추측통계의 기본.ipynb\n",
      "C:\\Users\\qq221\\Study\\확률과 통계(파이썬)\\05. 이산형 확률변수.ipynb\n",
      "C:\\Users\\qq221\\Study\\확률과 통계(파이썬)\\06. 대표적인 이산형 확률분포.ipynb\n",
      "C:\\Users\\qq221\\Study\\확률과 통계(파이썬)\\07. 연속형 확률변수.ipynb\n",
      "C:\\Users\\qq221\\Study\\확률과 통계(파이썬)\\08. 대표적인 연속형 확률분포.ipynb\n",
      "C:\\Users\\qq221\\Study\\확률과 통계(파이썬)\\09. 독립동일분포.ipynb\n",
      "C:\\Users\\qq221\\Study\\확률과 통계(파이썬)\\10. 통계적 추정.ipynb\n",
      "C:\\Users\\qq221\\Study\\확률과 통계(파이썬)\\11. 통계적 가설검정.ipynb\n",
      "C:\\Users\\qq221\\Study\\확률과 통계(파이썬)\\12. 회귀분석.ipynb\n",
      "C:\\Users\\qq221\\Study\\확률과 통계(파이썬)\\.ipynb_checkpoints\\01. 데이터-checkpoint.ipynb\n",
      "C:\\Users\\qq221\\Study\\확률과 통계(파이썬)\\.ipynb_checkpoints\\02. 1차원 데이터 정리-checkpoint.ipynb\n",
      "C:\\Users\\qq221\\Study\\확률과 통계(파이썬)\\.ipynb_checkpoints\\03. 2차원 데이터 정리-checkpoint.ipynb\n",
      "C:\\Users\\qq221\\Study\\확률과 통계(파이썬)\\.ipynb_checkpoints\\04. 추측통계의 기본-checkpoint.ipynb\n",
      "C:\\Users\\qq221\\Study\\확률과 통계(파이썬)\\.ipynb_checkpoints\\05. 이산형 확률변수-checkpoint.ipynb\n",
      "C:\\Users\\qq221\\Study\\확률과 통계(파이썬)\\.ipynb_checkpoints\\06. 대표적인 이산형 확률분포-checkpoint.ipynb\n",
      "C:\\Users\\qq221\\Study\\확률과 통계(파이썬)\\.ipynb_checkpoints\\07. 연속형 확률변수-checkpoint.ipynb\n",
      "C:\\Users\\qq221\\Study\\확률과 통계(파이썬)\\.ipynb_checkpoints\\08. 대표적인 연속형 확률분포-checkpoint.ipynb\n",
      "C:\\Users\\qq221\\Study\\확률과 통계(파이썬)\\.ipynb_checkpoints\\09. 독립동일분포-checkpoint.ipynb\n",
      "C:\\Users\\qq221\\Study\\확률과 통계(파이썬)\\.ipynb_checkpoints\\10. 통계적 추정-checkpoint.ipynb\n",
      "C:\\Users\\qq221\\Study\\확률과 통계(파이썬)\\.ipynb_checkpoints\\11. 통계적 가설검정-checkpoint.ipynb\n",
      "C:\\Users\\qq221\\Study\\확률과 통계(파이썬)\\.ipynb_checkpoints\\12. 회귀분석-checkpoint.ipynb\n"
     ]
    }
   ],
   "source": [
    "import pathlib\n",
    "\n",
    "def search(dirname):\n",
    "    for p in pathlib.Path(dirname).rglob('*.ipynb'):\n",
    "        print(p)\n",
    "        \n",
    "search(\"C:/Users/qq221/Study\")"
   ]
  },
  {
   "cell_type": "markdown",
   "id": "15e04c22",
   "metadata": {},
   "source": [
    "# 여러 개의 파일을 한꺼번에 읽으려면?\n",
    "## fileinput\n",
    "### 여러개의 파일을 한꺼번에 처리할 때 사용하는 모듈"
   ]
  },
  {
   "cell_type": "code",
   "execution_count": 7,
   "id": "8db13823",
   "metadata": {
    "vscode": {
     "languageId": "python"
    }
   },
   "outputs": [
    {
     "name": "stdout",
     "output_type": "stream",
     "text": [
      "1st text file\n",
      "\n",
      "4th grade 1st semester is approaching...\n",
      "\n",
      "End of 1st text file\n",
      "2nd text file\n",
      "\n",
      "Information processing technicians should also be prepared...\n",
      "\n",
      "end of second text file\n",
      "3rd text file\n",
      "\n",
      "Let's Fight!\n",
      "\n",
      "End of 3rd text file\n"
     ]
    }
   ],
   "source": [
    "import fileinput\n",
    "import glob\n",
    "\n",
    "#./006ex 파일 경로의 모든 txt파일을 읽음 \n",
    "with fileinput.input(glob.glob(\"006ex/*.txt\")) as f:\n",
    "    for line in f:\n",
    "        print(line)"
   ]
  },
  {
   "cell_type": "markdown",
   "id": "3869185b",
   "metadata": {},
   "source": [
    "# 디렉터리와 파일을 비교하려면?\n",
    "## filecmp\n",
    "### 파일 두 개 또는 디렉터리 두 곳을 비교할 때 사용하는 모듈"
   ]
  },
  {
   "cell_type": "code",
   "execution_count": 8,
   "id": "2c36db5a",
   "metadata": {
    "vscode": {
     "languageId": "python"
    }
   },
   "outputs": [
    {
     "name": "stdout",
     "output_type": "stream",
     "text": [
      "006a 디렉터리에만 있는 파일\n",
      "006a : 001. 텍스트 다루기.ipynb\n",
      "006a : 002. 바이너리 데이터 다루기.ipynb\n",
      "\n",
      "006b 디렉터리에만 있는 파일\n",
      "006b : 004. 수학과 숫자 다루기.ipynb\n",
      "006b : 005. 함수형 프로그래밍 다루기.ipynb\n",
      "\n",
      "두 곳 모두에 있지만 내용이 다른 파일\n",
      "x: 같은 이름 내용 다름.ipynb\n"
     ]
    }
   ],
   "source": [
    "import filecmp\n",
    "\n",
    "fd = filecmp.dircmp('./006a','./006b')\n",
    "\n",
    "#006a 디렉터리에만 있는 파일\n",
    "print('006a 디렉터리에만 있는 파일')\n",
    "for a in fd.left_only:\n",
    "    print(f'006a : {a}')\n",
    "\n",
    "print()\n",
    "    \n",
    "#006b 디렉터리에만 있는 파일\n",
    "print('006b 디렉터리에만 있는 파일')\n",
    "for b in fd.right_only:\n",
    "    print(f'006b : {b}')\n",
    "    \n",
    "    \n",
    "print()\n",
    "\n",
    "\n",
    "#두 곳 모두에 있지만 내용이 다른 파일\n",
    "print('두 곳 모두에 있지만 내용이 다른 파일')\n",
    "for x in fd.diff_files:\n",
    "    print(f'x: {x}')"
   ]
  },
  {
   "cell_type": "markdown",
   "id": "092a5229",
   "metadata": {},
   "source": [
    "# 임시로 만든 파일을 이용하려면?\n",
    "## tempfile\n",
    "### 임시 파일을 만들 때 사용하는 모듈"
   ]
  },
  {
   "cell_type": "code",
   "execution_count": 9,
   "id": "84baad58",
   "metadata": {
    "vscode": {
     "languageId": "python"
    }
   },
   "outputs": [
    {
     "name": "stdout",
     "output_type": "stream",
     "text": [
      "494\n"
     ]
    }
   ],
   "source": [
    "import random\n",
    "import tempfile\n",
    "\n",
    "def sumfile(f):\n",
    "    '''파일을 읽어서 텍스트의 숫자를 더하는 함수(한줄에는 하나의 숫자가 있다)'''\n",
    "    result = 0\n",
    "    for line in f.readlines():\n",
    "        num = int(line)\n",
    "        result += num\n",
    "    return result\n",
    "\n",
    "#쓰기모드로 임시 파일을 만듬\n",
    "tf = tempfile.TemporaryFile(mode='w+')\n",
    "for i in range(10):               # 한줄씩 랜덤 값 삽입\n",
    "    num = random.randint(1,100)\n",
    "    tf.write(str(num))\n",
    "    tf.write(\"\\n\")\n",
    "\n",
    "\n",
    "\n",
    "tf.seek(0)   # 파일의 오프셋(커서 위치)을 처음으로 이동 \n",
    "result = sumfile(tf)\n",
    "tf.close #close 수행 시 임시파일 자동삭제\n",
    "\n",
    "print(result)"
   ]
  },
  {
   "cell_type": "markdown",
   "id": "15319c00",
   "metadata": {},
   "source": [
    "# 파일을 찾으려면?\n",
    "## glob\n",
    "### 패턴(유닉스 셸이 사용하는 규칙)을 이용하여 파일을 검색할 때 사용하는 모듈"
   ]
  },
  {
   "cell_type": "code",
   "execution_count": 10,
   "id": "067410f7",
   "metadata": {
    "vscode": {
     "languageId": "python"
    }
   },
   "outputs": [
    {
     "name": "stdout",
     "output_type": "stream",
     "text": [
      "001. 텍스트 다루기.ipynb\n",
      "002. 바이너리 데이터 다루기.ipynb\n",
      "003. 다양한 데이터 다루기.ipynb\n",
      "004. 수학과 숫자 다루기.ipynb\n",
      "005. 함수형 프로그래밍 다루기.ipynb\n",
      "006. 파일과 디렉터리 다루기.ipynb\n",
      "006a\\001. 텍스트 다루기.ipynb\n",
      "006a\\002. 바이너리 데이터 다루기.ipynb\n",
      "006a\\003. 다양한 데이터 다루기.ipynb\n",
      "006a\\같은 이름 내용 다름.ipynb\n",
      "006b\\003. 다양한 데이터 다루기.ipynb\n",
      "006b\\004. 수학과 숫자 다루기.ipynb\n",
      "006b\\005. 함수형 프로그래밍 다루기.ipynb\n",
      "006b\\같은 이름 내용 다름.ipynb\n"
     ]
    }
   ],
   "source": [
    "import glob\n",
    "\n",
    "#현재 디렉터리와 하위 디렉터리의 모든 ipynb파일 출력\n",
    "for filename in glob.glob(\"**/*.ipynb\", recursive=True):\n",
    "    print(filename)"
   ]
  },
  {
   "cell_type": "markdown",
   "id": "cbb567e0",
   "metadata": {},
   "source": [
    "# 특정 파일만 찾으려면?\n",
    "## fnmatch\n",
    "### 파일 중에서 특정 패턴(유닉스 셸이 사용하는 규칙)과 일치하는 파일을 찾을 때 사용하는 모듈"
   ]
  },
  {
   "cell_type": "code",
   "execution_count": 11,
   "id": "96498005",
   "metadata": {
    "vscode": {
     "languageId": "python"
    }
   },
   "outputs": [
    {
     "name": "stdout",
     "output_type": "stream",
     "text": [
      "003. 다양한 데이터 다루기.ipynb\n"
     ]
    }
   ],
   "source": [
    "import fnmatch\n",
    "import os\n",
    "\n",
    "\n",
    "\n",
    "# * : 모든 것과 일치\n",
    "# ? : 모든 단일 문자와 일치\n",
    "# [seq] seq의 모든 문자와 일치\n",
    "# [!seq] seq에 없는 모든 문자와 일치\n",
    "\n",
    "#현재 디렉터리의 모든 파일중 다음 규칙을 따르는 파일을 찾아 출력  '??[1-9]??다*.ipynb'\n",
    "for filename in os.listdir('.'):\n",
    "    if fnmatch.fnmatch(filename, '??[1-9]??다*.ipynb'):\n",
    "        print(filename)"
   ]
  },
  {
   "cell_type": "markdown",
   "id": "ca71468e",
   "metadata": {},
   "source": [
    "# 파일에서 무작위로 한 줄만 가져오려면?\n",
    "## linecache\n",
    "### 파일의 원하는 줄의 값을 읽을 때 사용하는 모듈, 이때 캐시를 사용하여 파일에서 여러 줄을 읽는 일반적인 상황을 내부적으로 최적화한다."
   ]
  },
  {
   "cell_type": "code",
   "execution_count": 12,
   "id": "c5ffa94a",
   "metadata": {
    "vscode": {
     "languageId": "python"
    }
   },
   "outputs": [
    {
     "name": "stdout",
     "output_type": "stream",
     "text": [
      "하늘의 별 따기\n",
      "\n"
     ]
    }
   ],
   "source": [
    "import linecache\n",
    "import random\n",
    "\n",
    "no = random.randint(1,100)\n",
    "print(linecache.getline('saying.txt', no)) # 파일의 지정한 줄을 읽어서 반환 \n",
    "                                        # getline을 여러번 호출하더라도 캐시에 저장한 값을 반환하므로 속도가 빠름"
   ]
  },
  {
   "cell_type": "markdown",
   "id": "f2831640",
   "metadata": {},
   "source": [
    "# 파일을 복사하거나 이동하려면?\n",
    "## shutil\n",
    "### 파일을 복사, 이동할 때 사용하는 모듈"
   ]
  },
  {
   "cell_type": "code",
   "execution_count": 13,
   "id": "11c7ac3a",
   "metadata": {
    "vscode": {
     "languageId": "python"
    }
   },
   "outputs": [],
   "source": [
    "import shutil\n",
    "\n",
    "#shutil.copy(\"파일 경로\", \"복사할 파일 경로\")\n",
    "#shutil.move(\"파일 경로\", \"이동할 파일 경로\")"
   ]
  },
  {
   "cell_type": "code",
   "execution_count": null,
   "id": "4d33b863",
   "metadata": {
    "vscode": {
     "languageId": "python"
    }
   },
   "outputs": [],
   "source": []
  }
 ],
 "metadata": {
  "kernelspec": {
   "display_name": "jupyter-jsmol",
   "language": "python",
   "name": "jupyter-jsmol"
  }
 },
 "nbformat": 4,
 "nbformat_minor": 5
}
