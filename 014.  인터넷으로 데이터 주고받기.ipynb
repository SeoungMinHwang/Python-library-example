{
 "cells": [
  {
   "cell_type": "markdown",
   "id": "f5f45d43",
   "metadata": {},
   "source": [
    "# JSON 데이터를 다루려면?\n",
    "## json\n",
    "### JSON데이터를 쉽게 처리하고자 사용하는 모듈"
   ]
  },
  {
   "cell_type": "code",
   "execution_count": 9,
   "id": "af6061fa",
   "metadata": {},
   "outputs": [
    {
     "name": "stdout",
     "output_type": "stream",
     "text": [
      "<class 'dict'>\n",
      "{'name': '황성민', 'birth': '0423', 'age': 25}\n"
     ]
    }
   ],
   "source": [
    "import json\n",
    "with open('014myinfo.json', encoding='utf-8') as f:\n",
    "    #JSON 파일을 읽을 때는 json.load(파일 객체)를 사용\n",
    "    #읽은 데이터를 딕셔너리 자료형으로 반환\n",
    "     data = json.load(f)\n",
    "        \n",
    "    #반대로 딕셔너리 자료형을 JSON 파일로 생성할 때는 다음처럼 json.dump(딕셔너리, 파일 객체)를 사용\n",
    "\n",
    "print(type(data))\n",
    "print(data)"
   ]
  },
  {
   "cell_type": "markdown",
   "id": "3c1490a2",
   "metadata": {},
   "source": [
    "# 바이너리 데이터를 문자열로 바꾸려면?\n",
    "## base64\n",
    "### 바이너리 데이터를 문자열로 인코딩할 때 사용하는 모듈"
   ]
  },
  {
   "cell_type": "code",
   "execution_count": 13,
   "id": "e5fbff78",
   "metadata": {},
   "outputs": [],
   "source": [
    "import base64\n",
    "\n",
    "\n",
    "def img_to_string(filename):\n",
    "    ''' 파일명(filename)을 입력으로 받아 base64로 인코딩한 문자열을 리턴한다 '''\n",
    "    with open(filename, 'rb') as f:\n",
    "        return base64.b64encode(f.read())\n",
    "\n",
    "\n",
    "def string_to_img(s, filename):\n",
    "    ''' base64로 인코딩된 문자열(s)과 파일명(filename)을 입력으로 받아 문자열을 파일로 저장한다. '''\n",
    "    with open(filename, 'wb') as f:\n",
    "        f.write(base64.b64decode(s))\n",
    "\n",
    "\n",
    "img_string = img_to_string('014test.jpg')  # test.jpg 파일을 base64 문자열로 반환\n",
    "string_to_img(img_string, '014result.jpg')  # base64 문자열을 result.jpg 파일로 저장"
   ]
  },
  {
   "cell_type": "code",
   "execution_count": 14,
   "id": "abc5f536",
   "metadata": {
    "collapsed": true
   },
   "outputs": [
    {
     "data": {
      "text/plain": [
       "b'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'"
      ]
     },
     "execution_count": 14,
     "metadata": {},
     "output_type": "execute_result"
    }
   ],
   "source": [
    "img_string"
   ]
  },
  {
   "cell_type": "code",
   "execution_count": 15,
   "id": "c1091af1",
   "metadata": {},
   "outputs": [
    {
     "name": "stdout",
     "output_type": "stream",
     "text": [
      "b'TGlmZSBpcyB0b28gc2hvcnQ='\n"
     ]
    },
    {
     "data": {
      "text/plain": [
       "b'Life is too short'"
      ]
     },
     "execution_count": 15,
     "metadata": {},
     "output_type": "execute_result"
    }
   ],
   "source": [
    "# 바이트 문자열을 Base64로 인코딩하고 디코딩하는 예제\n",
    "\n",
    ">>> import base64\n",
    "import base64\n",
    "e = base64.b64encode(b'Life is too short')\n",
    "print(e)\n",
    "\n",
    "base64.b64decode(e)"
   ]
  },
  {
   "cell_type": "markdown",
   "id": "7b4e4796",
   "metadata": {},
   "source": [
    "# 문자열을 16진수로 변환하려면?\n",
    "## binascii\n",
    "### 문자열을 16진수로, 변환한 16진수를 다시 문자열로 변환하는 모듈"
   ]
  },
  {
   "cell_type": "code",
   "execution_count": 17,
   "id": "d4724db2",
   "metadata": {},
   "outputs": [
    {
     "data": {
      "text/plain": [
       "b'Python Library'"
      ]
     },
     "execution_count": 17,
     "metadata": {},
     "output_type": "execute_result"
    }
   ],
   "source": [
    "# 507974686f6e204c696272617279     < --   어떠한 문자를 16진수로 표현 \n",
    "\n",
    "import binascii      \n",
    "binascii.unhexlify(b'507974686f6e204c696272617279')"
   ]
  },
  {
   "cell_type": "code",
   "execution_count": 18,
   "id": "347e631e",
   "metadata": {},
   "outputs": [
    {
     "data": {
      "text/plain": [
       "b'Python Library'"
      ]
     },
     "execution_count": 18,
     "metadata": {},
     "output_type": "execute_result"
    }
   ],
   "source": [
    "# 이 함수의 입력 인수는 바이트 문자열이어야 한다\n",
    "# 또는 다음과 같이 bytes 자료형을 사용해도 된다.\n",
    "bytes.fromhex('507974686f6e204c696272617279')"
   ]
  },
  {
   "cell_type": "code",
   "execution_count": 25,
   "id": "12d955f2",
   "metadata": {},
   "outputs": [
    {
     "data": {
      "text/plain": [
       "'55206e65656420707974686f6e'"
      ]
     },
     "execution_count": 25,
     "metadata": {},
     "output_type": "execute_result"
    }
   ],
   "source": [
    "#Python Library'라는 문자열을 16진수로 만들 때는 binascii.hexlify() 함수를 사용\n",
    "binascii.hexlify(b'U need python')\n",
    "\n",
    "#바이트 문자열 객체의 hex() 함수도 사용 가능\n",
    "b'U need python'.hex()"
   ]
  },
  {
   "cell_type": "code",
   "execution_count": 31,
   "id": "4408cfee",
   "metadata": {},
   "outputs": [
    {
     "data": {
      "text/plain": [
       "b'eca690eab1b0ec9ab42034ed9599eb85842031ed9599eab8b020ed9598ed9598ed9598ed9598ed9598e3858fe3858fed9598ed95b3e3858ee3858e'"
      ]
     },
     "execution_count": 31,
     "metadata": {},
     "output_type": "execute_result"
    }
   ],
   "source": [
    "#한글이 포함된 문자열을 16진수로 변환할 때는 다음과 같이 유니코드 문자열을 바이트 문자열로 변환하는 UTF-8 인코딩이 필요\n",
    "\n",
    "\n",
    "binascii.hexlify('즐거운 4학년 1학기 하하하하하ㅏㅏ하핳ㅎㅎ'.encode('utf-8'))"
   ]
  },
  {
   "cell_type": "code",
   "execution_count": 32,
   "id": "215e94e3",
   "metadata": {},
   "outputs": [
    {
     "data": {
      "text/plain": [
       "'즐거운 4학년 1학기 하하하하하ㅏㅏ하핳ㅎㅎ'"
      ]
     },
     "execution_count": 32,
     "metadata": {},
     "output_type": "execute_result"
    }
   ],
   "source": [
    "binascii.unhexlify(b'eca690eab1b0ec9ab42034ed9599eb85842031ed9599eab8b020ed9598ed9598ed9598ed9598ed9598e3858fe3858fed9598ed95b3e3858ee3858e'\n",
    ").decode('utf-8')"
   ]
  },
  {
   "cell_type": "markdown",
   "id": "51b75780",
   "metadata": {},
   "source": [
    "# 아스키 외의 문자만 인코딩하려면?\n",
    "## quopri\n",
    "### quoted-printable 인코딩/디코딩을 할 때 사용하는 모듈"
   ]
  },
  {
   "cell_type": "markdown",
   "id": "a26bb195",
   "metadata": {},
   "source": [
    "quoted-printable이란?  \n",
    "quoted-printable 인코딩 방식은 인코딩한 메시지를 디코딩하지 않더라도 ASCII 문자는 그대로 볼 수 있도록 하는 방식이다. 즉, 영문과 숫자 등의 ASCII 7bit 문자는 그대로 두고 한글 등 8bit 문자만 인코딩한다."
   ]
  },
  {
   "cell_type": "code",
   "execution_count": 33,
   "id": "6a4fc318",
   "metadata": {},
   "outputs": [
    {
     "data": {
      "text/plain": [
       "'Python Library 공부'"
      ]
     },
     "execution_count": 33,
     "metadata": {},
     "output_type": "execute_result"
    }
   ],
   "source": [
    "import quopri\n",
    "\n",
    "\n",
    "#quoted-printable 방식으로 인코딩한 문자열 'Python Library =EA=B3=B5=EB=B6=80'\n",
    "quopri.decodestring('Python Library =EA=B3=B5=EB=B6=80').decode('utf-8')  # 디코딩 "
   ]
  },
  {
   "cell_type": "code",
   "execution_count": 34,
   "id": "29b98fe6",
   "metadata": {},
   "outputs": [
    {
     "data": {
      "text/plain": [
       "b'Python Library =EA=B3=B5=EB=B6=80'"
      ]
     },
     "execution_count": 34,
     "metadata": {},
     "output_type": "execute_result"
    }
   ],
   "source": [
    "# 인코딩 하는 방법 \n",
    "quopri.encodestring('Python Library 공부'.encode('utf-8'))"
   ]
  },
  {
   "cell_type": "markdown",
   "id": "6864a105",
   "metadata": {},
   "source": [
    "# 바이너리 파일을 텍스트 파일로 바꾸려면?\n",
    "## uu \n"
   ]
  },
  {
   "cell_type": "markdown",
   "id": "0532c59a",
   "metadata": {},
   "source": [
    "uuencode 인코딩은 바이너리를 텍스트로 변환하기 위한 인코딩 방법으로, 1980년 메리 앤 호튼(Mary Ann Horton)이 만들었다. uuencode에서 uu는 Unix-to-Unix를 뜻한다. 즉, 유닉스 시스템 간에 바이너리 데이터를 안전하게 전송하고자 만든 인코딩 방법이다. 하지만, 지금은 대부분 uuencode의 단점을 보완한 Base64와 같은 MIME 방식의 인코딩을 사용한다."
   ]
  },
  {
   "cell_type": "markdown",
   "id": "9ab4c0dd",
   "metadata": {},
   "source": [
    "import uu  \n",
    "  \n",
    "# 이미지를 텍스트로 변환  \n",
    "uu.encode('test.jpg', 'result.txt')  \n",
    "\n",
    "# 텍스트를 다시 이미지로 변환  \n",
    "uu.decode('result.txt', 'test1.jpg')  \n",
    "result.txt 파일을 열어보면 다음과 비슷한 내용을 볼 수 있다.  \n",
    "\n",
    "begin 666 test.jpg   \n",
    "  \n",
    "M_]C_X  02D9)1@ ! 0$!+ $L  #_X0\".17AI9@  34T *@    @  @$2  ,     \n",
    "M   !  $  (=I  0    !    )@      !) #  (    4    7) $  (    4    \n",
    "M    <)*1  (    #,#   )*2  (    #,#         R,#$Y.C V.C$Q(#$R    \n",
    "M.C(Y.C0R #(P,3DZ,#8Z,3$@,3(Z,CDZ-#(   #_X0&<:'1T<#HO+VYS+F%D    \n",
    "... 생략 ...  \n",
    "ME0HAMHUW(-NX,0.IPW3'6N@H **** \"BBB@ HHHH **** \"BBB@ HHHH __9  \n",
    "  \n",
    "end  \n",
    "          \n",
    "          \n",
    "uuencode 방식으로 인코딩한 텍스트 파일은 이처럼 begin ~ end로 구성된다.  "
   ]
  },
  {
   "cell_type": "code",
   "execution_count": null,
   "id": "0879b8b7",
   "metadata": {},
   "outputs": [],
   "source": []
  }
 ],
 "metadata": {
  "kernelspec": {
   "display_name": "Python 3",
   "language": "python",
   "name": "python3"
  },
  "language_info": {
   "codemirror_mode": {
    "name": "ipython",
    "version": 3
   },
   "file_extension": ".py",
   "mimetype": "text/x-python",
   "name": "python",
   "nbconvert_exporter": "python",
   "pygments_lexer": "ipython3",
   "version": "3.8.8"
  }
 },
 "nbformat": 4,
 "nbformat_minor": 5
}
