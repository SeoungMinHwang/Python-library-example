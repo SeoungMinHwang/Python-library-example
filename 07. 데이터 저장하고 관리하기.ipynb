{
 "cells": [
  {
   "cell_type": "markdown",
   "id": "628ff7f4",
   "metadata": {},
   "source": [
    "# 객체를 파일로 저장하고 불러오려면?\n",
    "## pickle \n",
    "### 파이썬에서 사용하는 딕셔너리, 리스트, 클래스등의 자료형을 변환 없이 그대로 파일로 저장하고 이를 불러올 때 사용하는 모듈"
   ]
  },
  {
   "cell_type": "code",
   "execution_count": null,
   "id": "3fdbe339",
   "metadata": {},
   "outputs": [],
   "source": []
  }
 ],
 "metadata": {
  "kernelspec": {
   "display_name": "Python 3",
   "language": "python",
   "name": "python3"
  },
  "language_info": {
   "codemirror_mode": {
    "name": "ipython",
    "version": 3
   },
   "file_extension": ".py",
   "mimetype": "text/x-python",
   "name": "python",
   "nbconvert_exporter": "python",
   "pygments_lexer": "ipython3",
   "version": "3.8.8"
  }
 },
 "nbformat": 4,
 "nbformat_minor": 5
}
