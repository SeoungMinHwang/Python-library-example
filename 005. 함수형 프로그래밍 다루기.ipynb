{
 "cells": [
  {
   "cell_type": "markdown",
   "id": "e4e74b61",
   "metadata": {},
   "source": [
    "# 상담원을 순서대로 배정하려면?\n",
    "## itertools.cycle(iterable)\n",
    "### 이터러블객체를 무한히 반복하는 이터레이터를 생성하는 함수"
   ]
  },
  {
   "cell_type": "code",
   "execution_count": 1,
   "id": "ff2d5c97",
   "metadata": {},
   "outputs": [
    {
     "name": "stdout",
     "output_type": "stream",
     "text": [
      "(0, '황성민')  (1, '최승현')  (2, '조찬우')  (3, '이민우')  (4, '황성민')  (5, '최승현')  (6, '조찬우')  (7, '이민우')  (8, '황성민')  (9, '최승현')  (10, '조찬우')  (11, '이민우')  (12, '황성민')  (13, '최승현')  "
     ]
    }
   ],
   "source": [
    "import itertools \n",
    "\n",
    "emp_pool = itertools.cycle(['황성민','최승현','조찬우','이민우'])\n",
    "\n",
    "for i in range(14):\n",
    "    print((i,next(emp_pool)), end = '  ')"
   ]
  },
  {
   "cell_type": "markdown",
   "id": "a2d0864c",
   "metadata": {},
   "source": [
    "# 연간 매출액을 계산하려면?\n",
    "## itertools.accumulate(iterable)\n",
    "### 이터러블 객체의 누적합을 계산하여 이터레이터로 반환하는 함수"
   ]
  },
  {
   "cell_type": "code",
   "execution_count": 2,
   "id": "3f8b74c7",
   "metadata": {},
   "outputs": [
    {
     "name": "stdout",
     "output_type": "stream",
     "text": [
      "[200, 500, 1020, 1233, 1795, 2529]\n"
     ]
    }
   ],
   "source": [
    "import itertools\n",
    "\n",
    "monthly_income = [200,300,520,213,562,734]\n",
    "\n",
    "result = list(itertools.accumulate(monthly_income))\n",
    "print(result)  # 누적합 배열 반환 "
   ]
  },
  {
   "cell_type": "code",
   "execution_count": 3,
   "id": "8f6bd9db",
   "metadata": {},
   "outputs": [
    {
     "name": "stdout",
     "output_type": "stream",
     "text": [
      "[200, 300, 520, 520, 562, 734]\n"
     ]
    }
   ],
   "source": [
    "result = list(itertools.accumulate(monthly_income, max))# 맥스인자를 주면 최댓값으로 갱신 \n",
    "print(result)"
   ]
  },
  {
   "cell_type": "markdown",
   "id": "3f3e59d9",
   "metadata": {},
   "source": [
    "# 키값으로 데이터를 묶으려면?\n",
    "## itertools.groupby(iterable, key=None)\n",
    "### 이터러블 객체를 키값으로 분류하고 그 결과를 반환하는 함수"
   ]
  },
  {
   "cell_type": "code",
   "execution_count": 4,
   "id": "a74490e1",
   "metadata": {},
   "outputs": [
    {
     "name": "stdout",
     "output_type": "stream",
     "text": [
      "[{'blood': 'A', 'name': '박상범'},\n",
      " {'blood': 'A', 'name': '한승완'},\n",
      " {'blood': 'A', 'name': '강호준'},\n",
      " {'blood': 'AB', 'name': '이민우'},\n",
      " {'blood': 'AB', 'name': '정헌수'},\n",
      " {'blood': 'B', 'name': '황성민'},\n",
      " {'blood': 'B', 'name': '조찬우'},\n",
      " {'blood': 'O', 'name': '최승현'}]\n"
     ]
    }
   ],
   "source": [
    "data = [\n",
    "    {'name' : '황성민', 'blood' : 'B'},\n",
    "    {'name' : '최승현', 'blood' : 'O'},\n",
    "    {'name' : '이민우', 'blood' : 'AB'},\n",
    "    {'name' : '조찬우', 'blood' : 'B'},\n",
    "    {'name' : '정헌수', 'blood' : 'AB'},\n",
    "    {'name' : '박상범', 'blood' : 'A'},\n",
    "    {'name' : '한승완', 'blood' : 'A'},\n",
    "    {'name' : '강호준', 'blood' : 'A'},\n",
    "]\n",
    "\n",
    "#itertools.groupby를 사용하기전 분류 기준으로 정렬\n",
    "import operator,pprint\n",
    "data = sorted(data, key=operator.itemgetter('blood'))\n",
    "pprint.pprint(data)\n",
    "\n"
   ]
  },
  {
   "cell_type": "code",
   "execution_count": 5,
   "id": "6f68168a",
   "metadata": {},
   "outputs": [
    {
     "name": "stdout",
     "output_type": "stream",
     "text": [
      "{'A': [{'blood': 'A', 'name': '박상범'},\n",
      "       {'blood': 'A', 'name': '한승완'},\n",
      "       {'blood': 'A', 'name': '강호준'}],\n",
      " 'AB': [{'blood': 'AB', 'name': '이민우'}, {'blood': 'AB', 'name': '정헌수'}],\n",
      " 'B': [{'blood': 'B', 'name': '황성민'}, {'blood': 'B', 'name': '조찬우'}],\n",
      " 'O': [{'blood': 'O', 'name': '최승현'}]}\n"
     ]
    }
   ],
   "source": [
    "import itertools\n",
    "\n",
    "grouped_data = itertools.groupby(data, key=operator.itemgetter('blood'))\n",
    "\n",
    "result = {}\n",
    "for key, group_data in grouped_data:\n",
    "    result[key] = list(group_data)\n",
    "\n",
    "pprint.pprint(result)"
   ]
  },
  {
   "cell_type": "markdown",
   "id": "2b5c2a2d",
   "metadata": {},
   "source": [
    "# 부족한 것을 채워 묶으려면?\n",
    "## itertools.zip_longest(*iterables, fillvalue=None)\n",
    "### zip()과 비슷하게 작동하지만 이터러블 객체의 길이가 다르면 긴 것을 기준으로 빠진값은 fillvalue에 저장한 값으로 채운다"
   ]
  },
  {
   "cell_type": "code",
   "execution_count": 6,
   "id": "69b5547a",
   "metadata": {},
   "outputs": [
    {
     "name": "stdout",
     "output_type": "stream",
     "text": [
      "[('황성민', '사탕'), ('최승현', '초콜릿'), ('이민우', '젤리')]\n"
     ]
    }
   ],
   "source": [
    "student = ['황성민','최승현', '이민우', '조찬우', '정헌수']\n",
    "rewards = ['사탕', '초콜릿', '젤리']\n",
    "\n",
    "result = zip(student, rewards)\n",
    "print(list(result))"
   ]
  },
  {
   "cell_type": "code",
   "execution_count": 7,
   "id": "c7f11cc7",
   "metadata": {},
   "outputs": [
    {
     "name": "stdout",
     "output_type": "stream",
     "text": [
      "[('황성민', '사탕'), ('최승현', '초콜릿'), ('이민우', '젤리'), ('조찬우', '특강'), ('정헌수', '특강')]\n"
     ]
    }
   ],
   "source": [
    "import itertools\n",
    "\n",
    "student = ['황성민','최승현', '이민우', '조찬우', '정헌수']\n",
    "rewards = ['사탕', '초콜릿', '젤리']\n",
    "\n",
    "result = itertools.zip_longest(student, rewards, fillvalue='특강')\n",
    "print(list(result))"
   ]
  },
  {
   "cell_type": "markdown",
   "id": "6d331c70",
   "metadata": {},
   "source": [
    "# 순서를 생각하며 카드를 뽑으려면?\n",
    "## itertools.permutation(iterable, r=None)\n",
    "### 이터러블객체중에서 r개를 선택한 순열을 반환하는 함수"
   ]
  },
  {
   "cell_type": "code",
   "execution_count": 8,
   "id": "00681639",
   "metadata": {},
   "outputs": [
    {
     "data": {
      "text/plain": [
       "[(1, 2), (1, 3), (2, 1), (2, 3), (3, 1), (3, 2)]"
      ]
     },
     "execution_count": 8,
     "metadata": {},
     "output_type": "execute_result"
    }
   ],
   "source": [
    "import itertools\n",
    "list(itertools.permutations([1,2,3], 2))"
   ]
  },
  {
   "cell_type": "markdown",
   "id": "1996d255",
   "metadata": {},
   "source": [
    "# 로또의 모든 가짓수를 구하려면?\n",
    "## itertools.combination(iterable, r)\n",
    "### 이터러블객체에서 r개를 선택한 조합을 이터레이터로 변환하는 함수"
   ]
  },
  {
   "cell_type": "code",
   "execution_count": 9,
   "id": "979111e9",
   "metadata": {},
   "outputs": [
    {
     "data": {
      "text/plain": [
       "8145060"
      ]
     },
     "execution_count": 9,
     "metadata": {},
     "output_type": "execute_result"
    }
   ],
   "source": [
    "import itertools\n",
    "\n",
    "it = itertools.combinations(range(1,46),6)\n",
    "\n",
    "len(list(it))\n",
    "\n",
    "#itertools.combinations_with_replacement 중복조합 "
   ]
  },
  {
   "cell_type": "markdown",
   "id": "d4e49e1e",
   "metadata": {},
   "source": [
    "# 순서대로 좌표를 정렬하려면?\n",
    "## functools.cmp_to_key(func)\n",
    "### sorted()와 같은 정렬 함수의 key 매개변수에 함수(func)를 전달할 때 사용하는 함수이다. 단, func()함수의 두개의 인수를 입력하여 첫 번째 인수를 기준으로 둘을 비교하고 작으면 음수, 같으면 0, 크면 양수를 반환하는 비교 함수 이어야 한다."
   ]
  },
  {
   "cell_type": "code",
   "execution_count": 10,
   "id": "954ba2d2",
   "metadata": {},
   "outputs": [
    {
     "name": "stdout",
     "output_type": "stream",
     "text": [
      "[(1, -1), (1, 2), (2, 2), (3, 3), (0, 4)]\n"
     ]
    }
   ],
   "source": [
    "# (x, y)로 이루어진 리스트가 있다 \n",
    "# y가 증가하는 순으로 정렬하되 y가 같으면 x가 증가하는 순으로 좌표를 정렬하려면\n",
    "src = [(0,4), (1,2), (1,-1), (2,2), (3,3)]\n",
    "\n",
    "\n",
    "import functools\n",
    "\n",
    "\n",
    "\n",
    "#return 음수 : 먼저 들어온 요소가 앞으로 정렬됨\n",
    "#return 0 : 바뀌지 않음\n",
    "#return 양수 : 나중에 들어온 요소가 앞으로 정렬됨(먼저들어온 요소보다 앞에 배치됨)\n",
    "\n",
    "\n",
    "def xy_compare(n1,n2):\n",
    "    if n1[1] > n2[1]:        # y 좌표가 크면\n",
    "        return 1\n",
    "    elif n1[1] == n2[1]:     # y 좌표가 같으면\n",
    "        if n1[0] > n2[0]:    # x 좌표가 크면 \n",
    "            return 1\n",
    "        elif n1[0] == n2[0]: # x 좌표가 같으면\n",
    "            return 0 \n",
    "        else:                # x 좌표가 작으면\n",
    "            return -1\n",
    "    else:                    #  y좌표가 작으면\n",
    "        return -1\n",
    "    \n",
    "result = sorted(src, key=functools.cmp_to_key(xy_compare))\n",
    "print(result)"
   ]
  },
  {
   "cell_type": "markdown",
   "id": "2f1dffa0",
   "metadata": {},
   "source": [
    "# 웹 페이지를 임시로 저장하려면?\n",
    "## @fubctools.lru_cache(maxsize=128)\n",
    "### 함수의 반환 결과를 캐시하는 데코레이터 최초 요청 이후에는 캐시한 결과를 반환한다. maxsize는 캐시할 수 있는 최대 개수를 의미하며 이를 초과할 때는 호출 빈도가 가장 적은 것부터 캐시에서 사라진다."
   ]
  },
  {
   "cell_type": "code",
   "execution_count": 11,
   "id": "c25d0e2f",
   "metadata": {},
   "outputs": [
    {
     "name": "stdout",
     "output_type": "stream",
     "text": [
      "wikidocs page : 6\n",
      "wikidocs page : 7\n"
     ]
    }
   ],
   "source": [
    "import urllib.request\n",
    "from functools import lru_cache\n",
    "\n",
    "@lru_cache(maxsize=32)  # 데코레이터\n",
    "def get_wikidocs(page):\n",
    "    '''위키 독스의 페이지 번호를 입력 받아 해당 페이지를 읽어 반환하는 함수'''\n",
    "    print(f'wikidocs page : {page}')\n",
    "    resource = f'https://wikidocs.net/{page}'\n",
    "    try:\n",
    "        with urllib.request.urlopen(resource) as s:\n",
    "            return s.read()\n",
    "    except urllib.error.HTTPError:\n",
    "        return 'Not Found'\n",
    "    \n",
    "    \n",
    "first_6 = get_wikidocs(6) # wikidocs page : 6 출력\n",
    "first_7 = get_wikidocs(7)  # wikidocs page : 7 출력 \n",
    "  \n",
    "second_6 = get_wikidocs(6)   # 캐시가 남아 있어 출력 x \n",
    "second_7 = get_wikidocs(7)   # 캐시가 남아 있어 출력 x \n",
    "\n",
    "\n",
    "\n",
    "assert first_6 == second_6\n",
    "assert first_7 == second_7"
   ]
  },
  {
   "cell_type": "markdown",
   "id": "608c10f2",
   "metadata": {},
   "source": [
    "# 기존 함수로 새로운 함수를 만드려면?\n",
    "## functools.partial\n",
    "### 하나 이상의 인수가 이미 채워진 새 버전의 함수를 만들 때 사용하는 함수이다."
   ]
  },
  {
   "cell_type": "code",
   "execution_count": 12,
   "id": "79fd2a86",
   "metadata": {},
   "outputs": [
    {
     "name": "stdout",
     "output_type": "stream",
     "text": [
      "15\n",
      "120\n"
     ]
    }
   ],
   "source": [
    "def add_mul(choice, *args):\n",
    "    if choice == 'add':\n",
    "        result = 0\n",
    "        for i in args:\n",
    "            result += i\n",
    "    \n",
    "    elif choice == 'mul':\n",
    "        result = 1\n",
    "        for i in args:\n",
    "            result *= i\n",
    "    return result\n",
    "\n",
    "print(add_mul('add', 1,2,3,4,5))\n",
    "      \n",
    "print(add_mul('mul', 1,2,3,4,5))"
   ]
  },
  {
   "cell_type": "code",
   "execution_count": 13,
   "id": "63aa8505",
   "metadata": {},
   "outputs": [
    {
     "name": "stdout",
     "output_type": "stream",
     "text": [
      "15\n",
      "120\n"
     ]
    }
   ],
   "source": [
    "# 위 함수를 add(args), mul(args) 처럼 나누고 싶다면\n",
    "\n",
    "from functools import partial\n",
    "\n",
    "add = partial(add_mul, 'add')\n",
    "mul = partial(add_mul, 'mul')\n",
    "\n",
    "print(add(1,2,3,4,5))\n",
    "print(mul(1,2,3,4,5))"
   ]
  },
  {
   "cell_type": "code",
   "execution_count": 14,
   "id": "c0364a55",
   "metadata": {},
   "outputs": [
    {
     "name": "stdout",
     "output_type": "stream",
     "text": [
      "<function add_mul at 0x0000027D51280D30>\n",
      "('add',)\n"
     ]
    }
   ],
   "source": [
    "# partial로 만든 함수에는 func와 args속성이 있음\n",
    "print(add.func)\n",
    "print(add.args)"
   ]
  },
  {
   "cell_type": "markdown",
   "id": "00070967",
   "metadata": {},
   "source": [
    "# 함수를 적용하여 하나의 값으로 줄이려면?\n",
    "## functools.reduce(function, iterable)\n",
    "### function을 반복 가능한 객체의 요소에 차례대로(왼쪽에서 오른쪽으로) 누적 적용하여 이 객체를 하나의 값으로 줄이는 함수이다."
   ]
  },
  {
   "cell_type": "code",
   "execution_count": 15,
   "id": "558a7701",
   "metadata": {},
   "outputs": [
    {
     "name": "stdout",
     "output_type": "stream",
     "text": [
      "15\n"
     ]
    }
   ],
   "source": [
    "def add(data):\n",
    "    result = 0\n",
    "    for i in data:\n",
    "        result += i\n",
    "    return result\n",
    "\n",
    "data = [1,2,3,4,5]\n",
    "result = add(data)\n",
    "print(result)"
   ]
  },
  {
   "cell_type": "code",
   "execution_count": 16,
   "id": "9b5645e1",
   "metadata": {},
   "outputs": [
    {
     "name": "stdout",
     "output_type": "stream",
     "text": [
      "15\n"
     ]
    }
   ],
   "source": [
    "import functools\n",
    "\n",
    "data = [1,2,3,4,5]\n",
    "\n",
    "#  ((((1 + 2) + 3) + 4) + 5)\n",
    "result = functools.reduce(lambda x,y : x+y, data)\n",
    "print(result)"
   ]
  },
  {
   "cell_type": "code",
   "execution_count": 17,
   "id": "9aeaf5d0",
   "metadata": {},
   "outputs": [
    {
     "name": "stdout",
     "output_type": "stream",
     "text": [
      "8\n"
     ]
    }
   ],
   "source": [
    "# ex 최댓값 \n",
    "\n",
    "import functools\n",
    "\n",
    "data = [1,4,2,8,5]\n",
    "\n",
    "result = functools.reduce(lambda x,y : x if x > y else y, data)\n",
    "print(result)"
   ]
  },
  {
   "cell_type": "markdown",
   "id": "29767814",
   "metadata": {},
   "source": [
    "# 래퍼 함수의 속성을 유지하려면?\n",
    "## @functools.wraps(wrapped)\n",
    "### 래퍼 함수를 정의할 때 함수의 이름이나 설명문 같은 속성을 유지하도록 하는 데코레이터"
   ]
  },
  {
   "cell_type": "code",
   "execution_count": 18,
   "id": "2ffe0b45",
   "metadata": {},
   "outputs": [],
   "source": [
    "import time\n",
    "\n",
    "\n",
    "# wrapper함수\n",
    "def elapsed(original_func):\n",
    "    def wrapper(*args, **kwargs):\n",
    "        start = time.time()\n",
    "        result = original_func(*args, **kwargs)\n",
    "        end = time.time()\n",
    "        print(f'함수 수행시간 : {float(end - start)}초')\n",
    "        return result\n",
    "    return wrapper\n",
    "\n",
    "\n",
    "\n",
    "\n",
    "@elapsed\n",
    "def add(a,b):\n",
    "    '''a+b를 반환하는 함수'''\n",
    "    return a+b"
   ]
  },
  {
   "cell_type": "code",
   "execution_count": 19,
   "id": "7b53c758",
   "metadata": {},
   "outputs": [
    {
     "name": "stdout",
     "output_type": "stream",
     "text": [
      "함수 수행시간 : 0.0초\n"
     ]
    }
   ],
   "source": [
    "result = add(90,7)"
   ]
  },
  {
   "cell_type": "code",
   "execution_count": 20,
   "id": "07af5210",
   "metadata": {},
   "outputs": [
    {
     "name": "stdout",
     "output_type": "stream",
     "text": [
      "<function elapsed.<locals>.wrapper at 0x0000027D512C80D0>\n"
     ]
    }
   ],
   "source": [
    "#add() 함수의 이름이 출력되지 않고 elapsed에 대한 정보만 출력\n",
    "print(add)"
   ]
  },
  {
   "cell_type": "code",
   "execution_count": 21,
   "id": "28d44a4a",
   "metadata": {},
   "outputs": [
    {
     "name": "stdout",
     "output_type": "stream",
     "text": [
      "Help on function wrapper in module __main__:\n",
      "\n",
      "wrapper(*args, **kwargs)\n",
      "\n"
     ]
    }
   ],
   "source": [
    "# add()함수의 독스트링이 출력되지 않음 \n",
    "help(add)"
   ]
  },
  {
   "cell_type": "code",
   "execution_count": 22,
   "id": "2dc5eb14",
   "metadata": {},
   "outputs": [],
   "source": [
    "import time\n",
    "import functools\n",
    "\n",
    "# wrapper함수\n",
    "def elapsed(original_func):\n",
    "    @functools.wraps(original_func)\n",
    "    def wrapper(*args, **kwargs):\n",
    "        start = time.time()\n",
    "        result = original_func(*args, **kwargs)\n",
    "        end = time.time()\n",
    "        print(f'함수 수행시간 : {float(end - start)}초')\n",
    "        return result\n",
    "    return wrapper\n",
    "\n",
    "\n",
    "\n",
    "\n",
    "@elapsed\n",
    "def add(a,b):\n",
    "    '''a+b를 반환하는 함수'''\n",
    "    return a+b"
   ]
  },
  {
   "cell_type": "code",
   "execution_count": 23,
   "id": "0e6c412e",
   "metadata": {},
   "outputs": [
    {
     "name": "stdout",
     "output_type": "stream",
     "text": [
      "<function add at 0x0000027D512C8DC0>\n"
     ]
    }
   ],
   "source": [
    "#add() 함수의 이름이 호출\n",
    "print(add)"
   ]
  },
  {
   "cell_type": "code",
   "execution_count": 24,
   "id": "79712632",
   "metadata": {},
   "outputs": [
    {
     "name": "stdout",
     "output_type": "stream",
     "text": [
      "Help on function add in module __main__:\n",
      "\n",
      "add(a, b)\n",
      "    a+b를 반환하는 함수\n",
      "\n"
     ]
    }
   ],
   "source": [
    "# add()함수의 독스트링이 출력 \n",
    "help(add)"
   ]
  },
  {
   "cell_type": "markdown",
   "id": "c065f177",
   "metadata": {},
   "source": [
    "# 다양한 기준으로 정렬하려면?\n",
    "## operator.itemgetter\n",
    "### 주로 sorted와 같은 함수의 key 매개변수에 적용하여 다양한 기준으로 정렬할 수 있도록 하는 모듈"
   ]
  },
  {
   "cell_type": "code",
   "execution_count": 25,
   "id": "ff50ace3",
   "metadata": {},
   "outputs": [
    {
     "name": "stdout",
     "output_type": "stream",
     "text": [
      "[('조찬우', 19, 'AB'), ('황성민', 25, 'A'), ('최승현', 27, 'B')]\n"
     ]
    }
   ],
   "source": [
    "from operator import itemgetter\n",
    "\n",
    "students = [\n",
    "    (\"황성민\", 25, 'A'),\n",
    "    (\"최승현\", 27, 'B'),\n",
    "    (\"조찬우\", 19, 'AB'),\n",
    "]\n",
    "\n",
    "#아이템인 튜플의 두번째 요소로 정렬한다.\n",
    "result = sorted(students, key = itemgetter(1))\n",
    "print(result)"
   ]
  },
  {
   "cell_type": "code",
   "execution_count": 26,
   "id": "a5bbaac0",
   "metadata": {},
   "outputs": [
    {
     "name": "stdout",
     "output_type": "stream",
     "text": [
      "[{'나이': 19, '이름': '조찬우', '혈액형': 'AB'},\n",
      " {'나이': 25, '이름': '황성민', '혈액형': 'A'},\n",
      " {'나이': 27, '이름': '최승현', '혈액형': 'B'}]\n"
     ]
    }
   ],
   "source": [
    "from pprint import pprint\n",
    "\n",
    "students = [\n",
    "    {\"이름\" : \"황성민\", \"나이\" : 25, \"혈액형\" : 'A'},\n",
    "    {\"이름\" : \"최승현\", \"나이\" : 27, \"혈액형\" : 'B'},\n",
    "    {\"이름\" : \"조찬우\", \"나이\" : 19, \"혈액형\" : 'AB'},\n",
    "]\n",
    "\n",
    "result = sorted(students, key = itemgetter(\"나이\"))\n",
    "pprint(result)"
   ]
  },
  {
   "cell_type": "code",
   "execution_count": 27,
   "id": "a5a0e2ee",
   "metadata": {},
   "outputs": [
    {
     "name": "stdout",
     "output_type": "stream",
     "text": [
      "정렬 전\n",
      "[<__main__.Student object at 0x0000027D512C1DF0>,\n",
      " <__main__.Student object at 0x0000027D512C1F70>,\n",
      " <__main__.Student object at 0x0000027D512C1970>]\n",
      "정렬 후\n",
      "[<__main__.Student object at 0x0000027D512C1970>,\n",
      " <__main__.Student object at 0x0000027D512C1DF0>,\n",
      " <__main__.Student object at 0x0000027D512C1F70>]\n"
     ]
    }
   ],
   "source": [
    "#리스트 요소가 튜플이 아닌 클래스의 객체라면 다음처럼 attrgettert()를 적용하여 정렬해야함\n",
    "from operator import attrgetter\n",
    "\n",
    "class Student:\n",
    "    def __init__(self, name,age,blood):\n",
    "        self.name = name\n",
    "        self.age = age\n",
    "        self.blood = blood\n",
    "        \n",
    "student = [\n",
    "    Student(\"황성민\",25,'A'),\n",
    "    Student(\"최승현\",27,'B'),\n",
    "    Student(\"조찬우\",19,'AA')\n",
    "]      \n",
    "\n",
    "print('정렬 전')\n",
    "pprint(student)\n",
    "\n",
    "print('정렬 후')\n",
    "result = sorted(student, key = attrgetter('age'))\n",
    "pprint(result)"
   ]
  },
  {
   "cell_type": "code",
   "execution_count": null,
   "id": "c3a01c42",
   "metadata": {},
   "outputs": [],
   "source": []
  }
 ],
 "metadata": {
  "kernelspec": {
   "display_name": "Python 3",
   "language": "python",
   "name": "python3"
  },
  "language_info": {
   "codemirror_mode": {
    "name": "ipython",
    "version": 3
   },
   "file_extension": ".py",
   "mimetype": "text/x-python",
   "name": "python",
   "nbconvert_exporter": "python",
   "pygments_lexer": "ipython3",
   "version": "3.8.8"
  }
 },
 "nbformat": 4,
 "nbformat_minor": 5
}
