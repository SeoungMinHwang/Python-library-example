{
 "cells": [
  {
   "cell_type": "markdown",
   "id": "601d1df1",
   "metadata": {},
   "source": [
    "# 과자를 똑같이 나누어 담으려면?(math.gcd)\n",
    "### (Greatest, Common Divisor)최대공약수를 쉽게 구함"
   ]
  },
  {
   "cell_type": "code",
   "execution_count": 1,
   "id": "a0600e00",
   "metadata": {},
   "outputs": [
    {
     "data": {
      "text/plain": [
       "20"
      ]
     },
     "execution_count": 1,
     "metadata": {},
     "output_type": "execute_result"
    }
   ],
   "source": [
    "import math\n",
    "\n",
    "\n",
    "math.gcd(math.gcd(60,100),80)\n",
    "#python 버전 3.9이상부터는 아래와 같이 사용\n",
    "#math.gcd(60,100,80)"
   ]
  },
  {
   "cell_type": "markdown",
   "id": "7b471270",
   "metadata": {},
   "source": [
    "# 버스가 동시에 도착할 시각을 알려면?(math.lcm)\n",
    "### 최소공배수를 구하는 함수(Least Common Multiple)"
   ]
  },
  {
   "cell_type": "code",
   "execution_count": 2,
   "id": "939950f6",
   "metadata": {},
   "outputs": [
    {
     "data": {
      "text/plain": [
       "75.0"
      ]
     },
     "execution_count": 2,
     "metadata": {},
     "output_type": "execute_result"
    }
   ],
   "source": [
    "import math\n",
    "\n",
    "\n",
    "15*25/math.gcd(15,25)\n",
    "\n",
    "\n",
    "# 마찬가지로 파이썬 3.9부터 사용가능 \n",
    "#math.lcm(15,25) "
   ]
  },
  {
   "cell_type": "markdown",
   "id": "52976b26",
   "metadata": {},
   "source": [
    "# 소수점을 정확하게 계산하려면?(decimal.Decimal)\n",
    "### 정확한 소수점 자릿수를 표현할 때 싸용하는 모듈"
   ]
  },
  {
   "cell_type": "code",
   "execution_count": 3,
   "id": "395f8830",
   "metadata": {},
   "outputs": [
    {
     "name": "stdout",
     "output_type": "stream",
     "text": [
      "0.1 * 3 = 0.30000000000000004\n",
      "1.2 - 1 = 0.19999999999999996\n",
      "0.1 * 0.1 = 0.010000000000000002\n"
     ]
    }
   ],
   "source": [
    "print(f'''0.1 * 3 = {0.1*3}\n",
    "1.2 - 1 = {1.2 - 1}\n",
    "0.1 * 0.1 = {0.1*0.1}''')"
   ]
  },
  {
   "cell_type": "code",
   "execution_count": 4,
   "id": "5da761ef",
   "metadata": {},
   "outputs": [],
   "source": [
    "from decimal import Decimal\n"
   ]
  },
  {
   "cell_type": "code",
   "execution_count": 5,
   "id": "65eb8072",
   "metadata": {},
   "outputs": [
    {
     "data": {
      "text/plain": [
       "Decimal('0.3')"
      ]
     },
     "execution_count": 5,
     "metadata": {},
     "output_type": "execute_result"
    }
   ],
   "source": [
    "Decimal('0.1') * 3"
   ]
  },
  {
   "cell_type": "code",
   "execution_count": 6,
   "id": "8bb73892",
   "metadata": {},
   "outputs": [
    {
     "data": {
      "text/plain": [
       "Decimal('1.1')"
      ]
     },
     "execution_count": 6,
     "metadata": {},
     "output_type": "execute_result"
    }
   ],
   "source": [
    "Decimal('1.2') - Decimal('0.1')"
   ]
  },
  {
   "cell_type": "code",
   "execution_count": 7,
   "id": "2832b276",
   "metadata": {},
   "outputs": [
    {
     "data": {
      "text/plain": [
       "Decimal('0.01')"
      ]
     },
     "execution_count": 7,
     "metadata": {},
     "output_type": "execute_result"
    }
   ],
   "source": [
    "Decimal('0.1') * Decimal('0.1')"
   ]
  },
  {
   "cell_type": "code",
   "execution_count": 8,
   "id": "db7dd39b",
   "metadata": {},
   "outputs": [
    {
     "data": {
      "text/plain": [
       "0.01"
      ]
     },
     "execution_count": 8,
     "metadata": {},
     "output_type": "execute_result"
    }
   ],
   "source": [
    "float(Decimal('0.1') * Decimal('0.1'))"
   ]
  },
  {
   "cell_type": "markdown",
   "id": "0d7c9be4",
   "metadata": {},
   "source": [
    "# 분수를 정확하게 계산하려면?(fractions)\n",
    "### 유리수를 계산할 때 사용하는 모듈"
   ]
  },
  {
   "cell_type": "code",
   "execution_count": 9,
   "id": "84a187f3",
   "metadata": {},
   "outputs": [
    {
     "data": {
      "text/plain": [
       "0.6000000000000001"
      ]
     },
     "execution_count": 9,
     "metadata": {},
     "output_type": "execute_result"
    }
   ],
   "source": [
    "1/5 + 2/5"
   ]
  },
  {
   "cell_type": "code",
   "execution_count": 10,
   "id": "ea8016e1",
   "metadata": {},
   "outputs": [
    {
     "name": "stdout",
     "output_type": "stream",
     "text": [
      "Fraction(분자, 분모)\n"
     ]
    },
    {
     "data": {
      "text/plain": [
       "Fraction(1, 5)"
      ]
     },
     "execution_count": 10,
     "metadata": {},
     "output_type": "execute_result"
    }
   ],
   "source": [
    "from fractions import Fraction\n",
    "\n",
    "a = Fraction(1,5)\n",
    "\n",
    "print('Fraction(분자, 분모)')\n",
    "a\n"
   ]
  },
  {
   "cell_type": "code",
   "execution_count": 11,
   "id": "5cd2d84a",
   "metadata": {},
   "outputs": [
    {
     "data": {
      "text/plain": [
       "1"
      ]
     },
     "execution_count": 11,
     "metadata": {},
     "output_type": "execute_result"
    }
   ],
   "source": [
    "a.numerator # 분자 값"
   ]
  },
  {
   "cell_type": "code",
   "execution_count": 12,
   "id": "5052f80b",
   "metadata": {},
   "outputs": [
    {
     "data": {
      "text/plain": [
       "5"
      ]
     },
     "execution_count": 12,
     "metadata": {},
     "output_type": "execute_result"
    }
   ],
   "source": [
    "a.denominator # 분모 값"
   ]
  },
  {
   "cell_type": "code",
   "execution_count": 13,
   "id": "006a2e31",
   "metadata": {},
   "outputs": [
    {
     "data": {
      "text/plain": [
       "Fraction(3, 5)"
      ]
     },
     "execution_count": 13,
     "metadata": {},
     "output_type": "execute_result"
    }
   ],
   "source": [
    "result = Fraction(1,5) + Fraction(2,5)\n",
    "result"
   ]
  },
  {
   "cell_type": "code",
   "execution_count": 14,
   "id": "ac2ae2d2",
   "metadata": {},
   "outputs": [
    {
     "data": {
      "text/plain": [
       "0.6"
      ]
     },
     "execution_count": 14,
     "metadata": {},
     "output_type": "execute_result"
    }
   ],
   "source": [
    "float(result)"
   ]
  },
  {
   "cell_type": "markdown",
   "id": "99677837",
   "metadata": {},
   "source": [
    "# 로또 번호를 뽑으려면(random)\n",
    "### 난수 생성 모듈 "
   ]
  },
  {
   "cell_type": "code",
   "execution_count": 15,
   "id": "18653fa9",
   "metadata": {},
   "outputs": [
    {
     "name": "stdout",
     "output_type": "stream",
     "text": [
      "[27, 43, 3, 11, 4, 30]\n"
     ]
    }
   ],
   "source": [
    "import random\n",
    "\n",
    "result = []\n",
    "while len(result) < 6:\n",
    "    num = random.randint(1,45) # 1~45사이의 난수 생성\n",
    "    if num not in result:\n",
    "        result.append(num)\n",
    "        \n",
    "print(result)"
   ]
  },
  {
   "cell_type": "code",
   "execution_count": 16,
   "id": "4bdbc951",
   "metadata": {},
   "outputs": [
    {
     "data": {
      "text/plain": [
       "[3, 30, 27, 11, 4, 43]"
      ]
     },
     "execution_count": 16,
     "metadata": {},
     "output_type": "execute_result"
    }
   ],
   "source": [
    "#리스트를 무작위로 썩고 싶을 때 \n",
    "random.shuffle(result)\n",
    "result"
   ]
  },
  {
   "cell_type": "code",
   "execution_count": 17,
   "id": "afb14a9b",
   "metadata": {},
   "outputs": [
    {
     "data": {
      "text/plain": [
       "4"
      ]
     },
     "execution_count": 17,
     "metadata": {},
     "output_type": "execute_result"
    }
   ],
   "source": [
    "#리스트에서 무작위로 하나를 선택\n",
    "random.choice(result)"
   ]
  },
  {
   "cell_type": "markdown",
   "id": "dff272d7",
   "metadata": {},
   "source": [
    "# 시험 결과의 평균값과 중앙값을 알려면?\n",
    "## statistics.mean()\n",
    "## statistics.median()\n",
    "### 평균값과 중앙값을 구할 때 사용하는 모듈"
   ]
  },
  {
   "cell_type": "code",
   "execution_count": 18,
   "id": "1be02650",
   "metadata": {},
   "outputs": [],
   "source": [
    "import statistics\n",
    "marks = [78,93,99,95,51,71,52,43,81,78]"
   ]
  },
  {
   "cell_type": "code",
   "execution_count": 19,
   "id": "6645fe6e",
   "metadata": {},
   "outputs": [
    {
     "data": {
      "text/plain": [
       "74.1"
      ]
     },
     "execution_count": 19,
     "metadata": {},
     "output_type": "execute_result"
    }
   ],
   "source": [
    "statistics.mean(marks)"
   ]
  },
  {
   "cell_type": "code",
   "execution_count": 20,
   "id": "075ed78e",
   "metadata": {},
   "outputs": [
    {
     "data": {
      "text/plain": [
       "78.0"
      ]
     },
     "execution_count": 20,
     "metadata": {},
     "output_type": "execute_result"
    }
   ],
   "source": [
    "statistics.median(marks)"
   ]
  },
  {
   "cell_type": "code",
   "execution_count": null,
   "id": "cc963897",
   "metadata": {},
   "outputs": [],
   "source": []
  }
 ],
 "metadata": {
  "kernelspec": {
   "display_name": "Python 3",
   "language": "python",
   "name": "python3"
  },
  "language_info": {
   "codemirror_mode": {
    "name": "ipython",
    "version": 3
   },
   "file_extension": ".py",
   "mimetype": "text/x-python",
   "name": "python",
   "nbconvert_exporter": "python",
   "pygments_lexer": "ipython3",
   "version": "3.8.8"
  }
 },
 "nbformat": 4,
 "nbformat_minor": 5
}
